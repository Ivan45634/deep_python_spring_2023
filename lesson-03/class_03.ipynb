{
 "cells": [
  {
   "cell_type": "code",
   "execution_count": 130,
   "id": "4d871ddb",
   "metadata": {},
   "outputs": [],
   "source": [
    "class ClassA:\n",
    "    name = \"cls_name\"\n",
    "    __cls_private = \"cls_private\"\n",
    "\n",
    "    def __init__(self, val):\n",
    "        self.val = val\n",
    "        self._protected = \"protected\"\n",
    "        self.__private = \"private\"  # self._ClassA__private\n",
    "\n",
    "    def print(self):\n",
    "        print(\n",
    "            f\"{self.val=}, {self._protected=}, {self.__private=}, \"\n",
    "            f\"{self.name=}, {self.__cls_private=}\"\n",
    "        )\n",
    "    \n",
    "    def print_new(self):\n",
    "        print(f\"{self.__new_private=}, {self.new_val=}\")\n",
    "        \n",
    "    def update(self):\n",
    "        print(f\"{self.val=}\")"
   ]
  },
  {
   "cell_type": "code",
   "execution_count": 32,
   "id": "38a6fa58",
   "metadata": {},
   "outputs": [],
   "source": [
    "a = ClassA(10)"
   ]
  },
  {
   "cell_type": "code",
   "execution_count": 6,
   "id": "2aae9872",
   "metadata": {},
   "outputs": [
    {
     "data": {
      "text/plain": [
       "(type, __main__.ClassA)"
      ]
     },
     "execution_count": 6,
     "metadata": {},
     "output_type": "execute_result"
    }
   ],
   "source": [
    "type(ClassA), ClassA"
   ]
  },
  {
   "cell_type": "code",
   "execution_count": 7,
   "id": "1d25ff7a",
   "metadata": {},
   "outputs": [
    {
     "data": {
      "text/plain": [
       "__main__.ClassA"
      ]
     },
     "execution_count": 7,
     "metadata": {},
     "output_type": "execute_result"
    }
   ],
   "source": [
    "type(a)"
   ]
  },
  {
   "cell_type": "code",
   "execution_count": 8,
   "id": "270e1382",
   "metadata": {},
   "outputs": [
    {
     "data": {
      "text/plain": [
       "mappingproxy({'__module__': '__main__',\n",
       "              'name': 'cls_name',\n",
       "              '_ClassA__cls_private': 'cls_private',\n",
       "              '__init__': <function __main__.ClassA.__init__(self, val)>,\n",
       "              'print': <function __main__.ClassA.print(self)>,\n",
       "              '__dict__': <attribute '__dict__' of 'ClassA' objects>,\n",
       "              '__weakref__': <attribute '__weakref__' of 'ClassA' objects>,\n",
       "              '__doc__': None})"
      ]
     },
     "execution_count": 8,
     "metadata": {},
     "output_type": "execute_result"
    }
   ],
   "source": [
    "ClassA.__dict__"
   ]
  },
  {
   "cell_type": "code",
   "execution_count": 9,
   "id": "9c4a8e89",
   "metadata": {},
   "outputs": [
    {
     "data": {
      "text/plain": [
       "{'val': 10, '_protected': 'protected', '_ClassA__private': 'private'}"
      ]
     },
     "execution_count": 9,
     "metadata": {},
     "output_type": "execute_result"
    }
   ],
   "source": [
    "a.__dict__"
   ]
  },
  {
   "cell_type": "code",
   "execution_count": 10,
   "id": "67ec40c7",
   "metadata": {},
   "outputs": [
    {
     "data": {
      "text/plain": [
       "<bound method ClassA.print of <__main__.ClassA object at 0x111bfcd60>>"
      ]
     },
     "execution_count": 10,
     "metadata": {},
     "output_type": "execute_result"
    }
   ],
   "source": [
    "a.print"
   ]
  },
  {
   "cell_type": "code",
   "execution_count": 11,
   "id": "24240203",
   "metadata": {},
   "outputs": [],
   "source": [
    "b = ClassA(20)"
   ]
  },
  {
   "cell_type": "code",
   "execution_count": 12,
   "id": "9ae24060",
   "metadata": {},
   "outputs": [
    {
     "data": {
      "text/plain": [
       "<bound method ClassA.print of <__main__.ClassA object at 0x111c3d090>>"
      ]
     },
     "execution_count": 12,
     "metadata": {},
     "output_type": "execute_result"
    }
   ],
   "source": [
    "b.print"
   ]
  },
  {
   "cell_type": "code",
   "execution_count": 13,
   "id": "0e41ddea",
   "metadata": {},
   "outputs": [
    {
     "data": {
      "text/plain": [
       "False"
      ]
     },
     "execution_count": 13,
     "metadata": {},
     "output_type": "execute_result"
    }
   ],
   "source": [
    "a.print is b.print"
   ]
  },
  {
   "cell_type": "code",
   "execution_count": 14,
   "id": "e1ef31a1",
   "metadata": {},
   "outputs": [
    {
     "name": "stdout",
     "output_type": "stream",
     "text": [
      "self.val=10, self._protected='protected', self.__private='private', self.name='cls_name', self.__cls_private='cls_private'\n"
     ]
    }
   ],
   "source": [
    "a.print()"
   ]
  },
  {
   "cell_type": "code",
   "execution_count": 15,
   "id": "0bb1eba3",
   "metadata": {},
   "outputs": [
    {
     "data": {
      "text/plain": [
       "(10, 'protected')"
      ]
     },
     "execution_count": 15,
     "metadata": {},
     "output_type": "execute_result"
    }
   ],
   "source": [
    "a.val, a._protected"
   ]
  },
  {
   "cell_type": "code",
   "execution_count": 16,
   "id": "f9c58412",
   "metadata": {},
   "outputs": [
    {
     "ename": "AttributeError",
     "evalue": "'ClassA' object has no attribute '__private'",
     "output_type": "error",
     "traceback": [
      "\u001b[0;31m---------------------------------------------------------------------------\u001b[0m",
      "\u001b[0;31mAttributeError\u001b[0m                            Traceback (most recent call last)",
      "Cell \u001b[0;32mIn[16], line 1\u001b[0m\n\u001b[0;32m----> 1\u001b[0m \u001b[43ma\u001b[49m\u001b[38;5;241;43m.\u001b[39;49m\u001b[43m__private\u001b[49m\n",
      "\u001b[0;31mAttributeError\u001b[0m: 'ClassA' object has no attribute '__private'"
     ]
    }
   ],
   "source": [
    "a.__private"
   ]
  },
  {
   "cell_type": "code",
   "execution_count": 18,
   "id": "b1480874",
   "metadata": {},
   "outputs": [
    {
     "data": {
      "text/plain": [
       "(42, 'stirng')"
      ]
     },
     "execution_count": 18,
     "metadata": {},
     "output_type": "execute_result"
    }
   ],
   "source": [
    "a.val = 42\n",
    "a._protected = \"stirng\"\n",
    "\n",
    "a.val, a._protected"
   ]
  },
  {
   "cell_type": "code",
   "execution_count": 19,
   "id": "f1d86980",
   "metadata": {},
   "outputs": [],
   "source": [
    "a.__private = \"99\""
   ]
  },
  {
   "cell_type": "code",
   "execution_count": 20,
   "id": "dc74ca5e",
   "metadata": {},
   "outputs": [
    {
     "data": {
      "text/plain": [
       "{'val': 42,\n",
       " '_protected': 'stirng',\n",
       " '_ClassA__private': 'private',\n",
       " '__private': '99'}"
      ]
     },
     "execution_count": 20,
     "metadata": {},
     "output_type": "execute_result"
    }
   ],
   "source": [
    "a.__dict__"
   ]
  },
  {
   "cell_type": "code",
   "execution_count": 21,
   "id": "8cd56b50",
   "metadata": {},
   "outputs": [
    {
     "data": {
      "text/plain": [
       "'private'"
      ]
     },
     "execution_count": 21,
     "metadata": {},
     "output_type": "execute_result"
    }
   ],
   "source": [
    "a._ClassA__private"
   ]
  },
  {
   "cell_type": "code",
   "execution_count": 23,
   "id": "498bdf50",
   "metadata": {},
   "outputs": [
    {
     "data": {
      "text/plain": [
       "'updated_private'"
      ]
     },
     "execution_count": 23,
     "metadata": {},
     "output_type": "execute_result"
    }
   ],
   "source": [
    "a._ClassA__private = \"updated_private\"\n",
    "a._ClassA__private"
   ]
  },
  {
   "cell_type": "code",
   "execution_count": 24,
   "id": "068d1f84",
   "metadata": {},
   "outputs": [
    {
     "data": {
      "text/plain": [
       "{'val': 42,\n",
       " '_protected': 'stirng',\n",
       " '_ClassA__private': 'updated_private',\n",
       " '__private': '99'}"
      ]
     },
     "execution_count": 24,
     "metadata": {},
     "output_type": "execute_result"
    }
   ],
   "source": [
    "a.__dict__"
   ]
  },
  {
   "cell_type": "code",
   "execution_count": 33,
   "id": "875bfb7d",
   "metadata": {},
   "outputs": [
    {
     "ename": "AttributeError",
     "evalue": "'ClassA' object has no attribute 'new_val'",
     "output_type": "error",
     "traceback": [
      "\u001b[0;31m---------------------------------------------------------------------------\u001b[0m",
      "\u001b[0;31mAttributeError\u001b[0m                            Traceback (most recent call last)",
      "Cell \u001b[0;32mIn[33], line 1\u001b[0m\n\u001b[0;32m----> 1\u001b[0m \u001b[43ma\u001b[49m\u001b[38;5;241;43m.\u001b[39;49m\u001b[43mnew_val\u001b[49m\n",
      "\u001b[0;31mAttributeError\u001b[0m: 'ClassA' object has no attribute 'new_val'"
     ]
    }
   ],
   "source": [
    "a.new_val"
   ]
  },
  {
   "cell_type": "code",
   "execution_count": 34,
   "id": "5f353c88",
   "metadata": {},
   "outputs": [],
   "source": [
    "a.new_val = \"new_val\""
   ]
  },
  {
   "cell_type": "code",
   "execution_count": 35,
   "id": "4b7b7171",
   "metadata": {},
   "outputs": [
    {
     "data": {
      "text/plain": [
       "{'val': 10,\n",
       " '_protected': 'protected',\n",
       " '_ClassA__private': 'private',\n",
       " 'new_val': 'new_val'}"
      ]
     },
     "execution_count": 35,
     "metadata": {},
     "output_type": "execute_result"
    }
   ],
   "source": [
    "a.__dict__"
   ]
  },
  {
   "cell_type": "code",
   "execution_count": 36,
   "id": "cc58dae3",
   "metadata": {},
   "outputs": [
    {
     "data": {
      "text/plain": [
       "'new_val'"
      ]
     },
     "execution_count": 36,
     "metadata": {},
     "output_type": "execute_result"
    }
   ],
   "source": [
    "a.new_val"
   ]
  },
  {
   "cell_type": "code",
   "execution_count": 37,
   "id": "32726c6d",
   "metadata": {},
   "outputs": [],
   "source": [
    "a._ClassA__new_private = \"new_private\""
   ]
  },
  {
   "cell_type": "code",
   "execution_count": 38,
   "id": "8de5ef6d",
   "metadata": {},
   "outputs": [
    {
     "data": {
      "text/plain": [
       "{'val': 10,\n",
       " '_protected': 'protected',\n",
       " '_ClassA__private': 'private',\n",
       " 'new_val': 'new_val',\n",
       " '_ClassA__new_private': 'new_private'}"
      ]
     },
     "execution_count": 38,
     "metadata": {},
     "output_type": "execute_result"
    }
   ],
   "source": [
    "a.__dict__"
   ]
  },
  {
   "cell_type": "code",
   "execution_count": 39,
   "id": "9f8c5a5f",
   "metadata": {},
   "outputs": [
    {
     "name": "stdout",
     "output_type": "stream",
     "text": [
      "self.__new_private='new_private', self.new_val='new_val'\n"
     ]
    }
   ],
   "source": [
    "a.print_new()"
   ]
  },
  {
   "cell_type": "code",
   "execution_count": 40,
   "id": "21cc0455",
   "metadata": {},
   "outputs": [
    {
     "ename": "AttributeError",
     "evalue": "type object 'ClassA' has no attribute '__cls_private'",
     "output_type": "error",
     "traceback": [
      "\u001b[0;31m---------------------------------------------------------------------------\u001b[0m",
      "\u001b[0;31mAttributeError\u001b[0m                            Traceback (most recent call last)",
      "Cell \u001b[0;32mIn[40], line 1\u001b[0m\n\u001b[0;32m----> 1\u001b[0m \u001b[43mClassA\u001b[49m\u001b[38;5;241;43m.\u001b[39;49m\u001b[43m__cls_private\u001b[49m\n",
      "\u001b[0;31mAttributeError\u001b[0m: type object 'ClassA' has no attribute '__cls_private'"
     ]
    }
   ],
   "source": [
    "ClassA.__cls_private"
   ]
  },
  {
   "cell_type": "code",
   "execution_count": 41,
   "id": "34d7caab",
   "metadata": {},
   "outputs": [
    {
     "data": {
      "text/plain": [
       "'cls_private'"
      ]
     },
     "execution_count": 41,
     "metadata": {},
     "output_type": "execute_result"
    }
   ],
   "source": [
    "ClassA._ClassA__cls_private"
   ]
  },
  {
   "cell_type": "code",
   "execution_count": 42,
   "id": "3428b36e",
   "metadata": {},
   "outputs": [],
   "source": [
    "ClassA._ClassA__cls_private = \"updated_cls_private\""
   ]
  },
  {
   "cell_type": "code",
   "execution_count": 43,
   "id": "fcd8e5de",
   "metadata": {},
   "outputs": [
    {
     "data": {
      "text/plain": [
       "'updated_cls_private'"
      ]
     },
     "execution_count": 43,
     "metadata": {},
     "output_type": "execute_result"
    }
   ],
   "source": [
    "ClassA._ClassA__cls_private"
   ]
  },
  {
   "cell_type": "code",
   "execution_count": null,
   "id": "6d2b1d17",
   "metadata": {},
   "outputs": [],
   "source": []
  },
  {
   "cell_type": "code",
   "execution_count": null,
   "id": "3289bc38",
   "metadata": {},
   "outputs": [],
   "source": []
  },
  {
   "cell_type": "code",
   "execution_count": 44,
   "id": "59d70904",
   "metadata": {},
   "outputs": [
    {
     "data": {
      "text/plain": [
       "'cls_name'"
      ]
     },
     "execution_count": 44,
     "metadata": {},
     "output_type": "execute_result"
    }
   ],
   "source": [
    "ClassA.name"
   ]
  },
  {
   "cell_type": "code",
   "execution_count": 46,
   "id": "91760ada",
   "metadata": {},
   "outputs": [
    {
     "data": {
      "text/plain": [
       "'cls_name'"
      ]
     },
     "execution_count": 46,
     "metadata": {},
     "output_type": "execute_result"
    }
   ],
   "source": [
    "a.__class__.name"
   ]
  },
  {
   "cell_type": "code",
   "execution_count": 47,
   "id": "9f4871e2",
   "metadata": {},
   "outputs": [
    {
     "data": {
      "text/plain": [
       "'cls_name'"
      ]
     },
     "execution_count": 47,
     "metadata": {},
     "output_type": "execute_result"
    }
   ],
   "source": [
    "a.name"
   ]
  },
  {
   "cell_type": "code",
   "execution_count": 48,
   "id": "ec312e3b",
   "metadata": {},
   "outputs": [
    {
     "data": {
      "text/plain": [
       "{'val': 10,\n",
       " '_protected': 'protected',\n",
       " '_ClassA__private': 'private',\n",
       " 'new_val': 'new_val',\n",
       " '_ClassA__new_private': 'new_private'}"
      ]
     },
     "execution_count": 48,
     "metadata": {},
     "output_type": "execute_result"
    }
   ],
   "source": [
    "a.__dict__"
   ]
  },
  {
   "cell_type": "code",
   "execution_count": 49,
   "id": "7f898758",
   "metadata": {},
   "outputs": [],
   "source": [
    "b = ClassA(99)"
   ]
  },
  {
   "cell_type": "code",
   "execution_count": 50,
   "id": "c4e31ac1",
   "metadata": {},
   "outputs": [
    {
     "data": {
      "text/plain": [
       "'cls_name'"
      ]
     },
     "execution_count": 50,
     "metadata": {},
     "output_type": "execute_result"
    }
   ],
   "source": [
    "b.name"
   ]
  },
  {
   "cell_type": "code",
   "execution_count": 51,
   "id": "59257b52",
   "metadata": {},
   "outputs": [],
   "source": [
    "a.name = \"up_a_name\""
   ]
  },
  {
   "cell_type": "code",
   "execution_count": 52,
   "id": "a571408c",
   "metadata": {},
   "outputs": [
    {
     "data": {
      "text/plain": [
       "'up_a_name'"
      ]
     },
     "execution_count": 52,
     "metadata": {},
     "output_type": "execute_result"
    }
   ],
   "source": [
    "a.name"
   ]
  },
  {
   "cell_type": "code",
   "execution_count": 53,
   "id": "199e4960",
   "metadata": {},
   "outputs": [
    {
     "data": {
      "text/plain": [
       "'cls_name'"
      ]
     },
     "execution_count": 53,
     "metadata": {},
     "output_type": "execute_result"
    }
   ],
   "source": [
    "b.name"
   ]
  },
  {
   "cell_type": "code",
   "execution_count": 54,
   "id": "d1c1d5b4",
   "metadata": {},
   "outputs": [
    {
     "data": {
      "text/plain": [
       "{'val': 10,\n",
       " '_protected': 'protected',\n",
       " '_ClassA__private': 'private',\n",
       " 'new_val': 'new_val',\n",
       " '_ClassA__new_private': 'new_private',\n",
       " 'name': 'up_a_name'}"
      ]
     },
     "execution_count": 54,
     "metadata": {},
     "output_type": "execute_result"
    }
   ],
   "source": [
    "a.__dict__"
   ]
  },
  {
   "cell_type": "code",
   "execution_count": 56,
   "id": "b21f20bc",
   "metadata": {},
   "outputs": [
    {
     "data": {
      "text/plain": [
       "('cls_name', 'cls_name', 'up_a_name')"
      ]
     },
     "execution_count": 56,
     "metadata": {},
     "output_type": "execute_result"
    }
   ],
   "source": [
    "ClassA.name, b.name, a.name"
   ]
  },
  {
   "cell_type": "code",
   "execution_count": 57,
   "id": "abc82117",
   "metadata": {},
   "outputs": [],
   "source": [
    "a.__class__.name = \"updated class name\""
   ]
  },
  {
   "cell_type": "code",
   "execution_count": 58,
   "id": "d95c7b96",
   "metadata": {},
   "outputs": [
    {
     "data": {
      "text/plain": [
       "('updated class name', 'updated class name', 'up_a_name')"
      ]
     },
     "execution_count": 58,
     "metadata": {},
     "output_type": "execute_result"
    }
   ],
   "source": [
    "ClassA.name, b.name, a.name"
   ]
  },
  {
   "cell_type": "code",
   "execution_count": 59,
   "id": "273d13bb",
   "metadata": {},
   "outputs": [],
   "source": [
    "ClassA.name = \"updated 2 class name\""
   ]
  },
  {
   "cell_type": "code",
   "execution_count": 60,
   "id": "58603302",
   "metadata": {},
   "outputs": [
    {
     "data": {
      "text/plain": [
       "('updated 2 class name', 'updated 2 class name', 'up_a_name')"
      ]
     },
     "execution_count": 60,
     "metadata": {},
     "output_type": "execute_result"
    }
   ],
   "source": [
    "ClassA.name, b.name, a.name"
   ]
  },
  {
   "cell_type": "code",
   "execution_count": 61,
   "id": "fe1be0b4",
   "metadata": {},
   "outputs": [],
   "source": [
    "del a.name"
   ]
  },
  {
   "cell_type": "code",
   "execution_count": 62,
   "id": "c8c588e1",
   "metadata": {},
   "outputs": [
    {
     "data": {
      "text/plain": [
       "('updated 2 class name', 'updated 2 class name', 'updated 2 class name')"
      ]
     },
     "execution_count": 62,
     "metadata": {},
     "output_type": "execute_result"
    }
   ],
   "source": [
    "ClassA.name, b.name, a.name"
   ]
  },
  {
   "cell_type": "code",
   "execution_count": 63,
   "id": "95194e7b",
   "metadata": {},
   "outputs": [
    {
     "data": {
      "text/plain": [
       "{'val': 10,\n",
       " '_protected': 'protected',\n",
       " '_ClassA__private': 'private',\n",
       " 'new_val': 'new_val',\n",
       " '_ClassA__new_private': 'new_private'}"
      ]
     },
     "execution_count": 63,
     "metadata": {},
     "output_type": "execute_result"
    }
   ],
   "source": [
    "a.__dict__"
   ]
  },
  {
   "cell_type": "code",
   "execution_count": 65,
   "id": "33c5231f",
   "metadata": {},
   "outputs": [
    {
     "name": "stdout",
     "output_type": "stream",
     "text": [
      "self.__new_private='new_private', self.new_val='new_val'\n"
     ]
    }
   ],
   "source": [
    "a.print_new()"
   ]
  },
  {
   "cell_type": "code",
   "execution_count": 66,
   "id": "86850c11",
   "metadata": {},
   "outputs": [],
   "source": [
    "a.__new_private = \"qwerty\""
   ]
  },
  {
   "cell_type": "code",
   "execution_count": 67,
   "id": "bc2569b4",
   "metadata": {},
   "outputs": [
    {
     "data": {
      "text/plain": [
       "{'val': 10,\n",
       " '_protected': 'protected',\n",
       " '_ClassA__private': 'private',\n",
       " 'new_val': 'new_val',\n",
       " '_ClassA__new_private': 'new_private',\n",
       " '__new_private': 'qwerty'}"
      ]
     },
     "execution_count": 67,
     "metadata": {},
     "output_type": "execute_result"
    }
   ],
   "source": [
    "a.__dict__"
   ]
  },
  {
   "cell_type": "code",
   "execution_count": 69,
   "id": "d15cd574",
   "metadata": {},
   "outputs": [
    {
     "name": "stdout",
     "output_type": "stream",
     "text": [
      "self.__new_private='new_private', self.new_val='new_val'\n"
     ]
    }
   ],
   "source": [
    "a.print_new()"
   ]
  },
  {
   "cell_type": "code",
   "execution_count": 70,
   "id": "46b7bd0a",
   "metadata": {},
   "outputs": [
    {
     "data": {
      "text/plain": [
       "'qwerty'"
      ]
     },
     "execution_count": 70,
     "metadata": {},
     "output_type": "execute_result"
    }
   ],
   "source": [
    "a.__dict__[\"__new_private\"]"
   ]
  },
  {
   "cell_type": "code",
   "execution_count": 71,
   "id": "00333dfd",
   "metadata": {},
   "outputs": [],
   "source": [
    "a.__dict__[\"1234\"] = \"4344\""
   ]
  },
  {
   "cell_type": "code",
   "execution_count": 72,
   "id": "0606ddee",
   "metadata": {},
   "outputs": [
    {
     "data": {
      "text/plain": [
       "{'val': 10,\n",
       " '_protected': 'protected',\n",
       " '_ClassA__private': 'private',\n",
       " 'new_val': 'new_val',\n",
       " '_ClassA__new_private': 'new_private',\n",
       " '__new_private': 'qwerty',\n",
       " '1234': '4344'}"
      ]
     },
     "execution_count": 72,
     "metadata": {},
     "output_type": "execute_result"
    }
   ],
   "source": [
    "a.__dict__"
   ]
  },
  {
   "cell_type": "code",
   "execution_count": 73,
   "id": "83dd423f",
   "metadata": {},
   "outputs": [
    {
     "ename": "SyntaxError",
     "evalue": "invalid syntax (3742235789.py, line 1)",
     "output_type": "error",
     "traceback": [
      "\u001b[0;36m  Cell \u001b[0;32mIn[73], line 1\u001b[0;36m\u001b[0m\n\u001b[0;31m    a.1234\u001b[0m\n\u001b[0m     ^\u001b[0m\n\u001b[0;31mSyntaxError\u001b[0m\u001b[0;31m:\u001b[0m invalid syntax\n"
     ]
    }
   ],
   "source": [
    "a.1234"
   ]
  },
  {
   "cell_type": "code",
   "execution_count": 74,
   "id": "8ad052ac",
   "metadata": {},
   "outputs": [],
   "source": [
    "var_name = 10"
   ]
  },
  {
   "cell_type": "code",
   "execution_count": 75,
   "id": "5cd8fd16",
   "metadata": {},
   "outputs": [
    {
     "ename": "SyntaxError",
     "evalue": "invalid decimal literal (60578169.py, line 1)",
     "output_type": "error",
     "traceback": [
      "\u001b[0;36m  Cell \u001b[0;32mIn[75], line 1\u001b[0;36m\u001b[0m\n\u001b[0;31m    1var_name = 10\u001b[0m\n\u001b[0m    ^\u001b[0m\n\u001b[0;31mSyntaxError\u001b[0m\u001b[0;31m:\u001b[0m invalid decimal literal\n"
     ]
    }
   ],
   "source": [
    "1var_name = 10"
   ]
  },
  {
   "cell_type": "code",
   "execution_count": 76,
   "id": "59c39a6a",
   "metadata": {},
   "outputs": [
    {
     "data": {
      "text/plain": [
       "'4344'"
      ]
     },
     "execution_count": 76,
     "metadata": {},
     "output_type": "execute_result"
    }
   ],
   "source": [
    "a.__dict__[\"1234\"]"
   ]
  },
  {
   "cell_type": "code",
   "execution_count": 77,
   "id": "167ae533",
   "metadata": {},
   "outputs": [
    {
     "data": {
      "text/plain": [
       "'4344'"
      ]
     },
     "execution_count": 77,
     "metadata": {},
     "output_type": "execute_result"
    }
   ],
   "source": [
    "getattr(a, \"1234\")"
   ]
  },
  {
   "cell_type": "code",
   "execution_count": 79,
   "id": "9f368a13",
   "metadata": {},
   "outputs": [],
   "source": [
    "globals()[\"12345\"] = \"54321\""
   ]
  },
  {
   "cell_type": "code",
   "execution_count": null,
   "id": "580d6ace",
   "metadata": {},
   "outputs": [],
   "source": []
  },
  {
   "cell_type": "code",
   "execution_count": 82,
   "id": "0878b6e5",
   "metadata": {},
   "outputs": [
    {
     "data": {
      "text/plain": [
       "'54321'"
      ]
     },
     "execution_count": 82,
     "metadata": {},
     "output_type": "execute_result"
    }
   ],
   "source": [
    "globals()[\"12345\"]"
   ]
  },
  {
   "cell_type": "code",
   "execution_count": 83,
   "id": "40032d99",
   "metadata": {},
   "outputs": [
    {
     "data": {
      "text/plain": [
       "'updated 2 class name'"
      ]
     },
     "execution_count": 83,
     "metadata": {},
     "output_type": "execute_result"
    }
   ],
   "source": [
    "a.name"
   ]
  },
  {
   "cell_type": "code",
   "execution_count": 84,
   "id": "dff2d767",
   "metadata": {},
   "outputs": [
    {
     "ename": "AttributeError",
     "evalue": "name123",
     "output_type": "error",
     "traceback": [
      "\u001b[0;31m---------------------------------------------------------------------------\u001b[0m",
      "\u001b[0;31mAttributeError\u001b[0m                            Traceback (most recent call last)",
      "Cell \u001b[0;32mIn[84], line 1\u001b[0m\n\u001b[0;32m----> 1\u001b[0m \u001b[38;5;28;01mdel\u001b[39;00m a\u001b[38;5;241m.\u001b[39mname123\n",
      "\u001b[0;31mAttributeError\u001b[0m: name123"
     ]
    }
   ],
   "source": [
    "del a.name123"
   ]
  },
  {
   "cell_type": "code",
   "execution_count": 85,
   "id": "418f20e9",
   "metadata": {},
   "outputs": [
    {
     "ename": "AttributeError",
     "evalue": "name",
     "output_type": "error",
     "traceback": [
      "\u001b[0;31m---------------------------------------------------------------------------\u001b[0m",
      "\u001b[0;31mAttributeError\u001b[0m                            Traceback (most recent call last)",
      "Cell \u001b[0;32mIn[85], line 1\u001b[0m\n\u001b[0;32m----> 1\u001b[0m \u001b[38;5;28;01mdel\u001b[39;00m a\u001b[38;5;241m.\u001b[39mname\n",
      "\u001b[0;31mAttributeError\u001b[0m: name"
     ]
    }
   ],
   "source": [
    "del a.name"
   ]
  },
  {
   "cell_type": "code",
   "execution_count": null,
   "id": "ec36bc03",
   "metadata": {},
   "outputs": [],
   "source": []
  },
  {
   "cell_type": "code",
   "execution_count": null,
   "id": "7826d60b",
   "metadata": {},
   "outputs": [],
   "source": []
  },
  {
   "cell_type": "code",
   "execution_count": null,
   "id": "dda51a6d",
   "metadata": {},
   "outputs": [],
   "source": []
  },
  {
   "cell_type": "code",
   "execution_count": null,
   "id": "d8948da6",
   "metadata": {},
   "outputs": [],
   "source": []
  },
  {
   "cell_type": "code",
   "execution_count": null,
   "id": "c2bde2ea",
   "metadata": {},
   "outputs": [],
   "source": []
  },
  {
   "cell_type": "code",
   "execution_count": 92,
   "id": "ef56bb62",
   "metadata": {},
   "outputs": [],
   "source": [
    "def make_hash_from_password(password):\n",
    "    return hash(password)\n",
    "\n",
    "\n",
    "class Author:\n",
    "    def __init__(self, name, password):\n",
    "        self.__name = name\n",
    "        self.password_hash = None\n",
    "        self.password = password\n",
    "\n",
    "    @property\n",
    "    def name(self):\n",
    "        \"\"\"name is read-only\"\"\"\n",
    "        return f\"My name is {self.__name}\"\n",
    "\n",
    "    @property\n",
    "    def password(self):\n",
    "        raise AttributeError(\"Password is write-only\")\n",
    "\n",
    "    @password.setter\n",
    "    def password(self, plaintext):\n",
    "        self.password_hash = make_hash_from_password(plaintext)"
   ]
  },
  {
   "cell_type": "code",
   "execution_count": 93,
   "id": "307b3db6",
   "metadata": {},
   "outputs": [],
   "source": [
    "nick = Author(\"Nick\", \"123\")"
   ]
  },
  {
   "cell_type": "code",
   "execution_count": 90,
   "id": "69187fa5",
   "metadata": {},
   "outputs": [
    {
     "data": {
      "text/plain": [
       "{'_Author__name': 'Nick', 'password_hash': 8217717465831614551}"
      ]
     },
     "execution_count": 90,
     "metadata": {},
     "output_type": "execute_result"
    }
   ],
   "source": [
    "nick.__dict__"
   ]
  },
  {
   "cell_type": "code",
   "execution_count": 94,
   "id": "0b23fce3",
   "metadata": {},
   "outputs": [
    {
     "data": {
      "text/plain": [
       "'My name is Nick'"
      ]
     },
     "execution_count": 94,
     "metadata": {},
     "output_type": "execute_result"
    }
   ],
   "source": [
    "nick.name"
   ]
  },
  {
   "cell_type": "code",
   "execution_count": 95,
   "id": "9949a025",
   "metadata": {},
   "outputs": [
    {
     "ename": "AttributeError",
     "evalue": "can't set attribute 'name'",
     "output_type": "error",
     "traceback": [
      "\u001b[0;31m---------------------------------------------------------------------------\u001b[0m",
      "\u001b[0;31mAttributeError\u001b[0m                            Traceback (most recent call last)",
      "Cell \u001b[0;32mIn[95], line 1\u001b[0m\n\u001b[0;32m----> 1\u001b[0m \u001b[43mnick\u001b[49m\u001b[38;5;241;43m.\u001b[39;49m\u001b[43mname\u001b[49m \u001b[38;5;241m=\u001b[39m \u001b[38;5;124m\"\u001b[39m\u001b[38;5;124mJD\u001b[39m\u001b[38;5;124m\"\u001b[39m\n",
      "\u001b[0;31mAttributeError\u001b[0m: can't set attribute 'name'"
     ]
    }
   ],
   "source": [
    "nick.name = \"JD\""
   ]
  },
  {
   "cell_type": "code",
   "execution_count": 96,
   "id": "05ef016f",
   "metadata": {},
   "outputs": [
    {
     "data": {
      "text/plain": [
       "8217717465831614551"
      ]
     },
     "execution_count": 96,
     "metadata": {},
     "output_type": "execute_result"
    }
   ],
   "source": [
    "nick.password_hash"
   ]
  },
  {
   "cell_type": "code",
   "execution_count": 97,
   "id": "125cdd5c",
   "metadata": {},
   "outputs": [
    {
     "ename": "AttributeError",
     "evalue": "Password is write-only",
     "output_type": "error",
     "traceback": [
      "\u001b[0;31m---------------------------------------------------------------------------\u001b[0m",
      "\u001b[0;31mAttributeError\u001b[0m                            Traceback (most recent call last)",
      "Cell \u001b[0;32mIn[97], line 1\u001b[0m\n\u001b[0;32m----> 1\u001b[0m \u001b[43mnick\u001b[49m\u001b[38;5;241;43m.\u001b[39;49m\u001b[43mpassword\u001b[49m\n",
      "Cell \u001b[0;32mIn[92], line 18\u001b[0m, in \u001b[0;36mAuthor.password\u001b[0;34m(self)\u001b[0m\n\u001b[1;32m     16\u001b[0m \u001b[38;5;129m@property\u001b[39m\n\u001b[1;32m     17\u001b[0m \u001b[38;5;28;01mdef\u001b[39;00m \u001b[38;5;21mpassword\u001b[39m(\u001b[38;5;28mself\u001b[39m):\n\u001b[0;32m---> 18\u001b[0m     \u001b[38;5;28;01mraise\u001b[39;00m \u001b[38;5;167;01mAttributeError\u001b[39;00m(\u001b[38;5;124m\"\u001b[39m\u001b[38;5;124mPassword is write-only\u001b[39m\u001b[38;5;124m\"\u001b[39m)\n",
      "\u001b[0;31mAttributeError\u001b[0m: Password is write-only"
     ]
    }
   ],
   "source": [
    "nick.password"
   ]
  },
  {
   "cell_type": "code",
   "execution_count": 98,
   "id": "ebcace95",
   "metadata": {},
   "outputs": [],
   "source": [
    "nick.password = 999"
   ]
  },
  {
   "cell_type": "code",
   "execution_count": 99,
   "id": "de05e23e",
   "metadata": {},
   "outputs": [
    {
     "data": {
      "text/plain": [
       "999"
      ]
     },
     "execution_count": 99,
     "metadata": {},
     "output_type": "execute_result"
    }
   ],
   "source": [
    "nick.password_hash"
   ]
  },
  {
   "cell_type": "code",
   "execution_count": 100,
   "id": "8c744149",
   "metadata": {},
   "outputs": [],
   "source": [
    "nick.password = \"999\""
   ]
  },
  {
   "cell_type": "code",
   "execution_count": 101,
   "id": "98fe21c5",
   "metadata": {},
   "outputs": [
    {
     "data": {
      "text/plain": [
       "1907605148954361786"
      ]
     },
     "execution_count": 101,
     "metadata": {},
     "output_type": "execute_result"
    }
   ],
   "source": [
    "nick.password_hash"
   ]
  },
  {
   "cell_type": "code",
   "execution_count": 106,
   "id": "74cd2452",
   "metadata": {},
   "outputs": [],
   "source": [
    "class AuthorName:\n",
    "    def __init__(self, name):\n",
    "        self.name = name\n",
    "\n",
    "    @property\n",
    "    def name(self):\n",
    "        \"\"\"name is read-only\"\"\"\n",
    "        return f\"My name is {self.__name}\"\n",
    "    \n",
    "    @name.setter\n",
    "    def name(self, val):\n",
    "        \"\"\"name is read-only\"\"\"\n",
    "        if isinstance(val, (str, int)):\n",
    "            self.__name = val\n",
    "        else:\n",
    "            raise Exception(\"wrong type\")\n",
    "    \n",
    "    @name.deleter\n",
    "    def name(self):\n",
    "        print(\"DELTE\")\n",
    "        del self.__name"
   ]
  },
  {
   "cell_type": "code",
   "execution_count": 109,
   "id": "6dae86d5",
   "metadata": {},
   "outputs": [
    {
     "data": {
      "text/plain": [
       "'My name is JD'"
      ]
     },
     "execution_count": 109,
     "metadata": {},
     "output_type": "execute_result"
    }
   ],
   "source": [
    "jd = AuthorName(\"JD\")\n",
    "jd.name"
   ]
  },
  {
   "cell_type": "code",
   "execution_count": 110,
   "id": "baaa4f52",
   "metadata": {},
   "outputs": [
    {
     "data": {
      "text/plain": [
       "'My name is 42'"
      ]
     },
     "execution_count": 110,
     "metadata": {},
     "output_type": "execute_result"
    }
   ],
   "source": [
    "jd.name = 42\n",
    "jd.name"
   ]
  },
  {
   "cell_type": "code",
   "execution_count": 111,
   "id": "388da9e7",
   "metadata": {},
   "outputs": [
    {
     "ename": "Exception",
     "evalue": "wrong type",
     "output_type": "error",
     "traceback": [
      "\u001b[0;31m---------------------------------------------------------------------------\u001b[0m",
      "\u001b[0;31mException\u001b[0m                                 Traceback (most recent call last)",
      "Cell \u001b[0;32mIn[111], line 1\u001b[0m\n\u001b[0;32m----> 1\u001b[0m \u001b[43mjd\u001b[49m\u001b[38;5;241;43m.\u001b[39;49m\u001b[43mname\u001b[49m \u001b[38;5;241m=\u001b[39m \u001b[38;5;241m42.19\u001b[39m\n",
      "Cell \u001b[0;32mIn[106], line 16\u001b[0m, in \u001b[0;36mAuthorName.name\u001b[0;34m(self, val)\u001b[0m\n\u001b[1;32m     14\u001b[0m     \u001b[38;5;28mself\u001b[39m\u001b[38;5;241m.\u001b[39m__name \u001b[38;5;241m=\u001b[39m val\n\u001b[1;32m     15\u001b[0m \u001b[38;5;28;01melse\u001b[39;00m:\n\u001b[0;32m---> 16\u001b[0m     \u001b[38;5;28;01mraise\u001b[39;00m \u001b[38;5;167;01mException\u001b[39;00m(\u001b[38;5;124m\"\u001b[39m\u001b[38;5;124mwrong type\u001b[39m\u001b[38;5;124m\"\u001b[39m)\n",
      "\u001b[0;31mException\u001b[0m: wrong type"
     ]
    }
   ],
   "source": [
    "jd.name = 42.19"
   ]
  },
  {
   "cell_type": "code",
   "execution_count": 112,
   "id": "aabceef1",
   "metadata": {},
   "outputs": [
    {
     "data": {
      "text/plain": [
       "'My name is 42'"
      ]
     },
     "execution_count": 112,
     "metadata": {},
     "output_type": "execute_result"
    }
   ],
   "source": [
    "jd.name"
   ]
  },
  {
   "cell_type": "code",
   "execution_count": null,
   "id": "49af147f",
   "metadata": {},
   "outputs": [],
   "source": []
  },
  {
   "cell_type": "code",
   "execution_count": null,
   "id": "a001f9df",
   "metadata": {},
   "outputs": [],
   "source": []
  },
  {
   "cell_type": "code",
   "execution_count": 107,
   "id": "97176abf",
   "metadata": {},
   "outputs": [
    {
     "ename": "Exception",
     "evalue": "wrong type",
     "output_type": "error",
     "traceback": [
      "\u001b[0;31m---------------------------------------------------------------------------\u001b[0m",
      "\u001b[0;31mException\u001b[0m                                 Traceback (most recent call last)",
      "Cell \u001b[0;32mIn[107], line 1\u001b[0m\n\u001b[0;32m----> 1\u001b[0m jd \u001b[38;5;241m=\u001b[39m \u001b[43mAuthorName\u001b[49m\u001b[43m(\u001b[49m\u001b[43m[\u001b[49m\u001b[43m]\u001b[49m\u001b[43m)\u001b[49m\n",
      "Cell \u001b[0;32mIn[106], line 3\u001b[0m, in \u001b[0;36mAuthorName.__init__\u001b[0;34m(self, name)\u001b[0m\n\u001b[1;32m      2\u001b[0m \u001b[38;5;28;01mdef\u001b[39;00m \u001b[38;5;21m__init__\u001b[39m(\u001b[38;5;28mself\u001b[39m, name):\n\u001b[0;32m----> 3\u001b[0m     \u001b[38;5;28;43mself\u001b[39;49m\u001b[38;5;241;43m.\u001b[39;49m\u001b[43mname\u001b[49m \u001b[38;5;241m=\u001b[39m name\n",
      "Cell \u001b[0;32mIn[106], line 16\u001b[0m, in \u001b[0;36mAuthorName.name\u001b[0;34m(self, val)\u001b[0m\n\u001b[1;32m     14\u001b[0m     \u001b[38;5;28mself\u001b[39m\u001b[38;5;241m.\u001b[39m__name \u001b[38;5;241m=\u001b[39m val\n\u001b[1;32m     15\u001b[0m \u001b[38;5;28;01melse\u001b[39;00m:\n\u001b[0;32m---> 16\u001b[0m     \u001b[38;5;28;01mraise\u001b[39;00m \u001b[38;5;167;01mException\u001b[39;00m(\u001b[38;5;124m\"\u001b[39m\u001b[38;5;124mwrong type\u001b[39m\u001b[38;5;124m\"\u001b[39m)\n",
      "\u001b[0;31mException\u001b[0m: wrong type"
     ]
    }
   ],
   "source": [
    "jd = AuthorName([])"
   ]
  },
  {
   "cell_type": "code",
   "execution_count": 113,
   "id": "9e72d2af",
   "metadata": {},
   "outputs": [
    {
     "name": "stdout",
     "output_type": "stream",
     "text": [
      "DELTE\n"
     ]
    }
   ],
   "source": [
    "del jd.name"
   ]
  },
  {
   "cell_type": "code",
   "execution_count": 114,
   "id": "19c62117",
   "metadata": {},
   "outputs": [
    {
     "ename": "AttributeError",
     "evalue": "'AuthorName' object has no attribute '_AuthorName__name'",
     "output_type": "error",
     "traceback": [
      "\u001b[0;31m---------------------------------------------------------------------------\u001b[0m",
      "\u001b[0;31mAttributeError\u001b[0m                            Traceback (most recent call last)",
      "Cell \u001b[0;32mIn[114], line 1\u001b[0m\n\u001b[0;32m----> 1\u001b[0m \u001b[43mjd\u001b[49m\u001b[38;5;241;43m.\u001b[39;49m\u001b[43mname\u001b[49m\n",
      "Cell \u001b[0;32mIn[106], line 8\u001b[0m, in \u001b[0;36mAuthorName.name\u001b[0;34m(self)\u001b[0m\n\u001b[1;32m      5\u001b[0m \u001b[38;5;129m@property\u001b[39m\n\u001b[1;32m      6\u001b[0m \u001b[38;5;28;01mdef\u001b[39;00m \u001b[38;5;21mname\u001b[39m(\u001b[38;5;28mself\u001b[39m):\n\u001b[1;32m      7\u001b[0m \u001b[38;5;250m    \u001b[39m\u001b[38;5;124;03m\"\"\"name is read-only\"\"\"\u001b[39;00m\n\u001b[0;32m----> 8\u001b[0m     \u001b[38;5;28;01mreturn\u001b[39;00m \u001b[38;5;124mf\u001b[39m\u001b[38;5;124m\"\u001b[39m\u001b[38;5;124mMy name is \u001b[39m\u001b[38;5;132;01m{\u001b[39;00m\u001b[38;5;28;43mself\u001b[39;49m\u001b[38;5;241;43m.\u001b[39;49m\u001b[43m__name\u001b[49m\u001b[38;5;132;01m}\u001b[39;00m\u001b[38;5;124m\"\u001b[39m\n",
      "\u001b[0;31mAttributeError\u001b[0m: 'AuthorName' object has no attribute '_AuthorName__name'"
     ]
    }
   ],
   "source": [
    "jd.name"
   ]
  },
  {
   "cell_type": "code",
   "execution_count": 117,
   "id": "d0e3915a",
   "metadata": {},
   "outputs": [
    {
     "data": {
      "text/plain": [
       "'My name is 999'"
      ]
     },
     "execution_count": 117,
     "metadata": {},
     "output_type": "execute_result"
    }
   ],
   "source": [
    "jd.name = 999\n",
    "jd.name"
   ]
  },
  {
   "cell_type": "code",
   "execution_count": null,
   "id": "35ffe61c",
   "metadata": {},
   "outputs": [],
   "source": []
  },
  {
   "cell_type": "code",
   "execution_count": 105,
   "id": "f9e83f55",
   "metadata": {},
   "outputs": [
    {
     "data": {
      "text/plain": [
       "(True, True)"
      ]
     },
     "execution_count": 105,
     "metadata": {},
     "output_type": "execute_result"
    }
   ],
   "source": [
    "issubclass(bool, int), issubclass(int, object)"
   ]
  },
  {
   "cell_type": "code",
   "execution_count": 104,
   "id": "8c1d5851",
   "metadata": {},
   "outputs": [
    {
     "data": {
      "text/plain": [
       "(True, True)"
      ]
     },
     "execution_count": 104,
     "metadata": {},
     "output_type": "execute_result"
    }
   ],
   "source": [
    "isinstance(bool(\"\"), int), isinstance(bool(\"\"), object)"
   ]
  },
  {
   "cell_type": "code",
   "execution_count": null,
   "id": "fcf6724a",
   "metadata": {},
   "outputs": [],
   "source": []
  },
  {
   "cell_type": "code",
   "execution_count": null,
   "id": "25c8b49a",
   "metadata": {},
   "outputs": [],
   "source": []
  },
  {
   "cell_type": "code",
   "execution_count": 120,
   "id": "43293ddc",
   "metadata": {},
   "outputs": [
    {
     "data": {
      "text/plain": [
       "(__main__.ClassA,\n",
       " <__main__.ClassA at 0x111e64c40>,\n",
       " <__main__.ClassA at 0x111e3fd60>)"
      ]
     },
     "execution_count": 120,
     "metadata": {},
     "output_type": "execute_result"
    }
   ],
   "source": [
    "ClassA, a, b"
   ]
  },
  {
   "cell_type": "code",
   "execution_count": 122,
   "id": "3d511180",
   "metadata": {},
   "outputs": [
    {
     "data": {
      "text/plain": [
       "(<bound method ClassA.print of <__main__.ClassA object at 0x111e64c40>>,\n",
       " <bound method ClassA.print of <__main__.ClassA object at 0x111e3fd60>>,\n",
       " <function __main__.ClassA.print(self)>)"
      ]
     },
     "execution_count": 122,
     "metadata": {},
     "output_type": "execute_result"
    }
   ],
   "source": [
    "a.print, b.print, ClassA.print"
   ]
  },
  {
   "cell_type": "code",
   "execution_count": 124,
   "id": "8fefe59f",
   "metadata": {},
   "outputs": [
    {
     "name": "stdout",
     "output_type": "stream",
     "text": [
      "self.val=10, self._protected='protected', self.__private='private', self.name='updated 2 class name', self.__cls_private='updated_cls_private'\n"
     ]
    }
   ],
   "source": [
    "a.print()"
   ]
  },
  {
   "cell_type": "code",
   "execution_count": 125,
   "id": "18ac2b4e",
   "metadata": {},
   "outputs": [
    {
     "ename": "TypeError",
     "evalue": "ClassA.print() missing 1 required positional argument: 'self'",
     "output_type": "error",
     "traceback": [
      "\u001b[0;31m---------------------------------------------------------------------------\u001b[0m",
      "\u001b[0;31mTypeError\u001b[0m                                 Traceback (most recent call last)",
      "Cell \u001b[0;32mIn[125], line 1\u001b[0m\n\u001b[0;32m----> 1\u001b[0m \u001b[43mClassA\u001b[49m\u001b[38;5;241;43m.\u001b[39;49m\u001b[43mprint\u001b[49m\u001b[43m(\u001b[49m\u001b[43m)\u001b[49m\n",
      "\u001b[0;31mTypeError\u001b[0m: ClassA.print() missing 1 required positional argument: 'self'"
     ]
    }
   ],
   "source": [
    "ClassA.print()"
   ]
  },
  {
   "cell_type": "code",
   "execution_count": 126,
   "id": "46dd7f60",
   "metadata": {},
   "outputs": [
    {
     "name": "stdout",
     "output_type": "stream",
     "text": [
      "self.val=10, self._protected='protected', self.__private='private', self.name='updated 2 class name', self.__cls_private='updated_cls_private'\n"
     ]
    }
   ],
   "source": [
    "ClassA.print(a)"
   ]
  },
  {
   "cell_type": "code",
   "execution_count": 127,
   "id": "0316a49e",
   "metadata": {},
   "outputs": [
    {
     "name": "stdout",
     "output_type": "stream",
     "text": [
      "self.val=99, self._protected='protected', self.__private='private', self.name='updated 2 class name', self.__cls_private='updated_cls_private'\n"
     ]
    }
   ],
   "source": [
    "ClassA.print(b)"
   ]
  },
  {
   "cell_type": "code",
   "execution_count": 132,
   "id": "85515ef6",
   "metadata": {},
   "outputs": [
    {
     "name": "stdout",
     "output_type": "stream",
     "text": [
      "self.val=42, self._protected='protected', self.__private='private', self.name='cls_name', self.__cls_private='cls_private'\n"
     ]
    }
   ],
   "source": [
    "ClassA.print(ClassA(42))"
   ]
  },
  {
   "cell_type": "code",
   "execution_count": null,
   "id": "c096d695",
   "metadata": {},
   "outputs": [],
   "source": []
  },
  {
   "cell_type": "code",
   "execution_count": 133,
   "id": "75ff84e7",
   "metadata": {},
   "outputs": [
    {
     "name": "stdout",
     "output_type": "stream",
     "text": [
      "self.val=42\n"
     ]
    }
   ],
   "source": [
    "ClassA.update(ClassA(42))"
   ]
  },
  {
   "cell_type": "code",
   "execution_count": 134,
   "id": "e265b6ad",
   "metadata": {},
   "outputs": [
    {
     "name": "stdout",
     "output_type": "stream",
     "text": [
      "self.val=99999\n"
     ]
    }
   ],
   "source": [
    "class X:\n",
    "    val = 99999\n",
    "    \n",
    "ClassA.update(X())"
   ]
  },
  {
   "cell_type": "code",
   "execution_count": null,
   "id": "dec31b62",
   "metadata": {},
   "outputs": [],
   "source": []
  },
  {
   "cell_type": "code",
   "execution_count": null,
   "id": "131b15d4",
   "metadata": {},
   "outputs": [],
   "source": []
  },
  {
   "cell_type": "code",
   "execution_count": null,
   "id": "b6e5f435",
   "metadata": {},
   "outputs": [],
   "source": []
  },
  {
   "cell_type": "code",
   "execution_count": 152,
   "id": "382ba925",
   "metadata": {},
   "outputs": [],
   "source": [
    "# def calc_avg_price(cars):\n",
    "#     return sum(car.price for car in cars) / len(cars)\n",
    "\n",
    "\n",
    "class Car:\n",
    "    def __init__(k, name):\n",
    "        k.name = name\n",
    "        k.price = 10\n",
    "    \n",
    "    def __str__(self):\n",
    "        return f\"{self.name=}\"\n",
    "\n",
    "    @classmethod\n",
    "    def init_mazda(cls):\n",
    "        return cls(\"Mazda\")\n",
    "    \n",
    "    @classmethod\n",
    "    def init_honda(cls):\n",
    "        print(cls)\n",
    "        return cls(\"Honda\")\n",
    "    \n",
    "    @staticmethod\n",
    "    def calc_avg_price(cars):\n",
    "        return sum(car.price for car in cars) / len(cars)\n"
   ]
  },
  {
   "cell_type": "code",
   "execution_count": 155,
   "id": "ec079b62",
   "metadata": {},
   "outputs": [
    {
     "name": "stdout",
     "output_type": "stream",
     "text": [
      "<class '__main__.Car'>\n"
     ]
    }
   ],
   "source": [
    "bmw = Car(\"BMW\")\n",
    "honda = Car.init_honda()\n",
    "mazda = Car.init_mazda()"
   ]
  },
  {
   "cell_type": "code",
   "execution_count": 156,
   "id": "3bbd1afd",
   "metadata": {},
   "outputs": [
    {
     "name": "stdout",
     "output_type": "stream",
     "text": [
      "self.name='BMW' self.name='Honda' self.name='Mazda'\n"
     ]
    }
   ],
   "source": [
    "print(bmw, honda, mazda)"
   ]
  },
  {
   "cell_type": "code",
   "execution_count": 157,
   "id": "59a5d5a0",
   "metadata": {},
   "outputs": [
    {
     "name": "stdout",
     "output_type": "stream",
     "text": [
      "<class '__main__.Car'>\n"
     ]
    }
   ],
   "source": [
    "h1 = bmw.init_honda()"
   ]
  },
  {
   "cell_type": "code",
   "execution_count": 158,
   "id": "d8c9ea30",
   "metadata": {},
   "outputs": [
    {
     "name": "stdout",
     "output_type": "stream",
     "text": [
      "self.name='Honda'\n"
     ]
    }
   ],
   "source": [
    "print(h1)"
   ]
  },
  {
   "cell_type": "code",
   "execution_count": 159,
   "id": "cdba4159",
   "metadata": {},
   "outputs": [
    {
     "data": {
      "text/plain": [
       "10.0"
      ]
     },
     "execution_count": 159,
     "metadata": {},
     "output_type": "execute_result"
    }
   ],
   "source": [
    "bmw.calc_avg_price([bmw, h1, honda])"
   ]
  },
  {
   "cell_type": "code",
   "execution_count": 160,
   "id": "d2fc0976",
   "metadata": {},
   "outputs": [
    {
     "data": {
      "text/plain": [
       "10.0"
      ]
     },
     "execution_count": 160,
     "metadata": {},
     "output_type": "execute_result"
    }
   ],
   "source": [
    "Car.calc_avg_price([bmw, h1, honda])"
   ]
  },
  {
   "cell_type": "code",
   "execution_count": null,
   "id": "78ca1480",
   "metadata": {},
   "outputs": [],
   "source": []
  },
  {
   "cell_type": "code",
   "execution_count": null,
   "id": "5cdc3953",
   "metadata": {},
   "outputs": [],
   "source": []
  },
  {
   "cell_type": "code",
   "execution_count": 161,
   "id": "5950a92c",
   "metadata": {},
   "outputs": [],
   "source": [
    "class A:\n",
    "    pass\n",
    "\n",
    "class B:\n",
    "    pass\n",
    "\n",
    "class C(A, B):\n",
    "    pass"
   ]
  },
  {
   "cell_type": "code",
   "execution_count": 163,
   "id": "bb002e33",
   "metadata": {},
   "outputs": [
    {
     "data": {
      "text/plain": [
       "([__main__.C, __main__.A, __main__.B, object],\n",
       " (__main__.C, __main__.A, __main__.B, object))"
      ]
     },
     "execution_count": 163,
     "metadata": {},
     "output_type": "execute_result"
    }
   ],
   "source": [
    "C.mro(), C.__mro__"
   ]
  },
  {
   "cell_type": "code",
   "execution_count": 164,
   "id": "77aa4479",
   "metadata": {},
   "outputs": [
    {
     "ename": "TypeError",
     "evalue": "Cannot create a consistent method resolution\norder (MRO) for bases object, B",
     "output_type": "error",
     "traceback": [
      "\u001b[0;31m---------------------------------------------------------------------------\u001b[0m",
      "\u001b[0;31mTypeError\u001b[0m                                 Traceback (most recent call last)",
      "Cell \u001b[0;32mIn[164], line 1\u001b[0m\n\u001b[0;32m----> 1\u001b[0m \u001b[38;5;28;01mclass\u001b[39;00m \u001b[38;5;21;01mD\u001b[39;00m(\u001b[38;5;28mobject\u001b[39m, B):\n\u001b[1;32m      2\u001b[0m     \u001b[38;5;28;01mpass\u001b[39;00m\n",
      "\u001b[0;31mTypeError\u001b[0m: Cannot create a consistent method resolution\norder (MRO) for bases object, B"
     ]
    }
   ],
   "source": [
    "class D(object, B):\n",
    "    pass"
   ]
  },
  {
   "cell_type": "code",
   "execution_count": null,
   "id": "03ce6327",
   "metadata": {},
   "outputs": [],
   "source": []
  }
 ],
 "metadata": {
  "kernelspec": {
   "display_name": "Python 3 (ipykernel)",
   "language": "python",
   "name": "python3"
  },
  "language_info": {
   "codemirror_mode": {
    "name": "ipython",
    "version": 3
   },
   "file_extension": ".py",
   "mimetype": "text/x-python",
   "name": "python",
   "nbconvert_exporter": "python",
   "pygments_lexer": "ipython3",
   "version": "3.10.2"
  }
 },
 "nbformat": 4,
 "nbformat_minor": 5
}
