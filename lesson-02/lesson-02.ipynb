{
 "cells": [
  {
   "cell_type": "markdown",
   "id": "b57238cc",
   "metadata": {},
   "source": [
    "# Функции"
   ]
  },
  {
   "cell_type": "code",
   "execution_count": 170,
   "id": "71a30cc3",
   "metadata": {},
   "outputs": [],
   "source": [
    "def my_sum(a, b):\n",
    "    pass"
   ]
  },
  {
   "cell_type": "code",
   "execution_count": 171,
   "id": "5ccbe3ed",
   "metadata": {},
   "outputs": [
    {
     "name": "stdout",
     "output_type": "stream",
     "text": [
      "None\n"
     ]
    }
   ],
   "source": [
    "print(my_sum(10, 2))"
   ]
  },
  {
   "cell_type": "code",
   "execution_count": 172,
   "id": "693a4560",
   "metadata": {},
   "outputs": [],
   "source": [
    "alias = my_sum"
   ]
  },
  {
   "cell_type": "code",
   "execution_count": 173,
   "id": "3a8f2006",
   "metadata": {},
   "outputs": [],
   "source": [
    "alias(10, 2)"
   ]
  },
  {
   "cell_type": "markdown",
   "id": "d29cda29",
   "metadata": {},
   "source": [
    "# Декораторы"
   ]
  },
  {
   "cell_type": "code",
   "execution_count": 174,
   "id": "3ace3aa4",
   "metadata": {},
   "outputs": [],
   "source": [
    "import time\n",
    "import functools\n",
    "\n",
    "def timer(func):\n",
    "    @functools.wraps(func)\n",
    "    def wrapper(*args, **kwargs):\n",
    "        start_ts = time.time()\n",
    "        #print(type(args), type(kwargs))\n",
    "        res = func(*args, **kwargs)\n",
    "        end_ts = time.time()\n",
    "        func_name = func.__name__\n",
    "        print(f\"time of execution of function '{func_name}' is {end_ts - start_ts} seconds.\")\n",
    "        return res\n",
    "    return wrapper"
   ]
  },
  {
   "cell_type": "code",
   "execution_count": 175,
   "id": "9c64da90",
   "metadata": {},
   "outputs": [],
   "source": [
    "# LRU - Least Recently Used\n",
    "# LFU - Least Freq... Used\n",
    "# def lru_cache(maxsize=128, typed=False)\n",
    "@functools.lru_cache()\n",
    "def _fibonacci(n):\n",
    "    if n < 2:\n",
    "        return 1\n",
    "    return _fibonacci(n-2) + _fibonacci(n-1)\n",
    "\n",
    "@timer\n",
    "def fibonacci(n):\n",
    "    return _fibonacci(n)\n"
   ]
  },
  {
   "cell_type": "code",
   "execution_count": 176,
   "id": "44156739",
   "metadata": {},
   "outputs": [
    {
     "name": "stdout",
     "output_type": "stream",
     "text": [
      "time of execution of function 'fibonacci' is 2.6941299438476562e-05 seconds.\n"
     ]
    },
    {
     "data": {
      "text/plain": [
       "14930352"
      ]
     },
     "execution_count": 176,
     "metadata": {},
     "output_type": "execute_result"
    }
   ],
   "source": [
    "fibonacci(35)\n",
    "# fibonacci = timer(fibonacci)"
   ]
  },
  {
   "cell_type": "code",
   "execution_count": 177,
   "id": "ec0c0544",
   "metadata": {},
   "outputs": [
    {
     "name": "stdout",
     "output_type": "stream",
     "text": [
      "time of execution of function 'fibonacci' is 3.814697265625e-06 seconds.\n"
     ]
    },
    {
     "data": {
      "text/plain": [
       "14930352"
      ]
     },
     "execution_count": 177,
     "metadata": {},
     "output_type": "execute_result"
    }
   ],
   "source": [
    "fibonacci(35)"
   ]
  },
  {
   "cell_type": "code",
   "execution_count": 178,
   "id": "b7720452",
   "metadata": {},
   "outputs": [
    {
     "data": {
      "text/plain": [
       "'fibonacci'"
      ]
     },
     "execution_count": 178,
     "metadata": {},
     "output_type": "execute_result"
    }
   ],
   "source": [
    "fibonacci.__name__"
   ]
  },
  {
   "cell_type": "code",
   "execution_count": 179,
   "id": "a65050ae",
   "metadata": {},
   "outputs": [],
   "source": [
    "def sleeper(delay):\n",
    "    def _sleeper(func):\n",
    "        @functools.wraps(func)\n",
    "        def wrapper(*args, **kwargs):\n",
    "            print(f'We are going to sleep in {delay}')\n",
    "            time.sleep(delay)\n",
    "            res = func(*args, **kwargs)\n",
    "            return res\n",
    "        return wrapper\n",
    "    return _sleeper"
   ]
  },
  {
   "cell_type": "code",
   "execution_count": 180,
   "id": "4d7eb1aa",
   "metadata": {},
   "outputs": [],
   "source": [
    "@timer\n",
    "@sleeper(0.1)\n",
    "def fetch_fast(url):\n",
    "    time.sleep(1)\n",
    "    return f\"<html><h1>Hello, world and fast {url}!</h1></html>\"\n",
    "\n",
    "# fetch_fast = timer(sleeper(0.1)(fetch_fast))\n",
    "\n",
    "@sleeper(1)\n",
    "def fetch_slow(url):\n",
    "    time.sleep(1)\n",
    "    return f\"<html><h1>Hello, world and slow {url}!</h1></html>\""
   ]
  },
  {
   "cell_type": "code",
   "execution_count": 181,
   "id": "befd19aa",
   "metadata": {},
   "outputs": [
    {
     "name": "stdout",
     "output_type": "stream",
     "text": [
      "We are going to sleep in 0.1\n",
      "time of execution of function 'fetch_fast' is 1.106529951095581 seconds.\n"
     ]
    },
    {
     "data": {
      "text/plain": [
       "'<html><h1>Hello, world and fast https://vk.com!</h1></html>'"
      ]
     },
     "execution_count": 181,
     "metadata": {},
     "output_type": "execute_result"
    }
   ],
   "source": [
    "fetch_fast('https://vk.com')"
   ]
  },
  {
   "cell_type": "code",
   "execution_count": 182,
   "id": "00fbbd51",
   "metadata": {},
   "outputs": [
    {
     "name": "stdout",
     "output_type": "stream",
     "text": [
      "We are going to sleep in 1\n"
     ]
    },
    {
     "data": {
      "text/plain": [
       "'<html><h1>Hello, world and slow http://toshcorp.ru!</h1></html>'"
      ]
     },
     "execution_count": 182,
     "metadata": {},
     "output_type": "execute_result"
    }
   ],
   "source": [
    "fetch_slow('http://toshcorp.ru')"
   ]
  },
  {
   "cell_type": "code",
   "execution_count": 183,
   "id": "3920d2fd",
   "metadata": {},
   "outputs": [
    {
     "data": {
      "text/plain": [
       "'fetch_fast'"
      ]
     },
     "execution_count": 183,
     "metadata": {},
     "output_type": "execute_result"
    }
   ],
   "source": [
    "fetch_fast.__name__"
   ]
  },
  {
   "cell_type": "code",
   "execution_count": 184,
   "id": "7f5f3dc2",
   "metadata": {},
   "outputs": [],
   "source": [
    "fetch_fast_2 = timer(sleeper(0.01)(fetch_fast))"
   ]
  },
  {
   "cell_type": "code",
   "execution_count": 185,
   "id": "0bdf31e0",
   "metadata": {},
   "outputs": [
    {
     "name": "stdout",
     "output_type": "stream",
     "text": [
      "We are going to sleep in 0.01\n",
      "We are going to sleep in 0.1\n",
      "time of execution of function 'fetch_fast' is 1.109961986541748 seconds.\n",
      "time of execution of function 'fetch_fast' is 1.1207549571990967 seconds.\n"
     ]
    },
    {
     "data": {
      "text/plain": [
       "'<html><h1>Hello, world and fast https://google.com!</h1></html>'"
      ]
     },
     "execution_count": 185,
     "metadata": {},
     "output_type": "execute_result"
    }
   ],
   "source": [
    "fetch_fast_2('https://google.com')"
   ]
  },
  {
   "cell_type": "code",
   "execution_count": 186,
   "id": "ee87de26",
   "metadata": {},
   "outputs": [
    {
     "name": "stdout",
     "output_type": "stream",
     "text": [
      "['__annotations__', '__call__', '__class__', '__closure__', '__code__', '__defaults__', '__delattr__', '__dict__', '__dir__', '__doc__', '__eq__', '__format__', '__ge__', '__get__', '__getattribute__', '__globals__', '__gt__', '__hash__', '__init__', '__init_subclass__', '__kwdefaults__', '__le__', '__lt__', '__module__', '__name__', '__ne__', '__new__', '__qualname__', '__reduce__', '__reduce_ex__', '__repr__', '__setattr__', '__sizeof__', '__str__', '__subclasshook__', '__wrapped__']\n"
     ]
    },
    {
     "data": {
      "text/plain": [
       "'<html><h1>Hello, world and slow http:!</h1></html>'"
      ]
     },
     "execution_count": 186,
     "metadata": {},
     "output_type": "execute_result"
    }
   ],
   "source": [
    "print(dir(fetch_slow))\n",
    "fetch_slow.__wrapped__(\"http:\")"
   ]
  },
  {
   "cell_type": "markdown",
   "id": "d26b7164",
   "metadata": {},
   "source": [
    "# Функтор"
   ]
  },
  {
   "cell_type": "code",
   "execution_count": 187,
   "id": "8f7a869c",
   "metadata": {},
   "outputs": [
    {
     "name": "stdout",
     "output_type": "stream",
     "text": [
      "['Animal(3, Баба Джо)', 'Animal(5, Масик)', 'Animal(10, Матроскин)']\n"
     ]
    }
   ],
   "source": [
    "class Animal:\n",
    "    def __init__(self, age, name):\n",
    "        self.age = age\n",
    "        self.name = name\n",
    "    \n",
    "    def __str__(self):\n",
    "        return f\"{self.age} -> {self.name}\"\n",
    "    \n",
    "    def __repr__(self):\n",
    "        return f\"Animal({self.age}, {self.name})\"\n",
    "    \n",
    "    def __call__(self, *args, **kwargs):\n",
    "        print(\"Calling...\", args, kwargs)\n",
    "\n",
    "animals = [Animal(age, name) for age, name in [(5, 'Масик'), (3, 'Баба Джо'), (10, 'Матроскин')]]\n",
    "print([repr(animal) for animal in sorted(animals, key=lambda x: x.name, reverse=False)])\n"
   ]
  },
  {
   "cell_type": "code",
   "execution_count": 188,
   "id": "cd064331",
   "metadata": {},
   "outputs": [
    {
     "name": "stdout",
     "output_type": "stream",
     "text": [
      "Calling... (10, 'hello') {'name': 'Masik', 'id': 1}\n"
     ]
    }
   ],
   "source": [
    "masik = animals[0]\n",
    "masik(10, \"hello\", name=\"Masik\", id=1)"
   ]
  },
  {
   "cell_type": "code",
   "execution_count": 189,
   "id": "444be159",
   "metadata": {},
   "outputs": [
    {
     "data": {
      "text/plain": [
       "30"
      ]
     },
     "execution_count": 189,
     "metadata": {},
     "output_type": "execute_result"
    }
   ],
   "source": [
    "foo(10, 20)"
   ]
  },
  {
   "cell_type": "code",
   "execution_count": 190,
   "id": "105de04f",
   "metadata": {},
   "outputs": [],
   "source": [
    "def foo(a, b):\n",
    "    a += b # a = a + b\n",
    "    return a"
   ]
  },
  {
   "cell_type": "code",
   "execution_count": 191,
   "id": "18080b4a",
   "metadata": {},
   "outputs": [
    {
     "name": "stdout",
     "output_type": "stream",
     "text": [
      "foo(a, b)=3\n",
      "1 2\n"
     ]
    }
   ],
   "source": [
    "a, b = 1, 2\n",
    "print(f\"{foo(a, b)=}\")\n",
    "print(a, b)"
   ]
  },
  {
   "cell_type": "code",
   "execution_count": 192,
   "id": "7d841f4d",
   "metadata": {},
   "outputs": [
    {
     "name": "stdout",
     "output_type": "stream",
     "text": [
      "foo(x, y)=[1, 2, 3, 4]\n",
      "[1, 2, 3, 4] [3, 4]\n"
     ]
    }
   ],
   "source": [
    "x, y = [1, 2], [3, 4]\n",
    "print(f\"{foo(x, y)=}\")\n",
    "print(x, y)"
   ]
  },
  {
   "cell_type": "code",
   "execution_count": 193,
   "id": "9f653a9d",
   "metadata": {},
   "outputs": [],
   "source": [
    "def boo(x, l=[]):\n",
    "    l.append(x)\n",
    "    print(l)"
   ]
  },
  {
   "cell_type": "code",
   "execution_count": 194,
   "id": "3c9e0761",
   "metadata": {},
   "outputs": [
    {
     "name": "stdout",
     "output_type": "stream",
     "text": [
      "[10]\n"
     ]
    }
   ],
   "source": [
    "l1 = []\n",
    "boo(10, l1)"
   ]
  },
  {
   "cell_type": "code",
   "execution_count": 195,
   "id": "d84d1390",
   "metadata": {},
   "outputs": [
    {
     "name": "stdout",
     "output_type": "stream",
     "text": [
      "[10, 10]\n"
     ]
    }
   ],
   "source": [
    "boo(10, l1)"
   ]
  },
  {
   "cell_type": "code",
   "execution_count": 196,
   "id": "077647ff",
   "metadata": {},
   "outputs": [
    {
     "name": "stdout",
     "output_type": "stream",
     "text": [
      "[1]\n"
     ]
    }
   ],
   "source": [
    "boo(1)"
   ]
  },
  {
   "cell_type": "code",
   "execution_count": 197,
   "id": "ce14d974",
   "metadata": {},
   "outputs": [
    {
     "name": "stdout",
     "output_type": "stream",
     "text": [
      "[1, 2]\n"
     ]
    }
   ],
   "source": [
    "boo(2)"
   ]
  },
  {
   "cell_type": "code",
   "execution_count": 198,
   "id": "19b4e350",
   "metadata": {},
   "outputs": [
    {
     "name": "stdout",
     "output_type": "stream",
     "text": [
      "([1, 2],)\n"
     ]
    }
   ],
   "source": [
    "print(boo.__defaults__)"
   ]
  },
  {
   "cell_type": "code",
   "execution_count": 3,
   "id": "00eb1ce7",
   "metadata": {},
   "outputs": [],
   "source": [
    "def make_average():\n",
    "    series = []\n",
    "    def inner(value):\n",
    "        series.append(value)\n",
    "        total = sum(series)\n",
    "        return total / len(series)\n",
    "    return inner"
   ]
  },
  {
   "cell_type": "code",
   "execution_count": 4,
   "id": "1f213894",
   "metadata": {},
   "outputs": [],
   "source": [
    "avg = make_average()"
   ]
  },
  {
   "cell_type": "code",
   "execution_count": 7,
   "id": "0daffe4c",
   "metadata": {},
   "outputs": [
    {
     "data": {
      "text/plain": [
       "20.0"
      ]
     },
     "execution_count": 7,
     "metadata": {},
     "output_type": "execute_result"
    }
   ],
   "source": [
    "avg(30)"
   ]
  },
  {
   "cell_type": "code",
   "execution_count": 43,
   "id": "fbc0c029",
   "metadata": {},
   "outputs": [],
   "source": [
    "def foo():\n",
    "    x = 10\n",
    "    def inner():\n",
    "        nonlocal x\n",
    "        print(x)\n",
    "        x += 10\n",
    "    return inner"
   ]
  },
  {
   "cell_type": "code",
   "execution_count": 44,
   "id": "f23c3a1f",
   "metadata": {},
   "outputs": [],
   "source": [
    "boo = foo()"
   ]
  },
  {
   "cell_type": "code",
   "execution_count": 46,
   "id": "39cd8d2b",
   "metadata": {},
   "outputs": [
    {
     "name": "stdout",
     "output_type": "stream",
     "text": [
      "20\n"
     ]
    }
   ],
   "source": [
    "boo()"
   ]
  },
  {
   "cell_type": "code",
   "execution_count": 42,
   "id": "f9000bd9",
   "metadata": {},
   "outputs": [],
   "source": [
    "glob = \"global\"\n",
    "\n",
    "def f1():\n",
    "    p1 = 1\n",
    "    lst = []\n",
    "    def f2():\n",
    "        p2 = 2\n",
    "        nonlocal p1\n",
    "        p1 = 99\n",
    "        glob = \"qwerty\"\n",
    "        globals()[\"door\"] = \"some\"\n",
    "        lst.append(10)\n",
    "        print(f\"{p2=}\", locals())\n",
    "    f2()\n",
    "    print(f\"{p1=}\", locals())"
   ]
  },
  {
   "cell_type": "code",
   "execution_count": 33,
   "id": "3907e5b3",
   "metadata": {},
   "outputs": [
    {
     "name": "stdout",
     "output_type": "stream",
     "text": [
      "p2=2 {'p2': 2, 'glob': 'qwerty', 'lst': [10], 'p1': 99}\n",
      "p1=99 {'f2': <function f1.<locals>.f2 at 0x10d2a4790>, 'lst': [10], 'p1': 99}\n",
      "glob='global' some\n"
     ]
    }
   ],
   "source": [
    "f1()\n",
    "print(f\"{glob=}\", door)"
   ]
  },
  {
   "cell_type": "code",
   "execution_count": 34,
   "id": "0f9281f8",
   "metadata": {},
   "outputs": [],
   "source": [
    "import json\n",
    "s = '{\"keyword1\": \"cat dog bad\"}'\n",
    "doc = json.loads(s)"
   ]
  },
  {
   "cell_type": "code",
   "execution_count": 35,
   "id": "ba7ce612",
   "metadata": {},
   "outputs": [
    {
     "data": {
      "text/plain": [
       "{'keyword1': 'cat dog bad'}"
      ]
     },
     "execution_count": 35,
     "metadata": {},
     "output_type": "execute_result"
    }
   ],
   "source": [
    "doc"
   ]
  },
  {
   "cell_type": "code",
   "execution_count": null,
   "id": "b5b0405e",
   "metadata": {},
   "outputs": [],
   "source": [
    "def foo(s, [\"keywords1\", \"keyword2\"], [\"dog\", \"ape\"], handler)\n",
    "    #handler(\"dog\")"
   ]
  }
 ],
 "metadata": {
  "kernelspec": {
   "display_name": "Python 3 (ipykernel)",
   "language": "python",
   "name": "python3"
  },
  "language_info": {
   "codemirror_mode": {
    "name": "ipython",
    "version": 3
   },
   "file_extension": ".py",
   "mimetype": "text/x-python",
   "name": "python",
   "nbconvert_exporter": "python",
   "pygments_lexer": "ipython3",
   "version": "3.9.6"
  }
 },
 "nbformat": 4,
 "nbformat_minor": 5
}
