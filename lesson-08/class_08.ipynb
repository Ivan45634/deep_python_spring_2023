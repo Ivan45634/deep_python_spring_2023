{
 "cells": [
  {
   "cell_type": "code",
   "execution_count": 1,
   "id": "252f4fa4",
   "metadata": {},
   "outputs": [],
   "source": [
    "import sys"
   ]
  },
  {
   "cell_type": "code",
   "execution_count": 4,
   "id": "f599aa65",
   "metadata": {},
   "outputs": [
    {
     "data": {
      "text/plain": [
       "3"
      ]
     },
     "execution_count": 4,
     "metadata": {},
     "output_type": "execute_result"
    }
   ],
   "source": [
    "sys.getrefcount(\"^&&^&^dwkdjjewhdfjdnwjdnjwdwjdjwdewhfj\")"
   ]
  },
  {
   "cell_type": "code",
   "execution_count": 5,
   "id": "25e047fd",
   "metadata": {},
   "outputs": [],
   "source": [
    "n = 1"
   ]
  },
  {
   "cell_type": "code",
   "execution_count": 8,
   "id": "e4291710",
   "metadata": {},
   "outputs": [
    {
     "data": {
      "text/plain": [
       "(3379, 3379)"
      ]
     },
     "execution_count": 8,
     "metadata": {},
     "output_type": "execute_result"
    }
   ],
   "source": [
    "sys.getrefcount(n), sys.getrefcount(1)"
   ]
  },
  {
   "cell_type": "code",
   "execution_count": 9,
   "id": "33152fa3",
   "metadata": {},
   "outputs": [],
   "source": [
    "n = 3355"
   ]
  },
  {
   "cell_type": "code",
   "execution_count": 10,
   "id": "adf23c8b",
   "metadata": {},
   "outputs": [
    {
     "data": {
      "text/plain": [
       "2"
      ]
     },
     "execution_count": 10,
     "metadata": {},
     "output_type": "execute_result"
    }
   ],
   "source": [
    "sys.getrefcount(n)"
   ]
  },
  {
   "cell_type": "code",
   "execution_count": 11,
   "id": "d584dfc5",
   "metadata": {},
   "outputs": [],
   "source": [
    "n1 = n"
   ]
  },
  {
   "cell_type": "code",
   "execution_count": 12,
   "id": "b9dfddbf",
   "metadata": {},
   "outputs": [
    {
     "data": {
      "text/plain": [
       "3"
      ]
     },
     "execution_count": 12,
     "metadata": {},
     "output_type": "execute_result"
    }
   ],
   "source": [
    "sys.getrefcount(n)"
   ]
  },
  {
   "cell_type": "code",
   "execution_count": 17,
   "id": "53bfcb91",
   "metadata": {},
   "outputs": [
    {
     "name": "stdout",
     "output_type": "stream",
     "text": [
      "9\n"
     ]
    }
   ],
   "source": [
    "def factors(num):\n",
    "    print(sys.getrefcount(num))\n",
    "    return\n",
    "\n",
    "factors(n1)"
   ]
  },
  {
   "cell_type": "code",
   "execution_count": 18,
   "id": "c2a001dd",
   "metadata": {},
   "outputs": [],
   "source": [
    "lst = [1, 2, 3]"
   ]
  },
  {
   "cell_type": "code",
   "execution_count": 19,
   "id": "096d1435",
   "metadata": {},
   "outputs": [
    {
     "data": {
      "text/plain": [
       "2"
      ]
     },
     "execution_count": 19,
     "metadata": {},
     "output_type": "execute_result"
    }
   ],
   "source": [
    "sys.getrefcount(lst)"
   ]
  },
  {
   "cell_type": "code",
   "execution_count": 20,
   "id": "ed672d51",
   "metadata": {},
   "outputs": [],
   "source": [
    "lst1 = lst"
   ]
  },
  {
   "cell_type": "code",
   "execution_count": 21,
   "id": "44102c43",
   "metadata": {},
   "outputs": [
    {
     "data": {
      "text/plain": [
       "3"
      ]
     },
     "execution_count": 21,
     "metadata": {},
     "output_type": "execute_result"
    }
   ],
   "source": [
    "sys.getrefcount(lst)"
   ]
  },
  {
   "cell_type": "code",
   "execution_count": 22,
   "id": "05933cc7",
   "metadata": {},
   "outputs": [
    {
     "name": "stdout",
     "output_type": "stream",
     "text": [
      "5\n"
     ]
    }
   ],
   "source": [
    "factors(lst)"
   ]
  },
  {
   "cell_type": "code",
   "execution_count": 30,
   "id": "6435f4fa",
   "metadata": {},
   "outputs": [
    {
     "name": "stdout",
     "output_type": "stream",
     "text": [
      "4\n"
     ]
    }
   ],
   "source": [
    "lst2 = [1, 4, 5, 7]\n",
    "factors(lst2)"
   ]
  },
  {
   "cell_type": "code",
   "execution_count": 26,
   "id": "bea8d67d",
   "metadata": {},
   "outputs": [],
   "source": [
    "tp = (1, 2, 3, lst)"
   ]
  },
  {
   "cell_type": "code",
   "execution_count": 28,
   "id": "d24130fb",
   "metadata": {},
   "outputs": [
    {
     "data": {
      "text/plain": [
       "2"
      ]
     },
     "execution_count": 28,
     "metadata": {},
     "output_type": "execute_result"
    }
   ],
   "source": [
    "sys.getrefcount(lst1)"
   ]
  },
  {
   "cell_type": "code",
   "execution_count": null,
   "id": "1e4f55fd",
   "metadata": {},
   "outputs": [],
   "source": []
  },
  {
   "cell_type": "code",
   "execution_count": null,
   "id": "143ae707",
   "metadata": {},
   "outputs": [],
   "source": []
  },
  {
   "cell_type": "code",
   "execution_count": 31,
   "id": "9a30085b",
   "metadata": {},
   "outputs": [],
   "source": [
    "lst = [1, 2, 3]"
   ]
  },
  {
   "cell_type": "code",
   "execution_count": 32,
   "id": "7c2df3d1",
   "metadata": {},
   "outputs": [
    {
     "data": {
      "text/plain": [
       "2"
      ]
     },
     "execution_count": 32,
     "metadata": {},
     "output_type": "execute_result"
    }
   ],
   "source": [
    "sys.getrefcount(lst)"
   ]
  },
  {
   "cell_type": "code",
   "execution_count": 33,
   "id": "49e200f6",
   "metadata": {},
   "outputs": [],
   "source": [
    "tp = (1, 2, 3, lst)"
   ]
  },
  {
   "cell_type": "code",
   "execution_count": 34,
   "id": "81677759",
   "metadata": {},
   "outputs": [
    {
     "data": {
      "text/plain": [
       "3"
      ]
     },
     "execution_count": 34,
     "metadata": {},
     "output_type": "execute_result"
    }
   ],
   "source": [
    "sys.getrefcount(lst)"
   ]
  },
  {
   "cell_type": "code",
   "execution_count": 35,
   "id": "61cce9ab",
   "metadata": {},
   "outputs": [],
   "source": [
    "lst_copy = lst"
   ]
  },
  {
   "cell_type": "code",
   "execution_count": 36,
   "id": "306db4d8",
   "metadata": {},
   "outputs": [
    {
     "data": {
      "text/plain": [
       "4"
      ]
     },
     "execution_count": 36,
     "metadata": {},
     "output_type": "execute_result"
    }
   ],
   "source": [
    "sys.getrefcount(lst)"
   ]
  },
  {
   "cell_type": "code",
   "execution_count": 37,
   "id": "a53f1347",
   "metadata": {},
   "outputs": [
    {
     "data": {
      "text/plain": [
       "3"
      ]
     },
     "execution_count": 37,
     "metadata": {},
     "output_type": "execute_result"
    }
   ],
   "source": [
    "del lst_copy\n",
    "sys.getrefcount(lst)"
   ]
  },
  {
   "cell_type": "code",
   "execution_count": 38,
   "id": "2d073491",
   "metadata": {},
   "outputs": [
    {
     "data": {
      "text/plain": [
       "2"
      ]
     },
     "execution_count": 38,
     "metadata": {},
     "output_type": "execute_result"
    }
   ],
   "source": [
    "del tp\n",
    "sys.getrefcount(lst)"
   ]
  },
  {
   "cell_type": "code",
   "execution_count": 39,
   "id": "87d5ee6c",
   "metadata": {},
   "outputs": [],
   "source": [
    "del lst"
   ]
  },
  {
   "cell_type": "code",
   "execution_count": null,
   "id": "6e101276",
   "metadata": {},
   "outputs": [],
   "source": []
  },
  {
   "cell_type": "code",
   "execution_count": 78,
   "id": "518c28c7",
   "metadata": {},
   "outputs": [],
   "source": [
    "lst1 = [1, 2, 3]\n",
    "lst2 = [4, 5, lst1]\n",
    "lst1.append(lst2)\n",
    "\n",
    "\n",
    "class Car:\n",
    "    def __init__(self):\n",
    "        self.engine = Engine(self)\n",
    "    \n",
    "    def __del__(self):\n",
    "        print(\"DEL car\")\n",
    "\n",
    "\n",
    "class Engine:\n",
    "    def __init__(self, car=None):\n",
    "        self.car = car\n",
    "    \n",
    "    def __del__(self):\n",
    "        print(\"DEL engine\")\n",
    "\n",
    "        \n",
    "class Car2:\n",
    "    def __init__(self):\n",
    "        self.engine = Engine()\n",
    "\n",
    "    def __del__(self):\n",
    "        print(\"DEL car2\")\n",
    "        \n",
    "\n",
    "auto = Car()\n",
    "auto2 = Car2()"
   ]
  },
  {
   "cell_type": "code",
   "execution_count": 42,
   "id": "4220a090",
   "metadata": {},
   "outputs": [
    {
     "data": {
      "text/plain": [
       "5"
      ]
     },
     "execution_count": 42,
     "metadata": {},
     "output_type": "execute_result"
    }
   ],
   "source": [
    "sys.getrefcount(lst1)"
   ]
  },
  {
   "cell_type": "code",
   "execution_count": 43,
   "id": "e8c7f230",
   "metadata": {},
   "outputs": [
    {
     "data": {
      "text/plain": [
       "5"
      ]
     },
     "execution_count": 43,
     "metadata": {},
     "output_type": "execute_result"
    }
   ],
   "source": [
    "sys.getrefcount(lst2)"
   ]
  },
  {
   "cell_type": "code",
   "execution_count": 44,
   "id": "076371e3",
   "metadata": {},
   "outputs": [],
   "source": [
    "del lst1, lst2"
   ]
  },
  {
   "cell_type": "code",
   "execution_count": 56,
   "id": "53229177",
   "metadata": {},
   "outputs": [],
   "source": [
    "del auto"
   ]
  },
  {
   "cell_type": "code",
   "execution_count": 57,
   "id": "5fcddd24",
   "metadata": {},
   "outputs": [
    {
     "name": "stdout",
     "output_type": "stream",
     "text": [
      "DEL car2\n",
      "DEL engine\n"
     ]
    }
   ],
   "source": [
    "del auto2"
   ]
  },
  {
   "cell_type": "code",
   "execution_count": 58,
   "id": "a7365112",
   "metadata": {},
   "outputs": [],
   "source": [
    "import ctypes"
   ]
  },
  {
   "cell_type": "code",
   "execution_count": 59,
   "id": "a7567278",
   "metadata": {},
   "outputs": [],
   "source": [
    "class PyObject(ctypes.Structure):\n",
    "    _fields_ = [(\"refcnt\", ctypes.c_long)]"
   ]
  },
  {
   "cell_type": "code",
   "execution_count": 61,
   "id": "cb346d54",
   "metadata": {},
   "outputs": [
    {
     "name": "stdout",
     "output_type": "stream",
     "text": [
      "1\n"
     ]
    }
   ],
   "source": [
    "lst = [1, 2, 3]\n",
    "id_lst = id(lst)\n",
    "\n",
    "print(PyObject.from_address(id_lst).refcnt)"
   ]
  },
  {
   "cell_type": "code",
   "execution_count": 62,
   "id": "3d9b0961",
   "metadata": {},
   "outputs": [
    {
     "name": "stdout",
     "output_type": "stream",
     "text": [
      "2\n"
     ]
    }
   ],
   "source": [
    "lst1 = lst\n",
    "\n",
    "print(PyObject.from_address(id_lst).refcnt)"
   ]
  },
  {
   "cell_type": "code",
   "execution_count": 63,
   "id": "6a19b3c2",
   "metadata": {},
   "outputs": [
    {
     "name": "stdout",
     "output_type": "stream",
     "text": [
      "1\n"
     ]
    }
   ],
   "source": [
    "del lst1\n",
    "print(PyObject.from_address(id_lst).refcnt)"
   ]
  },
  {
   "cell_type": "code",
   "execution_count": 67,
   "id": "f7aa62df",
   "metadata": {},
   "outputs": [
    {
     "ename": "NameError",
     "evalue": "name 'lst' is not defined",
     "output_type": "error",
     "traceback": [
      "\u001b[0;31m---------------------------------------------------------------------------\u001b[0m",
      "\u001b[0;31mNameError\u001b[0m                                 Traceback (most recent call last)",
      "Cell \u001b[0;32mIn[67], line 1\u001b[0m\n\u001b[0;32m----> 1\u001b[0m \u001b[38;5;28;01mdel\u001b[39;00m lst\n\u001b[1;32m      2\u001b[0m \u001b[38;5;28mprint\u001b[39m(PyObject\u001b[38;5;241m.\u001b[39mfrom_address(id_lst)\u001b[38;5;241m.\u001b[39mrefcnt)\n",
      "\u001b[0;31mNameError\u001b[0m: name 'lst' is not defined"
     ]
    }
   ],
   "source": [
    "del lst\n",
    "print(PyObject.from_address(id_lst).refcnt)"
   ]
  },
  {
   "cell_type": "code",
   "execution_count": 66,
   "id": "ed0dff34",
   "metadata": {},
   "outputs": [
    {
     "name": "stdout",
     "output_type": "stream",
     "text": [
      "1\n"
     ]
    }
   ],
   "source": [
    "print(PyObject.from_address(id_lst).refcnt)"
   ]
  },
  {
   "cell_type": "code",
   "execution_count": 81,
   "id": "9bb29c3a",
   "metadata": {},
   "outputs": [
    {
     "name": "stdout",
     "output_type": "stream",
     "text": [
      "2 1\n"
     ]
    }
   ],
   "source": [
    "auto = Car()\n",
    "\n",
    "id_car = id(auto)\n",
    "id_engine = id(auto.engine)\n",
    "\n",
    "print(PyObject.from_address(id_car).refcnt, PyObject.from_address(id_engine).refcnt)"
   ]
  },
  {
   "cell_type": "code",
   "execution_count": 82,
   "id": "827751c0",
   "metadata": {},
   "outputs": [
    {
     "name": "stdout",
     "output_type": "stream",
     "text": [
      "1 1\n"
     ]
    }
   ],
   "source": [
    "del auto\n",
    "print(PyObject.from_address(id_car).refcnt, PyObject.from_address(id_engine).refcnt)"
   ]
  },
  {
   "cell_type": "code",
   "execution_count": 72,
   "id": "4514eaaa",
   "metadata": {},
   "outputs": [],
   "source": [
    "import gc"
   ]
  },
  {
   "cell_type": "code",
   "execution_count": 73,
   "id": "9e310131",
   "metadata": {},
   "outputs": [
    {
     "name": "stderr",
     "output_type": "stream",
     "text": [
      "Exception ignored in: <function Car.__del__ at 0x1045668c0>\n",
      "Traceback (most recent call last):\n",
      "  File \"/var/folders/c1/9wdb7dps2x332c6l1y2hrqkh0000gp/T/ipykernel_49207/902068051.py\", line 12, in __del__\n",
      "AttributeError: 'super' object has no attribute '__del__'\n"
     ]
    },
    {
     "name": "stdout",
     "output_type": "stream",
     "text": [
      "DEL car\n",
      "DEL engine\n"
     ]
    },
    {
     "data": {
      "text/plain": [
       "2228"
      ]
     },
     "execution_count": 73,
     "metadata": {},
     "output_type": "execute_result"
    }
   ],
   "source": [
    "gc.collect()"
   ]
  },
  {
   "cell_type": "code",
   "execution_count": 83,
   "id": "76c27862",
   "metadata": {},
   "outputs": [
    {
     "name": "stdout",
     "output_type": "stream",
     "text": [
      "DEL car\n",
      "DEL engine\n",
      "DEL car\n",
      "DEL engine\n"
     ]
    },
    {
     "data": {
      "text/plain": [
       "8"
      ]
     },
     "execution_count": 83,
     "metadata": {},
     "output_type": "execute_result"
    }
   ],
   "source": [
    "gc.collect()"
   ]
  },
  {
   "cell_type": "code",
   "execution_count": 84,
   "id": "a55f6846",
   "metadata": {},
   "outputs": [
    {
     "data": {
      "text/plain": [
       "0"
      ]
     },
     "execution_count": 84,
     "metadata": {},
     "output_type": "execute_result"
    }
   ],
   "source": [
    "gc.collect()"
   ]
  },
  {
   "cell_type": "code",
   "execution_count": null,
   "id": "88f33967",
   "metadata": {},
   "outputs": [],
   "source": [
    "x = 1000\n",
    "\n",
    "def fn(y, z):\n",
    "    pass  # del y, z\n",
    "\n",
    "fn(x, z=x)  # y=x, z=x"
   ]
  },
  {
   "cell_type": "code",
   "execution_count": null,
   "id": "33c3aeb2",
   "metadata": {},
   "outputs": [],
   "source": []
  },
  {
   "cell_type": "code",
   "execution_count": 85,
   "id": "502dba4a",
   "metadata": {},
   "outputs": [],
   "source": [
    "gc.disable()"
   ]
  },
  {
   "cell_type": "code",
   "execution_count": 86,
   "id": "9674bc4f",
   "metadata": {},
   "outputs": [
    {
     "name": "stdout",
     "output_type": "stream",
     "text": [
      "2 1\n"
     ]
    }
   ],
   "source": [
    "auto = Car()\n",
    "\n",
    "id_car = id(auto)\n",
    "id_engine = id(auto.engine)\n",
    "\n",
    "print(PyObject.from_address(id_car).refcnt, PyObject.from_address(id_engine).refcnt)"
   ]
  },
  {
   "cell_type": "code",
   "execution_count": 87,
   "id": "fdb15bbb",
   "metadata": {},
   "outputs": [],
   "source": [
    "del auto"
   ]
  },
  {
   "cell_type": "code",
   "execution_count": 88,
   "id": "3e529c9d",
   "metadata": {},
   "outputs": [
    {
     "name": "stdout",
     "output_type": "stream",
     "text": [
      "DEL car\n",
      "DEL engine\n"
     ]
    },
    {
     "data": {
      "text/plain": [
       "379"
      ]
     },
     "execution_count": 88,
     "metadata": {},
     "output_type": "execute_result"
    }
   ],
   "source": [
    "gc.collect()"
   ]
  },
  {
   "cell_type": "code",
   "execution_count": 89,
   "id": "3dc1574b",
   "metadata": {},
   "outputs": [],
   "source": [
    "gc.enable()"
   ]
  },
  {
   "cell_type": "code",
   "execution_count": 90,
   "id": "f0f1ccd8",
   "metadata": {},
   "outputs": [
    {
     "data": {
      "text/plain": [
       "155749"
      ]
     },
     "execution_count": 90,
     "metadata": {},
     "output_type": "execute_result"
    }
   ],
   "source": [
    "len(gc.get_objects())"
   ]
  },
  {
   "cell_type": "code",
   "execution_count": null,
   "id": "89ea976e",
   "metadata": {},
   "outputs": [],
   "source": []
  },
  {
   "cell_type": "code",
   "execution_count": null,
   "id": "e6c7a9cd",
   "metadata": {},
   "outputs": [],
   "source": []
  },
  {
   "cell_type": "code",
   "execution_count": 93,
   "id": "21739a8e",
   "metadata": {},
   "outputs": [],
   "source": [
    "import weakref"
   ]
  },
  {
   "cell_type": "code",
   "execution_count": 94,
   "id": "8f4b7e2f",
   "metadata": {},
   "outputs": [],
   "source": [
    "class Car:\n",
    "    def __init__(self):\n",
    "        self.engine = Engine(self)\n",
    "    \n",
    "    def __del__(self):\n",
    "        print(\"DEL car\")\n",
    "\n",
    "\n",
    "class Engine:\n",
    "    def __init__(self, car):\n",
    "        self.car = weakref.ref(car)\n",
    "    \n",
    "    def __del__(self):\n",
    "        print(\"DEL engine\")\n",
    "        \n",
    "\n",
    "auto = Car()"
   ]
  },
  {
   "cell_type": "code",
   "execution_count": 95,
   "id": "704d479e",
   "metadata": {},
   "outputs": [
    {
     "name": "stdout",
     "output_type": "stream",
     "text": [
      "DEL car\n",
      "DEL engine\n"
     ]
    }
   ],
   "source": [
    "del auto"
   ]
  },
  {
   "cell_type": "code",
   "execution_count": 96,
   "id": "9a2e66ba",
   "metadata": {},
   "outputs": [],
   "source": [
    "auto = Car()"
   ]
  },
  {
   "cell_type": "code",
   "execution_count": 97,
   "id": "a34ab9cc",
   "metadata": {},
   "outputs": [],
   "source": [
    "eng = auto.engine"
   ]
  },
  {
   "cell_type": "code",
   "execution_count": 105,
   "id": "8224b03d",
   "metadata": {},
   "outputs": [],
   "source": [
    "del auto"
   ]
  },
  {
   "cell_type": "code",
   "execution_count": 107,
   "id": "0e317f3d",
   "metadata": {},
   "outputs": [],
   "source": [
    "del eng"
   ]
  },
  {
   "cell_type": "code",
   "execution_count": 114,
   "id": "685a936e",
   "metadata": {},
   "outputs": [
    {
     "data": {
      "text/plain": [
       "31"
      ]
     },
     "execution_count": 114,
     "metadata": {},
     "output_type": "execute_result"
    }
   ],
   "source": [
    "sys.getrefcount(wr_car2())"
   ]
  },
  {
   "cell_type": "code",
   "execution_count": 115,
   "id": "11fc6a4c",
   "metadata": {},
   "outputs": [],
   "source": [
    "auto = Car()"
   ]
  },
  {
   "cell_type": "code",
   "execution_count": 116,
   "id": "8e2001eb",
   "metadata": {},
   "outputs": [],
   "source": [
    "wt_car = auto.engine.car"
   ]
  },
  {
   "cell_type": "code",
   "execution_count": 117,
   "id": "fa2dec78",
   "metadata": {},
   "outputs": [],
   "source": [
    "del auto"
   ]
  },
  {
   "cell_type": "code",
   "execution_count": 118,
   "id": "680579a7",
   "metadata": {},
   "outputs": [],
   "source": [
    "auto = Car()"
   ]
  },
  {
   "cell_type": "code",
   "execution_count": 119,
   "id": "3e895993",
   "metadata": {},
   "outputs": [
    {
     "name": "stdout",
     "output_type": "stream",
     "text": [
      "DEL car\n",
      "DEL engine\n"
     ]
    }
   ],
   "source": [
    "del auto"
   ]
  },
  {
   "cell_type": "code",
   "execution_count": null,
   "id": "6e4714b7",
   "metadata": {},
   "outputs": [],
   "source": []
  },
  {
   "cell_type": "code",
   "execution_count": 126,
   "id": "b7f81b9f",
   "metadata": {},
   "outputs": [],
   "source": [
    "class Car2:\n",
    "    def __del__(self):\n",
    "        print(\"del Car2\")\n",
    "\n",
    "\n",
    "def print_final():\n",
    "    print(\"final\")\n",
    "    \n",
    "\n",
    "auto = Car2()\n",
    "weakref.finalize(auto, print_final)\n",
    "\n",
    "wr_auto = weakref.ref(auto)"
   ]
  },
  {
   "cell_type": "code",
   "execution_count": 123,
   "id": "e2d2e215",
   "metadata": {},
   "outputs": [
    {
     "data": {
      "text/plain": [
       "<__main__.Car2 at 0x10402e3e0>"
      ]
     },
     "execution_count": 123,
     "metadata": {},
     "output_type": "execute_result"
    }
   ],
   "source": [
    "wr_auto()"
   ]
  },
  {
   "cell_type": "code",
   "execution_count": 127,
   "id": "994d0ddb",
   "metadata": {},
   "outputs": [
    {
     "name": "stdout",
     "output_type": "stream",
     "text": [
      "del Car2\n",
      "final\n"
     ]
    }
   ],
   "source": [
    "del auto"
   ]
  },
  {
   "cell_type": "code",
   "execution_count": 129,
   "id": "ac47c277",
   "metadata": {},
   "outputs": [
    {
     "name": "stdout",
     "output_type": "stream",
     "text": [
      "None\n"
     ]
    }
   ],
   "source": [
    "print(wr_auto())"
   ]
  },
  {
   "cell_type": "code",
   "execution_count": null,
   "id": "350e242f",
   "metadata": {},
   "outputs": [],
   "source": []
  },
  {
   "cell_type": "code",
   "execution_count": null,
   "id": "ed18dc70",
   "metadata": {},
   "outputs": [],
   "source": []
  },
  {
   "cell_type": "code",
   "execution_count": 130,
   "id": "12c058e2",
   "metadata": {},
   "outputs": [],
   "source": [
    "class Point:\n",
    "    def __init__(self, x, y):\n",
    "        self.x = x\n",
    "        self.y = y\n",
    "\n",
    "\n",
    "class PointSlots:\n",
    "    __slots__ = (\"x\", \"y\")\n",
    "\n",
    "    def __init__(self, x, y):\n",
    "        self.x = x\n",
    "        self.y = y"
   ]
  },
  {
   "cell_type": "code",
   "execution_count": 131,
   "id": "1c6da372",
   "metadata": {},
   "outputs": [],
   "source": [
    "p = Point(1, 2)\n",
    "ps = PointSlots(1, 2)"
   ]
  },
  {
   "cell_type": "code",
   "execution_count": 132,
   "id": "fca8eeb6",
   "metadata": {},
   "outputs": [
    {
     "data": {
      "text/plain": [
       "(1, 2, 1, 2)"
      ]
     },
     "execution_count": 132,
     "metadata": {},
     "output_type": "execute_result"
    }
   ],
   "source": [
    "p.x, p.y, ps.x, ps.y"
   ]
  },
  {
   "cell_type": "code",
   "execution_count": 133,
   "id": "01b11621",
   "metadata": {},
   "outputs": [],
   "source": [
    "p.z = 10"
   ]
  },
  {
   "cell_type": "code",
   "execution_count": 134,
   "id": "c8612523",
   "metadata": {},
   "outputs": [
    {
     "data": {
      "text/plain": [
       "10"
      ]
     },
     "execution_count": 134,
     "metadata": {},
     "output_type": "execute_result"
    }
   ],
   "source": [
    "p.z"
   ]
  },
  {
   "cell_type": "code",
   "execution_count": 135,
   "id": "c1a4679e",
   "metadata": {},
   "outputs": [
    {
     "ename": "AttributeError",
     "evalue": "'PointSlots' object has no attribute 'z'",
     "output_type": "error",
     "traceback": [
      "\u001b[0;31m---------------------------------------------------------------------------\u001b[0m",
      "\u001b[0;31mAttributeError\u001b[0m                            Traceback (most recent call last)",
      "Cell \u001b[0;32mIn[135], line 1\u001b[0m\n\u001b[0;32m----> 1\u001b[0m \u001b[43mps\u001b[49m\u001b[38;5;241;43m.\u001b[39;49m\u001b[43mz\u001b[49m \u001b[38;5;241m=\u001b[39m \u001b[38;5;241m10\u001b[39m\n",
      "\u001b[0;31mAttributeError\u001b[0m: 'PointSlots' object has no attribute 'z'"
     ]
    }
   ],
   "source": [
    "ps.z = 10"
   ]
  },
  {
   "cell_type": "code",
   "execution_count": 136,
   "id": "584d7175",
   "metadata": {},
   "outputs": [
    {
     "data": {
      "text/plain": [
       "(48, 48)"
      ]
     },
     "execution_count": 136,
     "metadata": {},
     "output_type": "execute_result"
    }
   ],
   "source": [
    "sys.getsizeof(p), sys.getsizeof(ps)"
   ]
  },
  {
   "cell_type": "code",
   "execution_count": 137,
   "id": "633e4e0a",
   "metadata": {},
   "outputs": [
    {
     "data": {
      "text/plain": [
       "64"
      ]
     },
     "execution_count": 137,
     "metadata": {},
     "output_type": "execute_result"
    }
   ],
   "source": [
    "d = {}\n",
    "sys.getsizeof(d)"
   ]
  },
  {
   "cell_type": "code",
   "execution_count": 140,
   "id": "ecb93e19",
   "metadata": {},
   "outputs": [
    {
     "data": {
      "text/plain": [
       "232"
      ]
     },
     "execution_count": 140,
     "metadata": {},
     "output_type": "execute_result"
    }
   ],
   "source": [
    "d = {i: i for i in range(1)}\n",
    "\n",
    "sys.getsizeof(d)"
   ]
  },
  {
   "cell_type": "code",
   "execution_count": 138,
   "id": "84374209",
   "metadata": {},
   "outputs": [
    {
     "data": {
      "text/plain": [
       "232"
      ]
     },
     "execution_count": 138,
     "metadata": {},
     "output_type": "execute_result"
    }
   ],
   "source": [
    "d = {i: i for i in range(5)}\n",
    "\n",
    "sys.getsizeof(d)"
   ]
  },
  {
   "cell_type": "code",
   "execution_count": 139,
   "id": "3c44d552",
   "metadata": {},
   "outputs": [
    {
     "data": {
      "text/plain": [
       "360"
      ]
     },
     "execution_count": 139,
     "metadata": {},
     "output_type": "execute_result"
    }
   ],
   "source": [
    "d = {i: i for i in range(6)}\n",
    "\n",
    "sys.getsizeof(d)"
   ]
  },
  {
   "cell_type": "code",
   "execution_count": 145,
   "id": "e73b31dd",
   "metadata": {},
   "outputs": [
    {
     "data": {
      "text/plain": [
       "(49, 50, 51, 76)"
      ]
     },
     "execution_count": 145,
     "metadata": {},
     "output_type": "execute_result"
    }
   ],
   "source": [
    "sys.getsizeof(\"\"), sys.getsizeof(\"a\"), sys.getsizeof(\"1a\"), sys.getsizeof(\"Ц\")"
   ]
  },
  {
   "cell_type": "code",
   "execution_count": 148,
   "id": "40924e5a",
   "metadata": {
    "scrolled": true
   },
   "outputs": [
    {
     "data": {
      "text/plain": [
       "(28, 28, 36, 36)"
      ]
     },
     "execution_count": 148,
     "metadata": {},
     "output_type": "execute_result"
    }
   ],
   "source": [
    "sys.getsizeof(1), sys.getsizeof(3399), sys.getsizeof(2 ** 64 - 1), sys.getsizeof(2 ** 64)"
   ]
  },
  {
   "cell_type": "code",
   "execution_count": 151,
   "id": "17a8a88e",
   "metadata": {},
   "outputs": [
    {
     "data": {
      "text/plain": [
       "(56, 120, 40, 72)"
      ]
     },
     "execution_count": 151,
     "metadata": {},
     "output_type": "execute_result"
    }
   ],
   "source": [
    "sys.getsizeof([]), sys.getsizeof([1, 2, 3, 4]), sys.getsizeof(()), sys.getsizeof((1, 2, 3, 4))"
   ]
  },
  {
   "cell_type": "code",
   "execution_count": null,
   "id": "c27d3ce1",
   "metadata": {},
   "outputs": [],
   "source": []
  },
  {
   "cell_type": "code",
   "execution_count": null,
   "id": "e7f6d242",
   "metadata": {},
   "outputs": [],
   "source": []
  },
  {
   "cell_type": "code",
   "execution_count": 155,
   "id": "a9ca0473",
   "metadata": {},
   "outputs": [],
   "source": [
    "N = 5_000_000"
   ]
  },
  {
   "cell_type": "code",
   "execution_count": 158,
   "id": "2b052204",
   "metadata": {},
   "outputs": [
    {
     "name": "stdout",
     "output_type": "stream",
     "text": [
      "CPU times: user 4.74 s, sys: 372 ms, total: 5.11 s\n",
      "Wall time: 5.46 s\n"
     ]
    }
   ],
   "source": [
    "%%time\n",
    "\n",
    "points = [Point(3388, 4455) for i in range(N)]\n",
    "\n",
    "for p in points:\n",
    "    p.x = 1\n",
    "    p.y += 10"
   ]
  },
  {
   "cell_type": "code",
   "execution_count": 159,
   "id": "aa20674f",
   "metadata": {},
   "outputs": [
    {
     "name": "stdout",
     "output_type": "stream",
     "text": [
      "CPU times: user 3.77 s, sys: 231 ms, total: 4 s\n",
      "Wall time: 4.23 s\n"
     ]
    }
   ],
   "source": [
    "%%time\n",
    "\n",
    "points = [PointSlots(3388, 4455) for i in range(N)]\n",
    "\n",
    "for p in points:\n",
    "    p.x = 1\n",
    "    p.y += 10"
   ]
  },
  {
   "cell_type": "code",
   "execution_count": null,
   "id": "b674eb33",
   "metadata": {},
   "outputs": [],
   "source": []
  }
 ],
 "metadata": {
  "kernelspec": {
   "display_name": "Python 3 (ipykernel)",
   "language": "python",
   "name": "python3"
  },
  "language_info": {
   "codemirror_mode": {
    "name": "ipython",
    "version": 3
   },
   "file_extension": ".py",
   "mimetype": "text/x-python",
   "name": "python",
   "nbconvert_exporter": "python",
   "pygments_lexer": "ipython3",
   "version": "3.10.2"
  }
 },
 "nbformat": 4,
 "nbformat_minor": 5
}
