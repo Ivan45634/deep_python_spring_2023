{
 "cells": [
  {
   "cell_type": "code",
   "execution_count": 35,
   "id": "e81fb76e",
   "metadata": {},
   "outputs": [],
   "source": [
    "def grep(pattern):\n",
    "    print(\"start grep for\", pattern)\n",
    "    count = 0\n",
    "\n",
    "    while True:\n",
    "        s = yield count\n",
    "            \n",
    "        count += 1\n",
    "        if pattern in s:\n",
    "            print(\"found!\", s)\n",
    "        else:\n",
    "            print(\"no %s in %s\" % (pattern, s))"
   ]
  },
  {
   "cell_type": "code",
   "execution_count": 26,
   "id": "dd7bcb01",
   "metadata": {},
   "outputs": [
    {
     "data": {
      "text/plain": [
       "<generator object grep at 0x103fd1d20>"
      ]
     },
     "execution_count": 26,
     "metadata": {},
     "output_type": "execute_result"
    }
   ],
   "source": [
    "g = grep(\"python\")\n",
    "g"
   ]
  },
  {
   "cell_type": "code",
   "execution_count": 27,
   "id": "4137d7c2",
   "metadata": {},
   "outputs": [
    {
     "name": "stdout",
     "output_type": "stream",
     "text": [
      "start grep for python\n"
     ]
    },
    {
     "data": {
      "text/plain": [
       "0"
      ]
     },
     "execution_count": 27,
     "metadata": {},
     "output_type": "execute_result"
    }
   ],
   "source": [
    "next(g)"
   ]
  },
  {
   "cell_type": "code",
   "execution_count": 28,
   "id": "e47ad7f7",
   "metadata": {},
   "outputs": [
    {
     "name": "stdout",
     "output_type": "stream",
     "text": [
      "no python in None\n",
      "found! python\n"
     ]
    },
    {
     "data": {
      "text/plain": [
       "2"
      ]
     },
     "execution_count": 28,
     "metadata": {},
     "output_type": "execute_result"
    }
   ],
   "source": [
    "g.send(\"None\")\n",
    "g.send(\"python\")"
   ]
  },
  {
   "cell_type": "code",
   "execution_count": 33,
   "id": "362d851b",
   "metadata": {},
   "outputs": [
    {
     "name": "stdout",
     "output_type": "stream",
     "text": [
      "found! python\n"
     ]
    },
    {
     "data": {
      "text/plain": [
       "7"
      ]
     },
     "execution_count": 33,
     "metadata": {},
     "output_type": "execute_result"
    }
   ],
   "source": [
    "g.send(\"python\")"
   ]
  },
  {
   "cell_type": "code",
   "execution_count": 34,
   "id": "273f2e6a",
   "metadata": {},
   "outputs": [
    {
     "ename": "ValueError",
     "evalue": "WRONG",
     "output_type": "error",
     "traceback": [
      "\u001b[0;31m---------------------------------------------------------------------------\u001b[0m",
      "\u001b[0;31mValueError\u001b[0m                                Traceback (most recent call last)",
      "Cell \u001b[0;32mIn[34], line 1\u001b[0m\n\u001b[0;32m----> 1\u001b[0m \u001b[43mg\u001b[49m\u001b[38;5;241;43m.\u001b[39;49m\u001b[43mthrow\u001b[49m\u001b[43m(\u001b[49m\u001b[38;5;167;43;01mValueError\u001b[39;49;00m\u001b[43m(\u001b[49m\u001b[38;5;124;43m\"\u001b[39;49m\u001b[38;5;124;43mWRONG\u001b[39;49m\u001b[38;5;124;43m\"\u001b[39;49m\u001b[43m)\u001b[49m\u001b[43m)\u001b[49m\n",
      "Cell \u001b[0;32mIn[25], line 6\u001b[0m, in \u001b[0;36mgrep\u001b[0;34m(pattern)\u001b[0m\n\u001b[1;32m      3\u001b[0m count \u001b[38;5;241m=\u001b[39m \u001b[38;5;241m0\u001b[39m\n\u001b[1;32m      5\u001b[0m \u001b[38;5;28;01mwhile\u001b[39;00m \u001b[38;5;28;01mTrue\u001b[39;00m:\n\u001b[0;32m----> 6\u001b[0m     s \u001b[38;5;241m=\u001b[39m \u001b[38;5;28;01myield\u001b[39;00m count\n\u001b[1;32m      7\u001b[0m     count \u001b[38;5;241m+\u001b[39m\u001b[38;5;241m=\u001b[39m \u001b[38;5;241m1\u001b[39m\n\u001b[1;32m      8\u001b[0m     \u001b[38;5;28;01mif\u001b[39;00m pattern \u001b[38;5;129;01min\u001b[39;00m s:\n",
      "\u001b[0;31mValueError\u001b[0m: WRONG"
     ]
    }
   ],
   "source": [
    "g.throw(ValueError(\"WRONG\"))"
   ]
  },
  {
   "cell_type": "code",
   "execution_count": null,
   "id": "f11883a3",
   "metadata": {},
   "outputs": [],
   "source": []
  },
  {
   "cell_type": "code",
   "execution_count": 39,
   "id": "ddfb6a0c",
   "metadata": {},
   "outputs": [],
   "source": [
    "import asyncio"
   ]
  },
  {
   "cell_type": "code",
   "execution_count": 42,
   "id": "ee9570b9",
   "metadata": {},
   "outputs": [],
   "source": [
    "async def countdown(n):\n",
    "    print(f\"start count {n}\")\n",
    "    for i in range(n):\n",
    "        print(f\"count {i + 1} of {n}\")\n",
    "        await asyncio.sleep(1)"
   ]
  },
  {
   "cell_type": "code",
   "execution_count": 43,
   "id": "fe468373",
   "metadata": {},
   "outputs": [
    {
     "name": "stdout",
     "output_type": "stream",
     "text": [
      "start count 3\n",
      "count 1 of 3\n",
      "count 2 of 3\n",
      "count 3 of 3\n"
     ]
    }
   ],
   "source": [
    "await countdown(3)"
   ]
  },
  {
   "cell_type": "code",
   "execution_count": 44,
   "id": "de74f7c8",
   "metadata": {},
   "outputs": [],
   "source": [
    "c = countdown(3)"
   ]
  },
  {
   "cell_type": "code",
   "execution_count": 45,
   "id": "5a10e089",
   "metadata": {},
   "outputs": [
    {
     "name": "stderr",
     "output_type": "stream",
     "text": [
      "/var/folders/c1/9wdb7dps2x332c6l1y2hrqkh0000gp/T/ipykernel_9145/1625600815.py:1: RuntimeWarning: coroutine 'countdown' was never awaited\n",
      "  del c\n",
      "RuntimeWarning: Enable tracemalloc to get the object allocation traceback\n"
     ]
    }
   ],
   "source": [
    "del c"
   ]
  },
  {
   "cell_type": "code",
   "execution_count": 48,
   "id": "e53d8951",
   "metadata": {},
   "outputs": [],
   "source": [
    "import time"
   ]
  },
  {
   "cell_type": "code",
   "execution_count": 49,
   "id": "f2920bdb",
   "metadata": {},
   "outputs": [
    {
     "name": "stdout",
     "output_type": "stream",
     "text": [
      "start count 2\n",
      "count 1 of 2\n",
      "count 2 of 2\n",
      "start count 3\n",
      "count 1 of 3\n",
      "count 2 of 3\n",
      "count 3 of 3\n",
      "time 5.004453897476196\n"
     ]
    }
   ],
   "source": [
    "async def add_counts():\n",
    "    await countdown(2)\n",
    "    await countdown(3)\n",
    "\n",
    "\n",
    "t1 = time.time()\n",
    "\n",
    "await add_counts()\n",
    "\n",
    "t2 = time.time()\n",
    "print(\"time\", t2 - t1)"
   ]
  },
  {
   "cell_type": "code",
   "execution_count": 50,
   "id": "774f3688",
   "metadata": {},
   "outputs": [
    {
     "name": "stdout",
     "output_type": "stream",
     "text": [
      "start count 3\n",
      "count 1 of 3\n",
      "count 2 of 3\n",
      "count 3 of 3\n",
      "start count 2\n",
      "count 1 of 2\n",
      "count 2 of 2\n",
      "time 5.003523111343384\n"
     ]
    }
   ],
   "source": [
    "async def add_counts():\n",
    "    c = countdown(2)\n",
    "    await countdown(3)\n",
    "    await c\n",
    "\n",
    "\n",
    "t1 = time.time()\n",
    "\n",
    "await add_counts()\n",
    "\n",
    "t2 = time.time()\n",
    "print(\"time\", t2 - t1)"
   ]
  },
  {
   "cell_type": "code",
   "execution_count": 51,
   "id": "0635a653",
   "metadata": {},
   "outputs": [
    {
     "name": "stdout",
     "output_type": "stream",
     "text": [
      "start count 2\n",
      "count 1 of 2\n",
      "count 2 of 2\n",
      "start count 3\n",
      "count 1 of 3\n",
      "count 2 of 3\n",
      "count 3 of 3\n",
      "time 5.014102935791016\n"
     ]
    }
   ],
   "source": [
    "async def add_counts():\n",
    "    task = asyncio.create_task(countdown(2))\n",
    "    await task\n",
    "    await countdown(3)\n",
    "\n",
    "\n",
    "t1 = time.time()\n",
    "\n",
    "await add_counts()\n",
    "\n",
    "t2 = time.time()\n",
    "print(\"time\", t2 - t1)"
   ]
  },
  {
   "cell_type": "code",
   "execution_count": 52,
   "id": "55d349e6",
   "metadata": {},
   "outputs": [
    {
     "name": "stdout",
     "output_type": "stream",
     "text": [
      "start count 3\n",
      "count 1 of 3\n",
      "start count 2\n",
      "count 1 of 2\n",
      "count 2 of 3\n",
      "count 2 of 2\n",
      "count 3 of 3\n",
      "time 3.003131151199341\n"
     ]
    }
   ],
   "source": [
    "async def add_counts():\n",
    "    task = asyncio.create_task(countdown(2))\n",
    "    await countdown(3)\n",
    "    await task\n",
    "\n",
    "\n",
    "t1 = time.time()\n",
    "\n",
    "await add_counts()\n",
    "\n",
    "t2 = time.time()\n",
    "print(\"time\", t2 - t1)"
   ]
  },
  {
   "cell_type": "code",
   "execution_count": 55,
   "id": "73414df6",
   "metadata": {},
   "outputs": [],
   "source": [
    "async def block(n):\n",
    "    for i in range(n):\n",
    "        print(f\"block {i + 1} of {n}\")\n",
    "        time.sleep(1)"
   ]
  },
  {
   "cell_type": "code",
   "execution_count": 56,
   "id": "2b1b9fbb",
   "metadata": {},
   "outputs": [
    {
     "name": "stdout",
     "output_type": "stream",
     "text": [
      "block 1 of 3\n",
      "block 2 of 3\n",
      "block 3 of 3\n"
     ]
    }
   ],
   "source": [
    "await block(3)"
   ]
  },
  {
   "cell_type": "code",
   "execution_count": 58,
   "id": "1830d574",
   "metadata": {},
   "outputs": [
    {
     "name": "stdout",
     "output_type": "stream",
     "text": [
      "block 1 of 3\n",
      "block 2 of 3\n",
      "block 3 of 3\n",
      "start count 3\n",
      "count 1 of 3\n",
      "start count 2\n",
      "count 1 of 2\n",
      "count 2 of 3\n",
      "count 2 of 2\n",
      "count 3 of 3\n",
      "time 6.006447076797485\n"
     ]
    }
   ],
   "source": [
    "async def add_counts():\n",
    "    task = asyncio.create_task(countdown(2))\n",
    "    await block(3)\n",
    "    await countdown(3)\n",
    "    await task\n",
    "\n",
    "\n",
    "t1 = time.time()\n",
    "\n",
    "await add_counts()\n",
    "\n",
    "t2 = time.time()\n",
    "print(\"time\", t2 - t1)"
   ]
  },
  {
   "cell_type": "code",
   "execution_count": 61,
   "id": "eb21f19b",
   "metadata": {},
   "outputs": [
    {
     "name": "stdout",
     "output_type": "stream",
     "text": [
      "block 1 of 3\n",
      "start count 2\n",
      "count 1 of 2\n",
      "block 2 of 3\n",
      "block 3 of 3\n",
      "start count 3\n",
      "count 1 of 3\n",
      "count 2 of 2\n",
      "count 2 of 3\n",
      "count 3 of 3\n",
      "time 6.014416933059692\n"
     ]
    }
   ],
   "source": [
    "async def block(n):\n",
    "    for i in range(n):\n",
    "        print(f\"block {i + 1} of {n}\")\n",
    "        time.sleep(1)\n",
    "        await asyncio.sleep(0)\n",
    "\n",
    "\n",
    "async def add_counts():\n",
    "    task = asyncio.create_task(countdown(2))\n",
    "    await block(3)\n",
    "    await countdown(3)\n",
    "    await task\n",
    "\n",
    "\n",
    "t1 = time.time()\n",
    "\n",
    "await add_counts()\n",
    "\n",
    "t2 = time.time()\n",
    "print(\"time\", t2 - t1)"
   ]
  },
  {
   "cell_type": "code",
   "execution_count": null,
   "id": "1ad331e6",
   "metadata": {},
   "outputs": [],
   "source": []
  },
  {
   "cell_type": "code",
   "execution_count": null,
   "id": "b60cb555",
   "metadata": {},
   "outputs": [],
   "source": []
  },
  {
   "cell_type": "code",
   "execution_count": 63,
   "id": "41e18219",
   "metadata": {},
   "outputs": [
    {
     "name": "stdout",
     "output_type": "stream",
     "text": [
      "Collecting aiohttp\n",
      "  Downloading aiohttp-3.8.4-cp310-cp310-macosx_10_9_x86_64.whl (358 kB)\n",
      "\u001b[2K     \u001b[90m━━━━━━━━━━━━━━━━━━━━━━━━━━━━━━━━━━━━━━━\u001b[0m \u001b[32m358.1/358.1 kB\u001b[0m \u001b[31m1.7 MB/s\u001b[0m eta \u001b[36m0:00:00\u001b[0ma \u001b[36m0:00:01\u001b[0m\n",
      "\u001b[?25hCollecting multidict<7.0,>=4.5\n",
      "  Downloading multidict-6.0.4-cp310-cp310-macosx_10_9_x86_64.whl (29 kB)\n",
      "Collecting frozenlist>=1.1.1\n",
      "  Using cached frozenlist-1.3.3-cp310-cp310-macosx_10_9_x86_64.whl (35 kB)\n",
      "Collecting charset-normalizer<4.0,>=2.0\n",
      "  Downloading charset_normalizer-3.1.0-cp310-cp310-macosx_10_9_x86_64.whl (124 kB)\n",
      "\u001b[2K     \u001b[90m━━━━━━━━━━━━━━━━━━━━━━━━━━━━━━━━━━━━━━━\u001b[0m \u001b[32m124.8/124.8 kB\u001b[0m \u001b[31m3.7 MB/s\u001b[0m eta \u001b[36m0:00:00\u001b[0m\n",
      "\u001b[?25hCollecting yarl<2.0,>=1.0\n",
      "  Downloading yarl-1.8.2-cp310-cp310-macosx_10_9_x86_64.whl (61 kB)\n",
      "\u001b[2K     \u001b[90m━━━━━━━━━━━━━━━━━━━━━━━━━━━━━━━━━━━━━━━━\u001b[0m \u001b[32m61.0/61.0 kB\u001b[0m \u001b[31m1.9 MB/s\u001b[0m eta \u001b[36m0:00:00\u001b[0m\n",
      "\u001b[?25hCollecting aiosignal>=1.1.2\n",
      "  Using cached aiosignal-1.3.1-py3-none-any.whl (7.6 kB)\n",
      "Collecting async-timeout<5.0,>=4.0.0a3\n",
      "  Using cached async_timeout-4.0.2-py3-none-any.whl (5.8 kB)\n",
      "Requirement already satisfied: attrs>=17.3.0 in /Users/g.kandaurov/projects/deep_python_spring_2023/venv/lib/python3.10/site-packages (from aiohttp) (22.2.0)\n",
      "Requirement already satisfied: idna>=2.0 in /Users/g.kandaurov/projects/deep_python_spring_2023/venv/lib/python3.10/site-packages (from yarl<2.0,>=1.0->aiohttp) (3.4)\n",
      "Installing collected packages: multidict, frozenlist, charset-normalizer, async-timeout, yarl, aiosignal, aiohttp\n",
      "Successfully installed aiohttp-3.8.4 aiosignal-1.3.1 async-timeout-4.0.2 charset-normalizer-3.1.0 frozenlist-1.3.3 multidict-6.0.4 yarl-1.8.2\n",
      "\n",
      "\u001b[1m[\u001b[0m\u001b[34;49mnotice\u001b[0m\u001b[1;39;49m]\u001b[0m\u001b[39;49m A new release of pip is available: \u001b[0m\u001b[31;49m23.0.1\u001b[0m\u001b[39;49m -> \u001b[0m\u001b[32;49m23.1\u001b[0m\n",
      "\u001b[1m[\u001b[0m\u001b[34;49mnotice\u001b[0m\u001b[1;39;49m]\u001b[0m\u001b[39;49m To update, run: \u001b[0m\u001b[32;49mpip install --upgrade pip\u001b[0m\n"
     ]
    }
   ],
   "source": [
    "!pip install aiohttp"
   ]
  },
  {
   "cell_type": "code",
   "execution_count": 64,
   "id": "f07ac59a",
   "metadata": {},
   "outputs": [],
   "source": [
    "import aiohttp"
   ]
  },
  {
   "cell_type": "code",
   "execution_count": 71,
   "id": "17926325",
   "metadata": {},
   "outputs": [
    {
     "name": "stdout",
     "output_type": "stream",
     "text": [
      "TIME 9.064406871795654\n"
     ]
    }
   ],
   "source": [
    "URL = \"https://docs.python.org/3/whatsnew/3.11.html\"\n",
    "URLS = [URL] * 50\n",
    "\n",
    "\n",
    "async def fetch_url(url):\n",
    "    async with aiohttp.ClientSession() as session:\n",
    "        async with session.get(url) as resp:\n",
    "            assert resp.status == 200\n",
    "            \n",
    "\n",
    "async def fetch_batch(urls):\n",
    "    for url in urls:\n",
    "        await fetch_url(url)\n",
    "        \n",
    "t1 = time.time()\n",
    "\n",
    "await fetch_batch(URLS)\n",
    "\n",
    "t2 = time.time()\n",
    "print(\"TIME\", t2 - t1)"
   ]
  },
  {
   "cell_type": "code",
   "execution_count": null,
   "id": "050662e6",
   "metadata": {},
   "outputs": [],
   "source": []
  },
  {
   "cell_type": "code",
   "execution_count": 78,
   "id": "dc30f178",
   "metadata": {},
   "outputs": [
    {
     "name": "stdout",
     "output_type": "stream",
     "text": [
      "TIME 0.373183012008667 100\n"
     ]
    }
   ],
   "source": [
    "URL = \"https://docs.python.org/3/whatsnew/3.11.html\"\n",
    "URLS = [URL] * 100\n",
    "count = 0\n",
    "\n",
    "\n",
    "async def fetch_url(url):\n",
    "    async with aiohttp.ClientSession() as session:\n",
    "        async with session.get(url) as resp:\n",
    "            global count\n",
    "            count += 1\n",
    "            assert resp.status == 200\n",
    "            \n",
    "\n",
    "async def fetch_batch(urls):\n",
    "    tasks = [\n",
    "        asyncio.create_task(fetch_url(url))\n",
    "        for url in urls\n",
    "    ]\n",
    "    await asyncio.gather(*tasks)\n",
    "\n",
    "        \n",
    "t1 = time.time()\n",
    "\n",
    "await fetch_batch(URLS)\n",
    "\n",
    "t2 = time.time()\n",
    "print(\"TIME\", t2 - t1, count)"
   ]
  },
  {
   "cell_type": "code",
   "execution_count": null,
   "id": "5d2658ef",
   "metadata": {},
   "outputs": [],
   "source": []
  },
  {
   "cell_type": "code",
   "execution_count": 84,
   "id": "9e7a03de",
   "metadata": {},
   "outputs": [
    {
     "name": "stdout",
     "output_type": "stream",
     "text": [
      "TIME 1.8035788536071777 100\n"
     ]
    }
   ],
   "source": [
    "URL = \"https://docs.python.org/3/whatsnew/3.11.html\"\n",
    "URLS = [URL] * 100\n",
    "count = 0\n",
    "\n",
    "\n",
    "async def fetch_url(url, sem):\n",
    "    async with aiohttp.ClientSession() as session:\n",
    "        async with sem:\n",
    "            async with session.get(url) as resp:\n",
    "                global count\n",
    "                count += 1\n",
    "                assert resp.status == 200\n",
    "\n",
    "\n",
    "async def fetch_batch(urls, sem):\n",
    "    tasks = [\n",
    "        asyncio.create_task(fetch_url(url, sem))\n",
    "        for url in urls\n",
    "    ]\n",
    "    await asyncio.gather(*tasks)\n",
    "\n",
    "\n",
    "t1 = time.time()\n",
    "\n",
    "sem = asyncio.Semaphore(10)\n",
    "await fetch_batch(URLS, sem)\n",
    "\n",
    "t2 = time.time()\n",
    "print(\"TIME\", t2 - t1, count)"
   ]
  },
  {
   "cell_type": "code",
   "execution_count": 85,
   "id": "d7c267f1",
   "metadata": {},
   "outputs": [
    {
     "ename": "RuntimeError",
     "evalue": "asyncio.run() cannot be called from a running event loop",
     "output_type": "error",
     "traceback": [
      "\u001b[0;31m---------------------------------------------------------------------------\u001b[0m",
      "\u001b[0;31mRuntimeError\u001b[0m                              Traceback (most recent call last)",
      "Cell \u001b[0;32mIn[85], line 2\u001b[0m\n\u001b[1;32m      1\u001b[0m t1 \u001b[38;5;241m=\u001b[39m time\u001b[38;5;241m.\u001b[39mtime()\n\u001b[0;32m----> 2\u001b[0m \u001b[43masyncio\u001b[49m\u001b[38;5;241;43m.\u001b[39;49m\u001b[43mrun\u001b[49m\u001b[43m(\u001b[49m\u001b[43mfetch_batch\u001b[49m\u001b[43m(\u001b[49m\u001b[43mURLS\u001b[49m\u001b[43m,\u001b[49m\u001b[43m \u001b[49m\u001b[43msem\u001b[49m\u001b[43m)\u001b[49m\u001b[43m)\u001b[49m\n\u001b[1;32m      4\u001b[0m t2 \u001b[38;5;241m=\u001b[39m time\u001b[38;5;241m.\u001b[39mtime()\n\u001b[1;32m      5\u001b[0m \u001b[38;5;28mprint\u001b[39m(\u001b[38;5;124m\"\u001b[39m\u001b[38;5;124mTIME\u001b[39m\u001b[38;5;124m\"\u001b[39m, t2 \u001b[38;5;241m-\u001b[39m t1, count)\n",
      "File \u001b[0;32m/Library/Frameworks/Python.framework/Versions/3.10/lib/python3.10/asyncio/runners.py:33\u001b[0m, in \u001b[0;36mrun\u001b[0;34m(main, debug)\u001b[0m\n\u001b[1;32m      9\u001b[0m \u001b[38;5;250m\u001b[39m\u001b[38;5;124;03m\"\"\"Execute the coroutine and return the result.\u001b[39;00m\n\u001b[1;32m     10\u001b[0m \n\u001b[1;32m     11\u001b[0m \u001b[38;5;124;03mThis function runs the passed coroutine, taking care of\u001b[39;00m\n\u001b[0;32m   (...)\u001b[0m\n\u001b[1;32m     30\u001b[0m \u001b[38;5;124;03m    asyncio.run(main())\u001b[39;00m\n\u001b[1;32m     31\u001b[0m \u001b[38;5;124;03m\"\"\"\u001b[39;00m\n\u001b[1;32m     32\u001b[0m \u001b[38;5;28;01mif\u001b[39;00m events\u001b[38;5;241m.\u001b[39m_get_running_loop() \u001b[38;5;129;01mis\u001b[39;00m \u001b[38;5;129;01mnot\u001b[39;00m \u001b[38;5;28;01mNone\u001b[39;00m:\n\u001b[0;32m---> 33\u001b[0m     \u001b[38;5;28;01mraise\u001b[39;00m \u001b[38;5;167;01mRuntimeError\u001b[39;00m(\n\u001b[1;32m     34\u001b[0m         \u001b[38;5;124m\"\u001b[39m\u001b[38;5;124masyncio.run() cannot be called from a running event loop\u001b[39m\u001b[38;5;124m\"\u001b[39m)\n\u001b[1;32m     36\u001b[0m \u001b[38;5;28;01mif\u001b[39;00m \u001b[38;5;129;01mnot\u001b[39;00m coroutines\u001b[38;5;241m.\u001b[39miscoroutine(main):\n\u001b[1;32m     37\u001b[0m     \u001b[38;5;28;01mraise\u001b[39;00m \u001b[38;5;167;01mValueError\u001b[39;00m(\u001b[38;5;124m\"\u001b[39m\u001b[38;5;124ma coroutine was expected, got \u001b[39m\u001b[38;5;132;01m{!r}\u001b[39;00m\u001b[38;5;124m\"\u001b[39m\u001b[38;5;241m.\u001b[39mformat(main))\n",
      "\u001b[0;31mRuntimeError\u001b[0m: asyncio.run() cannot be called from a running event loop"
     ]
    }
   ],
   "source": [
    "t1 = time.time()\n",
    "\n",
    "asyncio.run(fetch_batch(URLS, sem))\n",
    "\n",
    "t2 = time.time()\n",
    "print(\"TIME\", t2 - t1, count)"
   ]
  },
  {
   "cell_type": "code",
   "execution_count": null,
   "id": "25b0c41d",
   "metadata": {},
   "outputs": [],
   "source": []
  },
  {
   "cell_type": "code",
   "execution_count": null,
   "id": "e0246e90",
   "metadata": {},
   "outputs": [],
   "source": []
  },
  {
   "cell_type": "code",
   "execution_count": 91,
   "id": "c3f8eeda",
   "metadata": {},
   "outputs": [
    {
     "name": "stdout",
     "output_type": "stream",
     "text": [
      "TIME 1.8839318752288818 100\n"
     ]
    }
   ],
   "source": [
    "URL = \"https://docs.python.org/3/whatsnew/3.11.html\"\n",
    "URLS = [URL] * 100\n",
    "WORKERS = 10\n",
    "count = 0\n",
    "\n",
    "\n",
    "async def fetch_url(url):\n",
    "    async with aiohttp.ClientSession() as session:\n",
    "        async with session.get(url) as resp:\n",
    "            global count\n",
    "            count += 1\n",
    "            assert resp.status == 200\n",
    "            \n",
    "            \n",
    "async def run_worker(queue):\n",
    "    while True:\n",
    "        url = await queue.get()\n",
    "        try:\n",
    "            await fetch_url(url)\n",
    "        finally:\n",
    "            queue.task_done()\n",
    "\n",
    "\n",
    "async def fetch_batch(urls):\n",
    "    queue = asyncio.Queue()\n",
    "    \n",
    "    workers = [\n",
    "        asyncio.create_task(run_worker(queue))\n",
    "        for _ in range(WORKERS)\n",
    "    ]\n",
    "    \n",
    "    for url in urls:\n",
    "        await queue.put(url)\n",
    "\n",
    "    await queue.join()\n",
    "\n",
    "    for worker in workers:\n",
    "        worker.cancel()\n",
    "\n",
    "\n",
    "t1 = time.time()\n",
    "\n",
    "await fetch_batch(URLS)\n",
    "\n",
    "t2 = time.time()\n",
    "print(\"TIME\", t2 - t1, count)"
   ]
  },
  {
   "cell_type": "code",
   "execution_count": null,
   "id": "4a44b16b",
   "metadata": {},
   "outputs": [],
   "source": []
  }
 ],
 "metadata": {
  "kernelspec": {
   "display_name": "Python 3 (ipykernel)",
   "language": "python",
   "name": "python3"
  },
  "language_info": {
   "codemirror_mode": {
    "name": "ipython",
    "version": 3
   },
   "file_extension": ".py",
   "mimetype": "text/x-python",
   "name": "python",
   "nbconvert_exporter": "python",
   "pygments_lexer": "ipython3",
   "version": "3.10.2"
  }
 },
 "nbformat": 4,
 "nbformat_minor": 5
}
