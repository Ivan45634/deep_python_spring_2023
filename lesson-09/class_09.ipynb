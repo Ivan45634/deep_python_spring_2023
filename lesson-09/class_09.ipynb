{
 "cells": [
  {
   "cell_type": "code",
   "execution_count": 1,
   "id": "499b461b",
   "metadata": {},
   "outputs": [],
   "source": [
    "import logging"
   ]
  },
  {
   "cell_type": "code",
   "execution_count": 2,
   "id": "f0b06d9e",
   "metadata": {},
   "outputs": [],
   "source": [
    "logging.basicConfig(\n",
    "    filename=\"example.log\",\n",
    "    level=logging.WARNING,\n",
    "    format=\"%(asctime)s\\t%(levelname)s\\t%(message)s\"\n",
    ")\n",
    "\n",
    "logging.debug(\"This message should go to the log file\")\n",
    "logging.info(\"So should this\")\n",
    "logging.warning(\"And this, too\")\n",
    "logging.error(\"wrong!\")"
   ]
  },
  {
   "cell_type": "code",
   "execution_count": 4,
   "id": "5199571c",
   "metadata": {},
   "outputs": [
    {
     "name": "stdout",
     "output_type": "stream",
     "text": [
      "\u001b[01;31m\u001b[Kexample\u001b[m\u001b[K.log\r\n"
     ]
    }
   ],
   "source": [
    "!ls | grep example"
   ]
  },
  {
   "cell_type": "code",
   "execution_count": 3,
   "id": "5dfbf2c4",
   "metadata": {},
   "outputs": [
    {
     "name": "stdout",
     "output_type": "stream",
     "text": [
      "DEBUG:root:This message should go to the log file\r\n",
      "INFO:root:So should this\r\n",
      "WARNING:root:And this, too\r\n",
      "DEBUG:root:This message should go to the log file\r\n",
      "INFO:root:So should this\r\n",
      "WARNING:root:And this, too\r\n",
      "DEBUG:root:This message should go to the log file\r\n",
      "INFO:root:So should this\r\n",
      "WARNING:root:And this, too\r\n",
      "DEBUG\tThis message should go to the log file\r\n",
      "INFO\tSo should this\r\n",
      "WARNING\tAnd this, too\r\n",
      "DEBUG\tThis message should go to the log file\r\n",
      "INFO\tSo should this\r\n",
      "WARNING\tAnd this, too\r\n",
      "ERROR\twrong!\r\n",
      "DEBUG\tThis message should go to the log file\r\n",
      "INFO\tSo should this\r\n",
      "WARNING\tAnd this, too\r\n",
      "ERROR\twrong!\r\n",
      "WARNING\tAnd this, too\r\n",
      "ERROR\twrong!\r\n",
      "$(asctime)\tWARNING\tAnd this, too\r\n",
      "$(asctime)\tERROR\twrong!\r\n",
      "$(asctime)s\tWARNING\tAnd this, too\r\n",
      "$(asctime)s\tERROR\twrong!\r\n",
      "2023-05-04 18:58:36,554\tWARNING\tAnd this, too\r\n",
      "2023-05-04 18:58:36,554\tERROR\twrong!\r\n"
     ]
    }
   ],
   "source": [
    "!cat example.log"
   ]
  },
  {
   "cell_type": "code",
   "execution_count": 4,
   "id": "5722b44e",
   "metadata": {},
   "outputs": [],
   "source": [
    "logger = logging.getLogger()\n",
    "logger.error(\"wrong_2222\")"
   ]
  },
  {
   "cell_type": "code",
   "execution_count": 5,
   "id": "abab24a2",
   "metadata": {},
   "outputs": [
    {
     "name": "stdout",
     "output_type": "stream",
     "text": [
      "DEBUG:root:This message should go to the log file\r\n",
      "INFO:root:So should this\r\n",
      "WARNING:root:And this, too\r\n",
      "DEBUG:root:This message should go to the log file\r\n",
      "INFO:root:So should this\r\n",
      "WARNING:root:And this, too\r\n",
      "DEBUG:root:This message should go to the log file\r\n",
      "INFO:root:So should this\r\n",
      "WARNING:root:And this, too\r\n",
      "DEBUG\tThis message should go to the log file\r\n",
      "INFO\tSo should this\r\n",
      "WARNING\tAnd this, too\r\n",
      "DEBUG\tThis message should go to the log file\r\n",
      "INFO\tSo should this\r\n",
      "WARNING\tAnd this, too\r\n",
      "ERROR\twrong!\r\n",
      "DEBUG\tThis message should go to the log file\r\n",
      "INFO\tSo should this\r\n",
      "WARNING\tAnd this, too\r\n",
      "ERROR\twrong!\r\n",
      "WARNING\tAnd this, too\r\n",
      "ERROR\twrong!\r\n",
      "$(asctime)\tWARNING\tAnd this, too\r\n",
      "$(asctime)\tERROR\twrong!\r\n",
      "$(asctime)s\tWARNING\tAnd this, too\r\n",
      "$(asctime)s\tERROR\twrong!\r\n",
      "2023-05-04 18:58:36,554\tWARNING\tAnd this, too\r\n",
      "2023-05-04 18:58:36,554\tERROR\twrong!\r\n",
      "2023-05-04 19:00:17,216\tERROR\twrong_2222\r\n"
     ]
    }
   ],
   "source": [
    "!cat example.log"
   ]
  },
  {
   "cell_type": "code",
   "execution_count": 8,
   "id": "8c9c9e53",
   "metadata": {},
   "outputs": [],
   "source": [
    "logger = logging.getLogger(\"quiz\")\n",
    "logger.error(\"quiz_wrong\")"
   ]
  },
  {
   "cell_type": "code",
   "execution_count": 9,
   "id": "16d31994",
   "metadata": {},
   "outputs": [
    {
     "name": "stdout",
     "output_type": "stream",
     "text": [
      "DEBUG:root:This message should go to the log file\r\n",
      "INFO:root:So should this\r\n",
      "WARNING:root:And this, too\r\n",
      "DEBUG:root:This message should go to the log file\r\n",
      "INFO:root:So should this\r\n",
      "WARNING:root:And this, too\r\n",
      "DEBUG:root:This message should go to the log file\r\n",
      "INFO:root:So should this\r\n",
      "WARNING:root:And this, too\r\n",
      "DEBUG\tThis message should go to the log file\r\n",
      "INFO\tSo should this\r\n",
      "WARNING\tAnd this, too\r\n",
      "DEBUG\tThis message should go to the log file\r\n",
      "INFO\tSo should this\r\n",
      "WARNING\tAnd this, too\r\n",
      "ERROR\twrong!\r\n",
      "DEBUG\tThis message should go to the log file\r\n",
      "INFO\tSo should this\r\n",
      "WARNING\tAnd this, too\r\n",
      "ERROR\twrong!\r\n",
      "WARNING\tAnd this, too\r\n",
      "ERROR\twrong!\r\n",
      "$(asctime)\tWARNING\tAnd this, too\r\n",
      "$(asctime)\tERROR\twrong!\r\n",
      "$(asctime)s\tWARNING\tAnd this, too\r\n",
      "$(asctime)s\tERROR\twrong!\r\n",
      "2023-05-04 18:58:36,554\tWARNING\tAnd this, too\r\n",
      "2023-05-04 18:58:36,554\tERROR\twrong!\r\n",
      "2023-05-04 19:00:17,216\tERROR\twrong_2222\r\n",
      "2023-05-04 19:01:44,909\tERROR\twrong_2222\r\n",
      "2023-05-04 19:02:02,916\tERROR\tquiz_wrong\r\n"
     ]
    }
   ],
   "source": [
    "!cat example.log"
   ]
  },
  {
   "cell_type": "code",
   "execution_count": null,
   "id": "f9b0b81f",
   "metadata": {},
   "outputs": [],
   "source": []
  },
  {
   "cell_type": "code",
   "execution_count": null,
   "id": "abb10e5d",
   "metadata": {},
   "outputs": [],
   "source": []
  },
  {
   "cell_type": "code",
   "execution_count": 10,
   "id": "6212d64e",
   "metadata": {},
   "outputs": [],
   "source": [
    "!rm example.log"
   ]
  },
  {
   "cell_type": "code",
   "execution_count": 7,
   "id": "af16e8d0",
   "metadata": {},
   "outputs": [],
   "source": [
    "username = \"Peppa\"\n",
    "user_id = 456\n",
    "\n",
    "logger = logging.getLogger(\"variadic\")\n",
    "logger.debug(\"user %s, %s start process\", username, user_id)"
   ]
  },
  {
   "cell_type": "code",
   "execution_count": 8,
   "id": "4994a3af",
   "metadata": {},
   "outputs": [
    {
     "name": "stdout",
     "output_type": "stream",
     "text": [
      "2023-05-04 19:06:57,117\tWARNING\tAnd this, too\r\n",
      "2023-05-04 19:06:57,118\tERROR\twrong!\r\n",
      "2023-05-04 19:07:03,372\tERROR\tuser username='Peppa', user_id=456 start process\r\n",
      "2023-05-04 19:09:35,483\tERROR\tuser Peppa, 456 start process\r\n"
     ]
    }
   ],
   "source": [
    "!cat example.log"
   ]
  },
  {
   "cell_type": "code",
   "execution_count": null,
   "id": "cc9656fd",
   "metadata": {},
   "outputs": [],
   "source": []
  },
  {
   "cell_type": "code",
   "execution_count": null,
   "id": "af91493d",
   "metadata": {},
   "outputs": [],
   "source": []
  },
  {
   "cell_type": "code",
   "execution_count": 1,
   "id": "0d6b0f48",
   "metadata": {},
   "outputs": [],
   "source": [
    "import logging\n",
    "\n",
    "conf = {\n",
    "    \"version\": 1,\n",
    "    \"formatters\": {\n",
    "        \"fh\": {\n",
    "            \"format\": \"%(asctime)s\\t%(levelname)s\\t[FH]\\t%(message)s\",\n",
    "        },\n",
    "        \"sentry\": {\n",
    "            \"format\": \"%(asctime)s\\t%(levelname)s\\t[sentry]\\t%(message)s\",\n",
    "        },\n",
    "    },\n",
    "    \"handlers\": {\n",
    "        \"example\": {\n",
    "            \"level\": \"INFO\",\n",
    "            \"class\": \"logging.FileHandler\",\n",
    "            \"filename\": \"example_dict.log\",\n",
    "            \"formatter\": \"fh\",\n",
    "        },\n",
    "        \"fake_sentry\": {\n",
    "            \"level\": \"ERROR\",\n",
    "            \"class\": \"logging.handlers.WatchedFileHandler\",\n",
    "            \"filename\": \"watched.log\",\n",
    "            \"formatter\": \"sentry\",\n",
    "        },\n",
    "\n",
    "    },\n",
    "    \"loggers\": {\n",
    "        \"\": {\n",
    "            \"level\": \"DEBUG\",\n",
    "            \"handlers\": [\"example\"],\n",
    "        },\n",
    "        \"full\": {\n",
    "            \"level\": \"DEBUG\",\n",
    "            \"handlers\": [\"fake_sentry\"],\n",
    "        },\n",
    "\n",
    "    },\n",
    "}\n",
    "\n",
    "logging.config.dictConfig(conf)"
   ]
  },
  {
   "cell_type": "code",
   "execution_count": 6,
   "id": "a5196c6c",
   "metadata": {},
   "outputs": [],
   "source": [
    "logging.error(\"start\")"
   ]
  },
  {
   "cell_type": "code",
   "execution_count": 7,
   "id": "2d7bd8e8",
   "metadata": {},
   "outputs": [
    {
     "name": "stdout",
     "output_type": "stream",
     "text": [
      "2023-05-04 19:29:34,874\tINFO\t[FH]\tstart\r\n",
      "2023-05-04 19:31:04,420\tERROR\t[FH]\tstart\r\n"
     ]
    }
   ],
   "source": [
    "!cat example_dict.log"
   ]
  },
  {
   "cell_type": "code",
   "execution_count": 8,
   "id": "df4f4ea0",
   "metadata": {},
   "outputs": [],
   "source": [
    "!cat watched.log"
   ]
  },
  {
   "cell_type": "code",
   "execution_count": 12,
   "id": "b1f2d25e",
   "metadata": {},
   "outputs": [],
   "source": [
    "full = logging.getLogger(\"full\")\n",
    "full.error(\"full_wrong1\")"
   ]
  },
  {
   "cell_type": "code",
   "execution_count": 13,
   "id": "ca1023e6",
   "metadata": {},
   "outputs": [
    {
     "name": "stdout",
     "output_type": "stream",
     "text": [
      "2023-05-04 19:29:34,874\tINFO\t[FH]\tstart\r\n",
      "2023-05-04 19:31:04,420\tERROR\t[FH]\tstart\r\n",
      "2023-05-04 19:31:23,019\tERROR\t[FH]\tfull_wrong\r\n",
      "2023-05-04 19:31:23,019\tERROR\t[FH]\tfull_wrong\r\n",
      "2023-05-04 19:32:03,986\tERROR\t[FH]\tfull_wrong1\r\n",
      "2023-05-04 19:32:03,986\tERROR\t[FH]\tfull_wrong1\r\n"
     ]
    }
   ],
   "source": [
    "!cat example_dict.log"
   ]
  },
  {
   "cell_type": "code",
   "execution_count": 14,
   "id": "9cbcaf2e",
   "metadata": {},
   "outputs": [
    {
     "name": "stdout",
     "output_type": "stream",
     "text": [
      "2023-05-04 19:31:23,019\tERROR\t[sentry]\tfull_wrong\r\n",
      "2023-05-04 19:32:03,986\tERROR\t[sentry]\tfull_wrong1\r\n"
     ]
    }
   ],
   "source": [
    "!cat watched.log"
   ]
  },
  {
   "cell_type": "code",
   "execution_count": null,
   "id": "f09ca8a1",
   "metadata": {},
   "outputs": [],
   "source": []
  },
  {
   "cell_type": "code",
   "execution_count": 2,
   "id": "6485ffcd",
   "metadata": {},
   "outputs": [],
   "source": [
    "full = logging.getLogger(\"full\")\n",
    "full.error(\"full_wrong_42\")"
   ]
  },
  {
   "cell_type": "code",
   "execution_count": 3,
   "id": "f51dc8f7",
   "metadata": {},
   "outputs": [
    {
     "name": "stdout",
     "output_type": "stream",
     "text": [
      "2023-05-04 19:29:34,874\tINFO\t[FH]\tstart\r\n",
      "2023-05-04 19:31:04,420\tERROR\t[FH]\tstart\r\n",
      "2023-05-04 19:31:23,019\tERROR\t[FH]\tfull_wrong\r\n",
      "2023-05-04 19:31:23,019\tERROR\t[FH]\tfull_wrong\r\n",
      "2023-05-04 19:32:03,986\tERROR\t[FH]\tfull_wrong1\r\n",
      "2023-05-04 19:32:03,986\tERROR\t[FH]\tfull_wrong1\r\n",
      "2023-05-04 19:33:06,905\tERROR\t[FH]\tfull_wrong_42\r\n"
     ]
    }
   ],
   "source": [
    "!cat example_dict.log"
   ]
  },
  {
   "cell_type": "code",
   "execution_count": 4,
   "id": "8906c881",
   "metadata": {},
   "outputs": [
    {
     "name": "stdout",
     "output_type": "stream",
     "text": [
      "2023-05-04 19:31:23,019\tERROR\t[sentry]\tfull_wrong\r\n",
      "2023-05-04 19:32:03,986\tERROR\t[sentry]\tfull_wrong1\r\n",
      "2023-05-04 19:33:06,905\tERROR\t[sentry]\tfull_wrong_42\r\n"
     ]
    }
   ],
   "source": [
    "!cat watched.log"
   ]
  },
  {
   "cell_type": "code",
   "execution_count": null,
   "id": "4a9ed9b6",
   "metadata": {},
   "outputs": [],
   "source": []
  },
  {
   "cell_type": "code",
   "execution_count": 14,
   "id": "ca72a269",
   "metadata": {},
   "outputs": [],
   "source": [
    "import logging\n",
    "\n",
    "conf = {\n",
    "    \"version\": 1,\n",
    "    \"formatters\": {\n",
    "        \"fh\": {\n",
    "            \"format\": \"%(asctime)s\\t%(levelname)s\\t[FH]\\t%(message)s\",\n",
    "        },\n",
    "        \"sentry\": {\n",
    "            \"format\": \"%(asctime)s\\t%(levelname)s\\t[sentry]\\t%(message)s\",\n",
    "        },\n",
    "    },\n",
    "    \"handlers\": {\n",
    "        \"example\": {\n",
    "            \"level\": \"INFO\",\n",
    "            \"class\": \"logging.FileHandler\",\n",
    "            \"filename\": \"example_dict.log\",\n",
    "            \"formatter\": \"fh\",\n",
    "        },\n",
    "        \"fake_sentry\": {\n",
    "            \"level\": \"ERROR\",\n",
    "            \"class\": \"logging.handlers.WatchedFileHandler\",\n",
    "            \"filename\": \"watched.log\",\n",
    "            \"formatter\": \"sentry\",\n",
    "        },\n",
    "\n",
    "    },\n",
    "    \"loggers\": {\n",
    "        \"full\": {\n",
    "            \"level\": \"DEBUG\",\n",
    "            # \"handlers\": [\"fake_sentry\"],\n",
    "            \"handlers\": [\"example\", \"fake_sentry\"],\n",
    "        },\n",
    "\n",
    "    },\n",
    "}\n",
    "\n",
    "logging.config.dictConfig(conf)"
   ]
  },
  {
   "cell_type": "code",
   "execution_count": 11,
   "id": "9ff5ca77",
   "metadata": {},
   "outputs": [],
   "source": [
    "full = logging.getLogger(\"full\")\n",
    "full.error(\"full_wrong_sentry\")"
   ]
  },
  {
   "cell_type": "code",
   "execution_count": 12,
   "id": "83ef33b7",
   "metadata": {},
   "outputs": [
    {
     "name": "stdout",
     "output_type": "stream",
     "text": [
      "2023-05-04 19:29:34,874\tINFO\t[FH]\tstart\r\n",
      "2023-05-04 19:31:04,420\tERROR\t[FH]\tstart\r\n",
      "2023-05-04 19:31:23,019\tERROR\t[FH]\tfull_wrong\r\n",
      "2023-05-04 19:31:23,019\tERROR\t[FH]\tfull_wrong\r\n",
      "2023-05-04 19:32:03,986\tERROR\t[FH]\tfull_wrong1\r\n",
      "2023-05-04 19:32:03,986\tERROR\t[FH]\tfull_wrong1\r\n",
      "2023-05-04 19:33:06,905\tERROR\t[FH]\tfull_wrong_42\r\n",
      "2023-05-04 19:35:34,814\tERROR\t[FH]\tfull_wrong_99\r\n",
      "2023-05-04 19:35:38,977\tERROR\t[FH]\tfull_wrong_33\r\n"
     ]
    }
   ],
   "source": [
    "!cat example_dict.log"
   ]
  },
  {
   "cell_type": "code",
   "execution_count": 13,
   "id": "9a45c963",
   "metadata": {},
   "outputs": [
    {
     "name": "stdout",
     "output_type": "stream",
     "text": [
      "2023-05-04 19:31:23,019\tERROR\t[sentry]\tfull_wrong\r\n",
      "2023-05-04 19:32:03,986\tERROR\t[sentry]\tfull_wrong1\r\n",
      "2023-05-04 19:33:06,905\tERROR\t[sentry]\tfull_wrong_42\r\n",
      "2023-05-04 19:35:03,791\tERROR\t[sentry]\tfull_wrong_99\r\n",
      "2023-05-04 19:35:34,814\tERROR\t[sentry]\tfull_wrong_99\r\n",
      "2023-05-04 19:35:38,977\tERROR\t[sentry]\tfull_wrong_33\r\n",
      "2023-05-04 19:36:12,029\tERROR\t[sentry]\tfull_wrong_sentry\r\n"
     ]
    }
   ],
   "source": [
    "!cat watched.log"
   ]
  },
  {
   "cell_type": "code",
   "execution_count": 15,
   "id": "ea402446",
   "metadata": {},
   "outputs": [],
   "source": [
    "full = logging.getLogger(\"full\")\n",
    "full.error(\"full_wrong_common\")"
   ]
  },
  {
   "cell_type": "code",
   "execution_count": 16,
   "id": "efe40b3e",
   "metadata": {},
   "outputs": [
    {
     "name": "stdout",
     "output_type": "stream",
     "text": [
      "2023-05-04 19:29:34,874\tINFO\t[FH]\tstart\r\n",
      "2023-05-04 19:31:04,420\tERROR\t[FH]\tstart\r\n",
      "2023-05-04 19:31:23,019\tERROR\t[FH]\tfull_wrong\r\n",
      "2023-05-04 19:31:23,019\tERROR\t[FH]\tfull_wrong\r\n",
      "2023-05-04 19:32:03,986\tERROR\t[FH]\tfull_wrong1\r\n",
      "2023-05-04 19:32:03,986\tERROR\t[FH]\tfull_wrong1\r\n",
      "2023-05-04 19:33:06,905\tERROR\t[FH]\tfull_wrong_42\r\n",
      "2023-05-04 19:35:34,814\tERROR\t[FH]\tfull_wrong_99\r\n",
      "2023-05-04 19:35:38,977\tERROR\t[FH]\tfull_wrong_33\r\n",
      "2023-05-04 19:36:30,126\tERROR\t[FH]\tfull_wrong_common\r\n"
     ]
    }
   ],
   "source": [
    "!cat example_dict.log"
   ]
  },
  {
   "cell_type": "code",
   "execution_count": 17,
   "id": "cc85534a",
   "metadata": {},
   "outputs": [
    {
     "name": "stdout",
     "output_type": "stream",
     "text": [
      "2023-05-04 19:31:23,019\tERROR\t[sentry]\tfull_wrong\r\n",
      "2023-05-04 19:32:03,986\tERROR\t[sentry]\tfull_wrong1\r\n",
      "2023-05-04 19:33:06,905\tERROR\t[sentry]\tfull_wrong_42\r\n",
      "2023-05-04 19:35:03,791\tERROR\t[sentry]\tfull_wrong_99\r\n",
      "2023-05-04 19:35:34,814\tERROR\t[sentry]\tfull_wrong_99\r\n",
      "2023-05-04 19:35:38,977\tERROR\t[sentry]\tfull_wrong_33\r\n",
      "2023-05-04 19:36:12,029\tERROR\t[sentry]\tfull_wrong_sentry\r\n",
      "2023-05-04 19:36:30,126\tERROR\t[sentry]\tfull_wrong_common\r\n"
     ]
    }
   ],
   "source": [
    "!cat watched.log"
   ]
  },
  {
   "cell_type": "code",
   "execution_count": null,
   "id": "89fca0a5",
   "metadata": {},
   "outputs": [],
   "source": []
  },
  {
   "cell_type": "code",
   "execution_count": null,
   "id": "8f8dbccb",
   "metadata": {},
   "outputs": [],
   "source": []
  },
  {
   "cell_type": "code",
   "execution_count": null,
   "id": "505acd45",
   "metadata": {},
   "outputs": [],
   "source": []
  },
  {
   "cell_type": "code",
   "execution_count": null,
   "id": "46cb04bd",
   "metadata": {},
   "outputs": [],
   "source": []
  },
  {
   "cell_type": "code",
   "execution_count": 1,
   "id": "cf0dabed",
   "metadata": {},
   "outputs": [],
   "source": [
    "import logging\n",
    "\n",
    "\n",
    "format_sentry = logging.Formatter(\"%(asctime)s\\t%(levelname)s\\t[sentry]\\t%(message)s\")\n",
    "format_file = logging.Formatter(\"%(asctime)s\\t%(levelname)s\\t[file]\\t%(message)s\")\n",
    "\n",
    "fake_sentry = logging.StreamHandler()\n",
    "fake_sentry.setLevel(logging.ERROR)\n",
    "fake_sentry.setFormatter(format_sentry)\n",
    "\n",
    "example = logging.FileHandler(\"example1.log\")\n",
    "example.setLevel(logging.INFO)\n",
    "example.setFormatter(format_file)\n",
    "\n",
    "full = logging.getLogger(\"full\")\n",
    "full.setLevel(logging.DEBUG)\n",
    "full.addHandler(fake_sentry)\n",
    "full.addHandler(example)"
   ]
  },
  {
   "cell_type": "code",
   "execution_count": 2,
   "id": "0d6189cf",
   "metadata": {},
   "outputs": [],
   "source": [
    "logger = logging.getLogger(\"full\")"
   ]
  },
  {
   "cell_type": "code",
   "execution_count": 5,
   "id": "d9fea37b",
   "metadata": {},
   "outputs": [
    {
     "data": {
      "text/plain": [
       "([<StreamHandler stderr (ERROR)>,\n",
       "  <FileHandler /Users/g.kandaurov/projects/deep_python_spring_2023/example1.log (INFO)>],\n",
       " 10)"
      ]
     },
     "execution_count": 5,
     "metadata": {},
     "output_type": "execute_result"
    }
   ],
   "source": [
    "logger.handlers, logger.level"
   ]
  },
  {
   "cell_type": "code",
   "execution_count": 6,
   "id": "cd62fb83",
   "metadata": {},
   "outputs": [],
   "source": [
    "logger.debug(\"evening\")"
   ]
  },
  {
   "cell_type": "code",
   "execution_count": 7,
   "id": "bbfd9e19",
   "metadata": {},
   "outputs": [],
   "source": [
    "!cat example1.log"
   ]
  },
  {
   "cell_type": "code",
   "execution_count": 8,
   "id": "2087776c",
   "metadata": {},
   "outputs": [],
   "source": [
    "logger.info(\"evening1\")"
   ]
  },
  {
   "cell_type": "code",
   "execution_count": 9,
   "id": "014a4aee",
   "metadata": {},
   "outputs": [
    {
     "name": "stdout",
     "output_type": "stream",
     "text": [
      "2023-05-04 20:06:10,034\tINFO\t[file]\tevening1\r\n"
     ]
    }
   ],
   "source": [
    "!cat example1.log"
   ]
  },
  {
   "cell_type": "code",
   "execution_count": 10,
   "id": "4446ea0b",
   "metadata": {},
   "outputs": [
    {
     "name": "stderr",
     "output_type": "stream",
     "text": [
      "2023-05-04 20:06:35,587\tERROR\t[sentry]\tevening2\n"
     ]
    }
   ],
   "source": [
    "logger.error(\"evening2\")"
   ]
  },
  {
   "cell_type": "code",
   "execution_count": 11,
   "id": "d957b5ae",
   "metadata": {},
   "outputs": [
    {
     "name": "stdout",
     "output_type": "stream",
     "text": [
      "2023-05-04 20:06:10,034\tINFO\t[file]\tevening1\r\n",
      "2023-05-04 20:06:35,587\tERROR\t[file]\tevening2\r\n"
     ]
    }
   ],
   "source": [
    "!cat example1.log"
   ]
  },
  {
   "cell_type": "code",
   "execution_count": null,
   "id": "fc52cc53",
   "metadata": {},
   "outputs": [],
   "source": []
  },
  {
   "cell_type": "code",
   "execution_count": 12,
   "id": "b996b41d",
   "metadata": {},
   "outputs": [],
   "source": [
    "logger.setLevel(logging.CRITICAL)"
   ]
  },
  {
   "cell_type": "code",
   "execution_count": 13,
   "id": "1c39a67e",
   "metadata": {},
   "outputs": [],
   "source": [
    "logger.error(\"evening_crit\")"
   ]
  },
  {
   "cell_type": "code",
   "execution_count": 14,
   "id": "42365a2f",
   "metadata": {},
   "outputs": [
    {
     "name": "stdout",
     "output_type": "stream",
     "text": [
      "2023-05-04 20:06:10,034\tINFO\t[file]\tevening1\r\n",
      "2023-05-04 20:06:35,587\tERROR\t[file]\tevening2\r\n"
     ]
    }
   ],
   "source": [
    "!cat example1.log"
   ]
  },
  {
   "cell_type": "code",
   "execution_count": 15,
   "id": "068f98a1",
   "metadata": {},
   "outputs": [
    {
     "name": "stderr",
     "output_type": "stream",
     "text": [
      "2023-05-04 20:09:03,244\tCRITICAL\t[sentry]\tevening_crit1\n"
     ]
    }
   ],
   "source": [
    "logger.critical(\"evening_crit1\")"
   ]
  },
  {
   "cell_type": "code",
   "execution_count": 16,
   "id": "16fb6e44",
   "metadata": {},
   "outputs": [
    {
     "name": "stdout",
     "output_type": "stream",
     "text": [
      "2023-05-04 20:06:10,034\tINFO\t[file]\tevening1\r\n",
      "2023-05-04 20:06:35,587\tERROR\t[file]\tevening2\r\n",
      "2023-05-04 20:09:03,244\tCRITICAL\t[file]\tevening_crit1\r\n"
     ]
    }
   ],
   "source": [
    "!cat example1.log"
   ]
  },
  {
   "cell_type": "code",
   "execution_count": null,
   "id": "1da6b3ea",
   "metadata": {},
   "outputs": [],
   "source": []
  },
  {
   "cell_type": "code",
   "execution_count": 1,
   "id": "c1e1e3b3",
   "metadata": {},
   "outputs": [],
   "source": [
    "import logging\n",
    "\n",
    "\n",
    "class NoDraftFilter(logging.Filter):\n",
    "    def filter(self, record):\n",
    "        print(f\"filter {record.msg=}\")\n",
    "        return \"[draft]\" not in record.msg\n",
    "\n",
    "\n",
    "format_sentry = logging.Formatter(\"%(asctime)s\\t%(levelname)s\\t[sentry]\\t%(message)s\")\n",
    "format_file = logging.Formatter(\"%(asctime)s\\t%(levelname)s\\t[file]\\t%(message)s\")\n",
    "\n",
    "fake_sentry = logging.StreamHandler()\n",
    "fake_sentry.setLevel(logging.ERROR)\n",
    "fake_sentry.setFormatter(format_sentry)\n",
    "fake_sentry.addFilter(NoDraftFilter())\n",
    "\n",
    "example = logging.FileHandler(\"example1.log\")\n",
    "example.setLevel(logging.INFO)\n",
    "example.setFormatter(format_file)\n",
    "\n",
    "full = logging.getLogger(\"full\")\n",
    "full.setLevel(logging.DEBUG)\n",
    "full.addHandler(fake_sentry)\n",
    "full.addHandler(example)"
   ]
  },
  {
   "cell_type": "code",
   "execution_count": 2,
   "id": "9f221d5b",
   "metadata": {},
   "outputs": [
    {
     "name": "stderr",
     "output_type": "stream",
     "text": [
      "2023-05-04 20:16:19,221\tERROR\t[sentry]\tnight\n"
     ]
    },
    {
     "name": "stdout",
     "output_type": "stream",
     "text": [
      "filter record.msg='night'\n"
     ]
    }
   ],
   "source": [
    "full.error(\"night\")"
   ]
  },
  {
   "cell_type": "code",
   "execution_count": 3,
   "id": "74babeb1",
   "metadata": {},
   "outputs": [
    {
     "name": "stdout",
     "output_type": "stream",
     "text": [
      "filter record.msg='[draft] night'\n"
     ]
    }
   ],
   "source": [
    "full.error(\"[draft] night\")"
   ]
  },
  {
   "cell_type": "code",
   "execution_count": 4,
   "id": "9156e660",
   "metadata": {},
   "outputs": [
    {
     "name": "stdout",
     "output_type": "stream",
     "text": [
      "2023-05-04 20:06:10,034\tINFO\t[file]\tevening1\r\n",
      "2023-05-04 20:06:35,587\tERROR\t[file]\tevening2\r\n",
      "2023-05-04 20:09:03,244\tCRITICAL\t[file]\tevening_crit1\r\n",
      "2023-05-04 20:13:36,437\tERROR\t[file]\txxxx\r\n",
      "2023-05-04 20:13:36,437\tERROR\t[file]\txxxx\r\n",
      "2023-05-04 20:13:42,823\tERROR\t[file]\txxxx\r\n",
      "2023-05-04 20:13:42,823\tERROR\t[file]\txxxx\r\n",
      "2023-05-04 20:13:42,823\tERROR\t[file]\txxxx\r\n",
      "2023-05-04 20:14:05,861\tERROR\t[file]\txxxx\r\n",
      "2023-05-04 20:14:05,861\tERROR\t[file]\txxxx\r\n",
      "2023-05-04 20:14:05,861\tERROR\t[file]\txxxx\r\n",
      "2023-05-04 20:14:05,861\tERROR\t[file]\txxxx\r\n",
      "2023-05-04 20:14:18,402\tERROR\t[file]\txxxx\r\n",
      "2023-05-04 20:14:18,402\tERROR\t[file]\txxxx\r\n",
      "2023-05-04 20:14:18,402\tERROR\t[file]\txxxx\r\n",
      "2023-05-04 20:14:18,402\tERROR\t[file]\txxxx\r\n",
      "2023-05-04 20:14:18,402\tERROR\t[file]\txxxx\r\n",
      "2023-05-04 20:14:19,691\tERROR\t[file]\txxxx\r\n",
      "2023-05-04 20:14:19,691\tERROR\t[file]\txxxx\r\n",
      "2023-05-04 20:14:19,691\tERROR\t[file]\txxxx\r\n",
      "2023-05-04 20:14:19,691\tERROR\t[file]\txxxx\r\n",
      "2023-05-04 20:14:19,691\tERROR\t[file]\txxxx\r\n",
      "2023-05-04 20:14:19,691\tERROR\t[file]\txxxx\r\n",
      "2023-05-04 20:14:20,914\tERROR\t[file]\txxxx\r\n",
      "2023-05-04 20:14:20,914\tERROR\t[file]\txxxx\r\n",
      "2023-05-04 20:14:20,914\tERROR\t[file]\txxxx\r\n",
      "2023-05-04 20:14:20,914\tERROR\t[file]\txxxx\r\n",
      "2023-05-04 20:14:20,914\tERROR\t[file]\txxxx\r\n",
      "2023-05-04 20:14:20,914\tERROR\t[file]\txxxx\r\n",
      "2023-05-04 20:14:20,914\tERROR\t[file]\txxxx\r\n",
      "2023-05-04 20:14:23,742\tERROR\t[file]\txxxx\r\n",
      "2023-05-04 20:14:23,742\tERROR\t[file]\txxxx\r\n",
      "2023-05-04 20:14:23,742\tERROR\t[file]\txxxx\r\n",
      "2023-05-04 20:14:23,742\tERROR\t[file]\txxxx\r\n",
      "2023-05-04 20:14:23,742\tERROR\t[file]\txxxx\r\n",
      "2023-05-04 20:14:23,742\tERROR\t[file]\txxxx\r\n",
      "2023-05-04 20:14:23,742\tERROR\t[file]\txxxx\r\n",
      "2023-05-04 20:14:23,742\tERROR\t[file]\txxxx\r\n",
      "2023-05-04 20:14:44,053\tERROR\t[file]\txxxx 99\r\n",
      "2023-05-04 20:14:44,053\tERROR\t[file]\txxxx 99\r\n",
      "2023-05-04 20:14:44,053\tERROR\t[file]\txxxx 99\r\n",
      "2023-05-04 20:14:44,053\tERROR\t[file]\txxxx 99\r\n",
      "2023-05-04 20:14:44,053\tERROR\t[file]\txxxx 99\r\n",
      "2023-05-04 20:14:44,053\tERROR\t[file]\txxxx 99\r\n",
      "2023-05-04 20:14:44,053\tERROR\t[file]\txxxx 99\r\n",
      "2023-05-04 20:14:44,053\tERROR\t[file]\txxxx 99\r\n",
      "2023-05-04 20:14:44,053\tERROR\t[file]\txxxx 99\r\n",
      "2023-05-04 20:15:44,166\tERROR\t[file]\txxxx 99\r\n",
      "2023-05-04 20:15:44,166\tERROR\t[file]\txxxx 99\r\n",
      "2023-05-04 20:15:44,166\tERROR\t[file]\txxxx 99\r\n",
      "2023-05-04 20:15:44,166\tERROR\t[file]\txxxx 99\r\n",
      "2023-05-04 20:15:44,166\tERROR\t[file]\txxxx 99\r\n",
      "2023-05-04 20:15:44,166\tERROR\t[file]\txxxx 99\r\n",
      "2023-05-04 20:15:44,166\tERROR\t[file]\txxxx 99\r\n",
      "2023-05-04 20:15:44,166\tERROR\t[file]\txxxx 99\r\n",
      "2023-05-04 20:15:44,166\tERROR\t[file]\txxxx 99\r\n",
      "2023-05-04 20:15:44,166\tERROR\t[file]\txxxx 99\r\n",
      "2023-05-04 20:16:19,221\tERROR\t[file]\tnight\r\n",
      "2023-05-04 20:16:37,380\tERROR\t[file]\t[draft] night\r\n"
     ]
    }
   ],
   "source": [
    "!cat example1.log"
   ]
  },
  {
   "cell_type": "code",
   "execution_count": null,
   "id": "7e040279",
   "metadata": {},
   "outputs": [],
   "source": []
  },
  {
   "cell_type": "code",
   "execution_count": null,
   "id": "5b1a5c17",
   "metadata": {},
   "outputs": [],
   "source": []
  },
  {
   "cell_type": "code",
   "execution_count": 5,
   "id": "be94a0b6",
   "metadata": {},
   "outputs": [],
   "source": [
    "import dis"
   ]
  },
  {
   "cell_type": "code",
   "execution_count": 6,
   "id": "98a10c33",
   "metadata": {},
   "outputs": [
    {
     "name": "stdout",
     "output_type": "stream",
     "text": [
      "1505           0 LOAD_FAST                0 (self)\n",
      "               2 LOAD_METHOD              0 (isEnabledFor)\n",
      "               4 LOAD_GLOBAL              1 (ERROR)\n",
      "               6 CALL_METHOD              1\n",
      "               8 POP_JUMP_IF_FALSE       18 (to 36)\n",
      "\n",
      "1506          10 LOAD_FAST                0 (self)\n",
      "              12 LOAD_ATTR                2 (_log)\n",
      "              14 LOAD_GLOBAL              1 (ERROR)\n",
      "              16 LOAD_FAST                1 (msg)\n",
      "              18 LOAD_FAST                2 (args)\n",
      "              20 BUILD_TUPLE              3\n",
      "              22 BUILD_MAP                0\n",
      "              24 LOAD_FAST                3 (kwargs)\n",
      "              26 DICT_MERGE               1\n",
      "              28 CALL_FUNCTION_EX         1\n",
      "              30 POP_TOP\n",
      "              32 LOAD_CONST               1 (None)\n",
      "              34 RETURN_VALUE\n",
      "\n",
      "1505     >>   36 LOAD_CONST               1 (None)\n",
      "              38 RETURN_VALUE\n"
     ]
    }
   ],
   "source": [
    "dis.dis(full.error)"
   ]
  },
  {
   "cell_type": "code",
   "execution_count": 15,
   "id": "7a22b1b7",
   "metadata": {},
   "outputs": [],
   "source": [
    "def add(a, b, *args):\n",
    "    x = a + b\n",
    "    global y\n",
    "    y = sum(args)\n",
    "    z = x + y\n",
    "    \n",
    "    r = range(a, b)\n",
    "    z += sum(r)\n",
    "\n",
    "    return z"
   ]
  },
  {
   "cell_type": "code",
   "execution_count": 16,
   "id": "cca48086",
   "metadata": {},
   "outputs": [
    {
     "data": {
      "text/plain": [
       "(4, 7)"
      ]
     },
     "execution_count": 16,
     "metadata": {},
     "output_type": "execute_result"
    }
   ],
   "source": [
    "add(1, 2), add(1, 2, 3)"
   ]
  },
  {
   "cell_type": "code",
   "execution_count": 13,
   "id": "6fde1c05",
   "metadata": {},
   "outputs": [
    {
     "data": {
      "text/plain": [
       "3"
      ]
     },
     "execution_count": 13,
     "metadata": {},
     "output_type": "execute_result"
    }
   ],
   "source": [
    "y"
   ]
  },
  {
   "cell_type": "code",
   "execution_count": 17,
   "id": "4ebbbfbd",
   "metadata": {},
   "outputs": [
    {
     "name": "stdout",
     "output_type": "stream",
     "text": [
      "  2           0 LOAD_FAST                0 (a)\n",
      "              2 LOAD_FAST                1 (b)\n",
      "              4 BINARY_ADD\n",
      "              6 STORE_FAST               3 (x)\n",
      "\n",
      "  4           8 LOAD_GLOBAL              0 (sum)\n",
      "             10 LOAD_FAST                2 (args)\n",
      "             12 CALL_FUNCTION            1\n",
      "             14 STORE_GLOBAL             1 (y)\n",
      "\n",
      "  5          16 LOAD_FAST                3 (x)\n",
      "             18 LOAD_GLOBAL              1 (y)\n",
      "             20 BINARY_ADD\n",
      "             22 STORE_FAST               4 (z)\n",
      "\n",
      "  7          24 LOAD_GLOBAL              2 (range)\n",
      "             26 LOAD_FAST                0 (a)\n",
      "             28 LOAD_FAST                1 (b)\n",
      "             30 CALL_FUNCTION            2\n",
      "             32 STORE_FAST               5 (r)\n",
      "\n",
      "  8          34 LOAD_FAST                4 (z)\n",
      "             36 LOAD_GLOBAL              0 (sum)\n",
      "             38 LOAD_FAST                5 (r)\n",
      "             40 CALL_FUNCTION            1\n",
      "             42 INPLACE_ADD\n",
      "             44 STORE_FAST               4 (z)\n",
      "\n",
      " 10          46 LOAD_FAST                4 (z)\n",
      "             48 RETURN_VALUE\n"
     ]
    }
   ],
   "source": [
    "dis.dis(add)"
   ]
  },
  {
   "cell_type": "code",
   "execution_count": null,
   "id": "78419a20",
   "metadata": {},
   "outputs": [],
   "source": []
  },
  {
   "cell_type": "code",
   "execution_count": 19,
   "id": "35470ac8",
   "metadata": {},
   "outputs": [
    {
     "name": "stdout",
     "output_type": "stream",
     "text": [
      "0.42\n"
     ]
    }
   ],
   "source": [
    "class Engine:\n",
    "    def __init__(self, power, car):\n",
    "        self._power = power\n",
    "        self.car = car\n",
    "\n",
    "    @property\n",
    "    def power(self):\n",
    "        return self._power\n",
    "\n",
    "\n",
    "class Car:\n",
    "    newton_div = 100\n",
    "\n",
    "    def __init__(self, power):\n",
    "        self.engine = Engine(power, self)\n",
    "    \n",
    "    def get_power(self):\n",
    "        power = self.engine.power\n",
    "\n",
    "        return power\n",
    "    \n",
    "    def get_power_in_newtons(self):\n",
    "        power = self.get_power()\n",
    "        \n",
    "        n_power = power / Car.newton_div\n",
    "        \n",
    "        return n_power\n",
    "\n",
    "\n",
    "auto = Car(42)\n",
    "print(auto.get_power_in_newtons())"
   ]
  },
  {
   "cell_type": "code",
   "execution_count": 23,
   "id": "dc7bd8ea",
   "metadata": {},
   "outputs": [
    {
     "name": "stdout",
     "output_type": "stream",
     "text": [
      "> \u001b[0;32m/var/folders/c1/9wdb7dps2x332c6l1y2hrqkh0000gp/T/ipykernel_65854/302416629.py\u001b[0m(5)\u001b[0;36mget_auto_power\u001b[0;34m()\u001b[0m\n",
      "\u001b[0;32m      3 \u001b[0;31m\u001b[0;32mdef\u001b[0m \u001b[0mget_auto_power\u001b[0m\u001b[0;34m(\u001b[0m\u001b[0mauto\u001b[0m\u001b[0;34m)\u001b[0m\u001b[0;34m:\u001b[0m\u001b[0;34m\u001b[0m\u001b[0;34m\u001b[0m\u001b[0m\n",
      "\u001b[0m\u001b[0;32m      4 \u001b[0;31m    \u001b[0;32mimport\u001b[0m \u001b[0mpdb\u001b[0m\u001b[0;34m;\u001b[0m \u001b[0mpdb\u001b[0m\u001b[0;34m.\u001b[0m\u001b[0mset_trace\u001b[0m\u001b[0;34m(\u001b[0m\u001b[0;34m)\u001b[0m\u001b[0;34m\u001b[0m\u001b[0;34m\u001b[0m\u001b[0m\n",
      "\u001b[0m\u001b[0;32m----> 5 \u001b[0;31m    \u001b[0mprint\u001b[0m\u001b[0;34m(\u001b[0m\u001b[0mauto\u001b[0m\u001b[0;34m.\u001b[0m\u001b[0mget_power_in_newtons\u001b[0m\u001b[0;34m(\u001b[0m\u001b[0;34m)\u001b[0m\u001b[0;34m)\u001b[0m\u001b[0;34m\u001b[0m\u001b[0;34m\u001b[0m\u001b[0m\n",
      "\u001b[0m\u001b[0;32m      6 \u001b[0;31m\u001b[0;34m\u001b[0m\u001b[0m\n",
      "\u001b[0m\u001b[0;32m      7 \u001b[0;31m\u001b[0mget_auto_power\u001b[0m\u001b[0;34m(\u001b[0m\u001b[0mauto\u001b[0m\u001b[0;34m)\u001b[0m\u001b[0;34m\u001b[0m\u001b[0;34m\u001b[0m\u001b[0m\n",
      "\u001b[0m\n",
      "ipdb> s\n",
      "--Call--\n",
      "> \u001b[0;32m/var/folders/c1/9wdb7dps2x332c6l1y2hrqkh0000gp/T/ipykernel_65854/2525361619.py\u001b[0m(22)\u001b[0;36mget_power_in_newtons\u001b[0;34m()\u001b[0m\n",
      "\u001b[0;32m     20 \u001b[0;31m        \u001b[0;32mreturn\u001b[0m \u001b[0mpower\u001b[0m\u001b[0;34m\u001b[0m\u001b[0;34m\u001b[0m\u001b[0m\n",
      "\u001b[0m\u001b[0;32m     21 \u001b[0;31m\u001b[0;34m\u001b[0m\u001b[0m\n",
      "\u001b[0m\u001b[0;32m---> 22 \u001b[0;31m    \u001b[0;32mdef\u001b[0m \u001b[0mget_power_in_newtons\u001b[0m\u001b[0;34m(\u001b[0m\u001b[0mself\u001b[0m\u001b[0;34m)\u001b[0m\u001b[0;34m:\u001b[0m\u001b[0;34m\u001b[0m\u001b[0;34m\u001b[0m\u001b[0m\n",
      "\u001b[0m\u001b[0;32m     23 \u001b[0;31m        \u001b[0mpower\u001b[0m \u001b[0;34m=\u001b[0m \u001b[0mself\u001b[0m\u001b[0;34m.\u001b[0m\u001b[0mget_power\u001b[0m\u001b[0;34m(\u001b[0m\u001b[0;34m)\u001b[0m\u001b[0;34m\u001b[0m\u001b[0;34m\u001b[0m\u001b[0m\n",
      "\u001b[0m\u001b[0;32m     24 \u001b[0;31m\u001b[0;34m\u001b[0m\u001b[0m\n",
      "\u001b[0m\n",
      "ipdb> l\n",
      "\u001b[1;32m     17 \u001b[0m    \u001b[0;32mdef\u001b[0m \u001b[0mget_power\u001b[0m\u001b[0;34m(\u001b[0m\u001b[0mself\u001b[0m\u001b[0;34m)\u001b[0m\u001b[0;34m:\u001b[0m\u001b[0;34m\u001b[0m\u001b[0;34m\u001b[0m\u001b[0m\n",
      "\u001b[1;32m     18 \u001b[0m        \u001b[0mpower\u001b[0m \u001b[0;34m=\u001b[0m \u001b[0mself\u001b[0m\u001b[0;34m.\u001b[0m\u001b[0mengine\u001b[0m\u001b[0;34m.\u001b[0m\u001b[0mpower\u001b[0m\u001b[0;34m\u001b[0m\u001b[0;34m\u001b[0m\u001b[0m\n",
      "\u001b[1;32m     19 \u001b[0m\u001b[0;34m\u001b[0m\u001b[0m\n",
      "\u001b[1;32m     20 \u001b[0m        \u001b[0;32mreturn\u001b[0m \u001b[0mpower\u001b[0m\u001b[0;34m\u001b[0m\u001b[0;34m\u001b[0m\u001b[0m\n",
      "\u001b[1;32m     21 \u001b[0m\u001b[0;34m\u001b[0m\u001b[0m\n",
      "\u001b[0;32m---> 22 \u001b[0;31m    \u001b[0;32mdef\u001b[0m \u001b[0mget_power_in_newtons\u001b[0m\u001b[0;34m(\u001b[0m\u001b[0mself\u001b[0m\u001b[0;34m)\u001b[0m\u001b[0;34m:\u001b[0m\u001b[0;34m\u001b[0m\u001b[0;34m\u001b[0m\u001b[0m\n",
      "\u001b[0m\u001b[1;32m     23 \u001b[0m        \u001b[0mpower\u001b[0m \u001b[0;34m=\u001b[0m \u001b[0mself\u001b[0m\u001b[0;34m.\u001b[0m\u001b[0mget_power\u001b[0m\u001b[0;34m(\u001b[0m\u001b[0;34m)\u001b[0m\u001b[0;34m\u001b[0m\u001b[0;34m\u001b[0m\u001b[0m\n",
      "\u001b[1;32m     24 \u001b[0m\u001b[0;34m\u001b[0m\u001b[0m\n",
      "\u001b[1;32m     25 \u001b[0m        \u001b[0mn_power\u001b[0m \u001b[0;34m=\u001b[0m \u001b[0mpower\u001b[0m \u001b[0;34m/\u001b[0m \u001b[0mCar\u001b[0m\u001b[0;34m.\u001b[0m\u001b[0mnewton_div\u001b[0m\u001b[0;34m\u001b[0m\u001b[0;34m\u001b[0m\u001b[0m\n",
      "\u001b[1;32m     26 \u001b[0m\u001b[0;34m\u001b[0m\u001b[0m\n",
      "\u001b[1;32m     27 \u001b[0m        \u001b[0;32mreturn\u001b[0m \u001b[0mn_power\u001b[0m\u001b[0;34m\u001b[0m\u001b[0;34m\u001b[0m\u001b[0m\n",
      "\n",
      "ipdb> self\n",
      "<__main__.Car object at 0x110020fd0>\n",
      "ipdb> self.engine._power\n",
      "'42'\n",
      "ipdb> n\n",
      "> \u001b[0;32m/var/folders/c1/9wdb7dps2x332c6l1y2hrqkh0000gp/T/ipykernel_65854/2525361619.py\u001b[0m(23)\u001b[0;36mget_power_in_newtons\u001b[0;34m()\u001b[0m\n",
      "\u001b[0;32m     21 \u001b[0;31m\u001b[0;34m\u001b[0m\u001b[0m\n",
      "\u001b[0m\u001b[0;32m     22 \u001b[0;31m    \u001b[0;32mdef\u001b[0m \u001b[0mget_power_in_newtons\u001b[0m\u001b[0;34m(\u001b[0m\u001b[0mself\u001b[0m\u001b[0;34m)\u001b[0m\u001b[0;34m:\u001b[0m\u001b[0;34m\u001b[0m\u001b[0;34m\u001b[0m\u001b[0m\n",
      "\u001b[0m\u001b[0;32m---> 23 \u001b[0;31m        \u001b[0mpower\u001b[0m \u001b[0;34m=\u001b[0m \u001b[0mself\u001b[0m\u001b[0;34m.\u001b[0m\u001b[0mget_power\u001b[0m\u001b[0;34m(\u001b[0m\u001b[0;34m)\u001b[0m\u001b[0;34m\u001b[0m\u001b[0;34m\u001b[0m\u001b[0m\n",
      "\u001b[0m\u001b[0;32m     24 \u001b[0;31m\u001b[0;34m\u001b[0m\u001b[0m\n",
      "\u001b[0m\u001b[0;32m     25 \u001b[0;31m        \u001b[0mn_power\u001b[0m \u001b[0;34m=\u001b[0m \u001b[0mpower\u001b[0m \u001b[0;34m/\u001b[0m \u001b[0mCar\u001b[0m\u001b[0;34m.\u001b[0m\u001b[0mnewton_div\u001b[0m\u001b[0;34m\u001b[0m\u001b[0;34m\u001b[0m\u001b[0m\n",
      "\u001b[0m\n",
      "ipdb> s\n",
      "--Call--\n",
      "> \u001b[0;32m/var/folders/c1/9wdb7dps2x332c6l1y2hrqkh0000gp/T/ipykernel_65854/2525361619.py\u001b[0m(17)\u001b[0;36mget_power\u001b[0;34m()\u001b[0m\n",
      "\u001b[0;32m     15 \u001b[0;31m        \u001b[0mself\u001b[0m\u001b[0;34m.\u001b[0m\u001b[0mengine\u001b[0m \u001b[0;34m=\u001b[0m \u001b[0mEngine\u001b[0m\u001b[0;34m(\u001b[0m\u001b[0mpower\u001b[0m\u001b[0;34m,\u001b[0m \u001b[0mself\u001b[0m\u001b[0;34m)\u001b[0m\u001b[0;34m\u001b[0m\u001b[0;34m\u001b[0m\u001b[0m\n",
      "\u001b[0m\u001b[0;32m     16 \u001b[0;31m\u001b[0;34m\u001b[0m\u001b[0m\n",
      "\u001b[0m\u001b[0;32m---> 17 \u001b[0;31m    \u001b[0;32mdef\u001b[0m \u001b[0mget_power\u001b[0m\u001b[0;34m(\u001b[0m\u001b[0mself\u001b[0m\u001b[0;34m)\u001b[0m\u001b[0;34m:\u001b[0m\u001b[0;34m\u001b[0m\u001b[0;34m\u001b[0m\u001b[0m\n",
      "\u001b[0m\u001b[0;32m     18 \u001b[0;31m        \u001b[0mpower\u001b[0m \u001b[0;34m=\u001b[0m \u001b[0mself\u001b[0m\u001b[0;34m.\u001b[0m\u001b[0mengine\u001b[0m\u001b[0;34m.\u001b[0m\u001b[0mpower\u001b[0m\u001b[0;34m\u001b[0m\u001b[0;34m\u001b[0m\u001b[0m\n",
      "\u001b[0m\u001b[0;32m     19 \u001b[0;31m\u001b[0;34m\u001b[0m\u001b[0m\n",
      "\u001b[0m\n",
      "ipdb> n\n",
      "> \u001b[0;32m/var/folders/c1/9wdb7dps2x332c6l1y2hrqkh0000gp/T/ipykernel_65854/2525361619.py\u001b[0m(18)\u001b[0;36mget_power\u001b[0;34m()\u001b[0m\n",
      "\u001b[0;32m     16 \u001b[0;31m\u001b[0;34m\u001b[0m\u001b[0m\n",
      "\u001b[0m\u001b[0;32m     17 \u001b[0;31m    \u001b[0;32mdef\u001b[0m \u001b[0mget_power\u001b[0m\u001b[0;34m(\u001b[0m\u001b[0mself\u001b[0m\u001b[0;34m)\u001b[0m\u001b[0;34m:\u001b[0m\u001b[0;34m\u001b[0m\u001b[0;34m\u001b[0m\u001b[0m\n",
      "\u001b[0m\u001b[0;32m---> 18 \u001b[0;31m        \u001b[0mpower\u001b[0m \u001b[0;34m=\u001b[0m \u001b[0mself\u001b[0m\u001b[0;34m.\u001b[0m\u001b[0mengine\u001b[0m\u001b[0;34m.\u001b[0m\u001b[0mpower\u001b[0m\u001b[0;34m\u001b[0m\u001b[0;34m\u001b[0m\u001b[0m\n",
      "\u001b[0m\u001b[0;32m     19 \u001b[0;31m\u001b[0;34m\u001b[0m\u001b[0m\n",
      "\u001b[0m\u001b[0;32m     20 \u001b[0;31m        \u001b[0;32mreturn\u001b[0m \u001b[0mpower\u001b[0m\u001b[0;34m\u001b[0m\u001b[0;34m\u001b[0m\u001b[0m\n",
      "\u001b[0m\n",
      "ipdb> h\n",
      "\n",
      "Documented commands (type help <topic>):\n",
      "========================================\n",
      "EOF    commands   enable    ll        pp       s                until \n",
      "a      condition  exit      longlist  psource  skip_hidden      up    \n",
      "alias  cont       h         n         q        skip_predicates  w     \n",
      "args   context    help      next      quit     source           whatis\n",
      "b      continue   ignore    p         r        step             where \n",
      "break  d          interact  pdef      restart  tbreak         \n",
      "bt     debug      j         pdoc      return   u              \n",
      "c      disable    jump      pfile     retval   unalias        \n",
      "cl     display    l         pinfo     run      undisplay      \n",
      "clear  down       list      pinfo2    rv       unt            \n",
      "\n",
      "Miscellaneous help topics:\n",
      "==========================\n",
      "exec  pdb\n",
      "\n",
      "ipdb> up\n",
      "> \u001b[0;32m/var/folders/c1/9wdb7dps2x332c6l1y2hrqkh0000gp/T/ipykernel_65854/2525361619.py\u001b[0m(23)\u001b[0;36mget_power_in_newtons\u001b[0;34m()\u001b[0m\n",
      "\u001b[0;32m     21 \u001b[0;31m\u001b[0;34m\u001b[0m\u001b[0m\n",
      "\u001b[0m\u001b[0;32m     22 \u001b[0;31m    \u001b[0;32mdef\u001b[0m \u001b[0mget_power_in_newtons\u001b[0m\u001b[0;34m(\u001b[0m\u001b[0mself\u001b[0m\u001b[0;34m)\u001b[0m\u001b[0;34m:\u001b[0m\u001b[0;34m\u001b[0m\u001b[0;34m\u001b[0m\u001b[0m\n",
      "\u001b[0m\u001b[0;32m---> 23 \u001b[0;31m        \u001b[0mpower\u001b[0m \u001b[0;34m=\u001b[0m \u001b[0mself\u001b[0m\u001b[0;34m.\u001b[0m\u001b[0mget_power\u001b[0m\u001b[0;34m(\u001b[0m\u001b[0;34m)\u001b[0m\u001b[0;34m\u001b[0m\u001b[0;34m\u001b[0m\u001b[0m\n",
      "\u001b[0m\u001b[0;32m     24 \u001b[0;31m\u001b[0;34m\u001b[0m\u001b[0m\n",
      "\u001b[0m\u001b[0;32m     25 \u001b[0;31m        \u001b[0mn_power\u001b[0m \u001b[0;34m=\u001b[0m \u001b[0mpower\u001b[0m \u001b[0;34m/\u001b[0m \u001b[0mCar\u001b[0m\u001b[0;34m.\u001b[0m\u001b[0mnewton_div\u001b[0m\u001b[0;34m\u001b[0m\u001b[0;34m\u001b[0m\u001b[0m\n",
      "\u001b[0m\n",
      "ipdb> up\n",
      "> \u001b[0;32m/var/folders/c1/9wdb7dps2x332c6l1y2hrqkh0000gp/T/ipykernel_65854/302416629.py\u001b[0m(5)\u001b[0;36mget_auto_power\u001b[0;34m()\u001b[0m\n",
      "\u001b[0;32m      3 \u001b[0;31m\u001b[0;32mdef\u001b[0m \u001b[0mget_auto_power\u001b[0m\u001b[0;34m(\u001b[0m\u001b[0mauto\u001b[0m\u001b[0;34m)\u001b[0m\u001b[0;34m:\u001b[0m\u001b[0;34m\u001b[0m\u001b[0;34m\u001b[0m\u001b[0m\n",
      "\u001b[0m\u001b[0;32m      4 \u001b[0;31m    \u001b[0;32mimport\u001b[0m \u001b[0mpdb\u001b[0m\u001b[0;34m;\u001b[0m \u001b[0mpdb\u001b[0m\u001b[0;34m.\u001b[0m\u001b[0mset_trace\u001b[0m\u001b[0;34m(\u001b[0m\u001b[0;34m)\u001b[0m\u001b[0;34m\u001b[0m\u001b[0;34m\u001b[0m\u001b[0m\n",
      "\u001b[0m\u001b[0;32m----> 5 \u001b[0;31m    \u001b[0mprint\u001b[0m\u001b[0;34m(\u001b[0m\u001b[0mauto\u001b[0m\u001b[0;34m.\u001b[0m\u001b[0mget_power_in_newtons\u001b[0m\u001b[0;34m(\u001b[0m\u001b[0;34m)\u001b[0m\u001b[0;34m)\u001b[0m\u001b[0;34m\u001b[0m\u001b[0;34m\u001b[0m\u001b[0m\n",
      "\u001b[0m\u001b[0;32m      6 \u001b[0;31m\u001b[0;34m\u001b[0m\u001b[0m\n",
      "\u001b[0m\u001b[0;32m      7 \u001b[0;31m\u001b[0mget_auto_power\u001b[0m\u001b[0;34m(\u001b[0m\u001b[0mauto\u001b[0m\u001b[0;34m)\u001b[0m\u001b[0;34m\u001b[0m\u001b[0;34m\u001b[0m\u001b[0m\n",
      "\u001b[0m\n",
      "ipdb> up\n",
      "> \u001b[0;32m/var/folders/c1/9wdb7dps2x332c6l1y2hrqkh0000gp/T/ipykernel_65854/302416629.py\u001b[0m(7)\u001b[0;36m<module>\u001b[0;34m()\u001b[0m\n",
      "\u001b[0;32m      3 \u001b[0;31m\u001b[0;32mdef\u001b[0m \u001b[0mget_auto_power\u001b[0m\u001b[0;34m(\u001b[0m\u001b[0mauto\u001b[0m\u001b[0;34m)\u001b[0m\u001b[0;34m:\u001b[0m\u001b[0;34m\u001b[0m\u001b[0;34m\u001b[0m\u001b[0m\n",
      "\u001b[0m\u001b[0;32m      4 \u001b[0;31m    \u001b[0;32mimport\u001b[0m \u001b[0mpdb\u001b[0m\u001b[0;34m;\u001b[0m \u001b[0mpdb\u001b[0m\u001b[0;34m.\u001b[0m\u001b[0mset_trace\u001b[0m\u001b[0;34m(\u001b[0m\u001b[0;34m)\u001b[0m\u001b[0;34m\u001b[0m\u001b[0;34m\u001b[0m\u001b[0m\n",
      "\u001b[0m\u001b[0;32m      5 \u001b[0;31m    \u001b[0mprint\u001b[0m\u001b[0;34m(\u001b[0m\u001b[0mauto\u001b[0m\u001b[0;34m.\u001b[0m\u001b[0mget_power_in_newtons\u001b[0m\u001b[0;34m(\u001b[0m\u001b[0;34m)\u001b[0m\u001b[0;34m)\u001b[0m\u001b[0;34m\u001b[0m\u001b[0;34m\u001b[0m\u001b[0m\n",
      "\u001b[0m\u001b[0;32m      6 \u001b[0;31m\u001b[0;34m\u001b[0m\u001b[0m\n",
      "\u001b[0m\u001b[0;32m----> 7 \u001b[0;31m\u001b[0mget_auto_power\u001b[0m\u001b[0;34m(\u001b[0m\u001b[0mauto\u001b[0m\u001b[0;34m)\u001b[0m\u001b[0;34m\u001b[0m\u001b[0;34m\u001b[0m\u001b[0m\n",
      "\u001b[0m\n",
      "ipdb> up\n",
      "*** all frames above hidden, use `skip_hidden False` to get get into those.\n",
      "ipdb> down\n",
      "> \u001b[0;32m/var/folders/c1/9wdb7dps2x332c6l1y2hrqkh0000gp/T/ipykernel_65854/302416629.py\u001b[0m(5)\u001b[0;36mget_auto_power\u001b[0;34m()\u001b[0m\n",
      "\u001b[0;32m      3 \u001b[0;31m\u001b[0;32mdef\u001b[0m \u001b[0mget_auto_power\u001b[0m\u001b[0;34m(\u001b[0m\u001b[0mauto\u001b[0m\u001b[0;34m)\u001b[0m\u001b[0;34m:\u001b[0m\u001b[0;34m\u001b[0m\u001b[0;34m\u001b[0m\u001b[0m\n",
      "\u001b[0m\u001b[0;32m      4 \u001b[0;31m    \u001b[0;32mimport\u001b[0m \u001b[0mpdb\u001b[0m\u001b[0;34m;\u001b[0m \u001b[0mpdb\u001b[0m\u001b[0;34m.\u001b[0m\u001b[0mset_trace\u001b[0m\u001b[0;34m(\u001b[0m\u001b[0;34m)\u001b[0m\u001b[0;34m\u001b[0m\u001b[0;34m\u001b[0m\u001b[0m\n",
      "\u001b[0m\u001b[0;32m----> 5 \u001b[0;31m    \u001b[0mprint\u001b[0m\u001b[0;34m(\u001b[0m\u001b[0mauto\u001b[0m\u001b[0;34m.\u001b[0m\u001b[0mget_power_in_newtons\u001b[0m\u001b[0;34m(\u001b[0m\u001b[0;34m)\u001b[0m\u001b[0;34m)\u001b[0m\u001b[0;34m\u001b[0m\u001b[0;34m\u001b[0m\u001b[0m\n",
      "\u001b[0m\u001b[0;32m      6 \u001b[0;31m\u001b[0;34m\u001b[0m\u001b[0m\n",
      "\u001b[0m\u001b[0;32m      7 \u001b[0;31m\u001b[0mget_auto_power\u001b[0m\u001b[0;34m(\u001b[0m\u001b[0mauto\u001b[0m\u001b[0;34m)\u001b[0m\u001b[0;34m\u001b[0m\u001b[0;34m\u001b[0m\u001b[0m\n",
      "\u001b[0m\n"
     ]
    },
    {
     "name": "stdout",
     "output_type": "stream",
     "text": [
      "ipdb> down\n",
      "> \u001b[0;32m/var/folders/c1/9wdb7dps2x332c6l1y2hrqkh0000gp/T/ipykernel_65854/2525361619.py\u001b[0m(23)\u001b[0;36mget_power_in_newtons\u001b[0;34m()\u001b[0m\n",
      "\u001b[0;32m     21 \u001b[0;31m\u001b[0;34m\u001b[0m\u001b[0m\n",
      "\u001b[0m\u001b[0;32m     22 \u001b[0;31m    \u001b[0;32mdef\u001b[0m \u001b[0mget_power_in_newtons\u001b[0m\u001b[0;34m(\u001b[0m\u001b[0mself\u001b[0m\u001b[0;34m)\u001b[0m\u001b[0;34m:\u001b[0m\u001b[0;34m\u001b[0m\u001b[0;34m\u001b[0m\u001b[0m\n",
      "\u001b[0m\u001b[0;32m---> 23 \u001b[0;31m        \u001b[0mpower\u001b[0m \u001b[0;34m=\u001b[0m \u001b[0mself\u001b[0m\u001b[0;34m.\u001b[0m\u001b[0mget_power\u001b[0m\u001b[0;34m(\u001b[0m\u001b[0;34m)\u001b[0m\u001b[0;34m\u001b[0m\u001b[0;34m\u001b[0m\u001b[0m\n",
      "\u001b[0m\u001b[0;32m     24 \u001b[0;31m\u001b[0;34m\u001b[0m\u001b[0m\n",
      "\u001b[0m\u001b[0;32m     25 \u001b[0;31m        \u001b[0mn_power\u001b[0m \u001b[0;34m=\u001b[0m \u001b[0mpower\u001b[0m \u001b[0;34m/\u001b[0m \u001b[0mCar\u001b[0m\u001b[0;34m.\u001b[0m\u001b[0mnewton_div\u001b[0m\u001b[0;34m\u001b[0m\u001b[0;34m\u001b[0m\u001b[0m\n",
      "\u001b[0m\n",
      "ipdb> down\n",
      "> \u001b[0;32m/var/folders/c1/9wdb7dps2x332c6l1y2hrqkh0000gp/T/ipykernel_65854/2525361619.py\u001b[0m(18)\u001b[0;36mget_power\u001b[0;34m()\u001b[0m\n",
      "\u001b[0;32m     16 \u001b[0;31m\u001b[0;34m\u001b[0m\u001b[0m\n",
      "\u001b[0m\u001b[0;32m     17 \u001b[0;31m    \u001b[0;32mdef\u001b[0m \u001b[0mget_power\u001b[0m\u001b[0;34m(\u001b[0m\u001b[0mself\u001b[0m\u001b[0;34m)\u001b[0m\u001b[0;34m:\u001b[0m\u001b[0;34m\u001b[0m\u001b[0;34m\u001b[0m\u001b[0m\n",
      "\u001b[0m\u001b[0;32m---> 18 \u001b[0;31m        \u001b[0mpower\u001b[0m \u001b[0;34m=\u001b[0m \u001b[0mself\u001b[0m\u001b[0;34m.\u001b[0m\u001b[0mengine\u001b[0m\u001b[0;34m.\u001b[0m\u001b[0mpower\u001b[0m\u001b[0;34m\u001b[0m\u001b[0;34m\u001b[0m\u001b[0m\n",
      "\u001b[0m\u001b[0;32m     19 \u001b[0;31m\u001b[0;34m\u001b[0m\u001b[0m\n",
      "\u001b[0m\u001b[0;32m     20 \u001b[0;31m        \u001b[0;32mreturn\u001b[0m \u001b[0mpower\u001b[0m\u001b[0;34m\u001b[0m\u001b[0;34m\u001b[0m\u001b[0m\n",
      "\u001b[0m\n",
      "ipdb> down\n",
      "*** Newest frame\n",
      "ipdb> h\n",
      "\n",
      "Documented commands (type help <topic>):\n",
      "========================================\n",
      "EOF    commands   enable    ll        pp       s                until \n",
      "a      condition  exit      longlist  psource  skip_hidden      up    \n",
      "alias  cont       h         n         q        skip_predicates  w     \n",
      "args   context    help      next      quit     source           whatis\n",
      "b      continue   ignore    p         r        step             where \n",
      "break  d          interact  pdef      restart  tbreak         \n",
      "bt     debug      j         pdoc      return   u              \n",
      "c      disable    jump      pfile     retval   unalias        \n",
      "cl     display    l         pinfo     run      undisplay      \n",
      "clear  down       list      pinfo2    rv       unt            \n",
      "\n",
      "Miscellaneous help topics:\n",
      "==========================\n",
      "exec  pdb\n",
      "\n",
      "ipdb> l\n",
      "\u001b[1;32m     13 \u001b[0m\u001b[0;34m\u001b[0m\u001b[0m\n",
      "\u001b[1;32m     14 \u001b[0m    \u001b[0;32mdef\u001b[0m \u001b[0m__init__\u001b[0m\u001b[0;34m(\u001b[0m\u001b[0mself\u001b[0m\u001b[0;34m,\u001b[0m \u001b[0mpower\u001b[0m\u001b[0;34m)\u001b[0m\u001b[0;34m:\u001b[0m\u001b[0;34m\u001b[0m\u001b[0;34m\u001b[0m\u001b[0m\n",
      "\u001b[1;32m     15 \u001b[0m        \u001b[0mself\u001b[0m\u001b[0;34m.\u001b[0m\u001b[0mengine\u001b[0m \u001b[0;34m=\u001b[0m \u001b[0mEngine\u001b[0m\u001b[0;34m(\u001b[0m\u001b[0mpower\u001b[0m\u001b[0;34m,\u001b[0m \u001b[0mself\u001b[0m\u001b[0;34m)\u001b[0m\u001b[0;34m\u001b[0m\u001b[0;34m\u001b[0m\u001b[0m\n",
      "\u001b[1;32m     16 \u001b[0m\u001b[0;34m\u001b[0m\u001b[0m\n",
      "\u001b[1;32m     17 \u001b[0m    \u001b[0;32mdef\u001b[0m \u001b[0mget_power\u001b[0m\u001b[0;34m(\u001b[0m\u001b[0mself\u001b[0m\u001b[0;34m)\u001b[0m\u001b[0;34m:\u001b[0m\u001b[0;34m\u001b[0m\u001b[0;34m\u001b[0m\u001b[0m\n",
      "\u001b[0;32m---> 18 \u001b[0;31m        \u001b[0mpower\u001b[0m \u001b[0;34m=\u001b[0m \u001b[0mself\u001b[0m\u001b[0;34m.\u001b[0m\u001b[0mengine\u001b[0m\u001b[0;34m.\u001b[0m\u001b[0mpower\u001b[0m\u001b[0;34m\u001b[0m\u001b[0;34m\u001b[0m\u001b[0m\n",
      "\u001b[0m\u001b[1;32m     19 \u001b[0m\u001b[0;34m\u001b[0m\u001b[0m\n",
      "\u001b[1;32m     20 \u001b[0m        \u001b[0;32mreturn\u001b[0m \u001b[0mpower\u001b[0m\u001b[0;34m\u001b[0m\u001b[0;34m\u001b[0m\u001b[0m\n",
      "\u001b[1;32m     21 \u001b[0m\u001b[0;34m\u001b[0m\u001b[0m\n",
      "\u001b[1;32m     22 \u001b[0m    \u001b[0;32mdef\u001b[0m \u001b[0mget_power_in_newtons\u001b[0m\u001b[0;34m(\u001b[0m\u001b[0mself\u001b[0m\u001b[0;34m)\u001b[0m\u001b[0;34m:\u001b[0m\u001b[0;34m\u001b[0m\u001b[0;34m\u001b[0m\u001b[0m\n",
      "\u001b[1;32m     23 \u001b[0m        \u001b[0mpower\u001b[0m \u001b[0;34m=\u001b[0m \u001b[0mself\u001b[0m\u001b[0;34m.\u001b[0m\u001b[0mget_power\u001b[0m\u001b[0;34m(\u001b[0m\u001b[0;34m)\u001b[0m\u001b[0;34m\u001b[0m\u001b[0;34m\u001b[0m\u001b[0m\n",
      "\n",
      "ipdb> return\n",
      "--Return--\n",
      "'42'\n",
      "> \u001b[0;32m/var/folders/c1/9wdb7dps2x332c6l1y2hrqkh0000gp/T/ipykernel_65854/2525361619.py\u001b[0m(20)\u001b[0;36mget_power\u001b[0;34m()\u001b[0m\n",
      "\u001b[0;32m     18 \u001b[0;31m        \u001b[0mpower\u001b[0m \u001b[0;34m=\u001b[0m \u001b[0mself\u001b[0m\u001b[0;34m.\u001b[0m\u001b[0mengine\u001b[0m\u001b[0;34m.\u001b[0m\u001b[0mpower\u001b[0m\u001b[0;34m\u001b[0m\u001b[0;34m\u001b[0m\u001b[0m\n",
      "\u001b[0m\u001b[0;32m     19 \u001b[0;31m\u001b[0;34m\u001b[0m\u001b[0m\n",
      "\u001b[0m\u001b[0;32m---> 20 \u001b[0;31m        \u001b[0;32mreturn\u001b[0m \u001b[0mpower\u001b[0m\u001b[0;34m\u001b[0m\u001b[0;34m\u001b[0m\u001b[0m\n",
      "\u001b[0m\u001b[0;32m     21 \u001b[0;31m\u001b[0;34m\u001b[0m\u001b[0m\n",
      "\u001b[0m\u001b[0;32m     22 \u001b[0;31m    \u001b[0;32mdef\u001b[0m \u001b[0mget_power_in_newtons\u001b[0m\u001b[0;34m(\u001b[0m\u001b[0mself\u001b[0m\u001b[0;34m)\u001b[0m\u001b[0;34m:\u001b[0m\u001b[0;34m\u001b[0m\u001b[0;34m\u001b[0m\u001b[0m\n",
      "\u001b[0m\n",
      "ipdb> power\n",
      "'42'\n",
      "ipdb> n\n",
      "> \u001b[0;32m/var/folders/c1/9wdb7dps2x332c6l1y2hrqkh0000gp/T/ipykernel_65854/2525361619.py\u001b[0m(25)\u001b[0;36mget_power_in_newtons\u001b[0;34m()\u001b[0m\n",
      "\u001b[0;32m     23 \u001b[0;31m        \u001b[0mpower\u001b[0m \u001b[0;34m=\u001b[0m \u001b[0mself\u001b[0m\u001b[0;34m.\u001b[0m\u001b[0mget_power\u001b[0m\u001b[0;34m(\u001b[0m\u001b[0;34m)\u001b[0m\u001b[0;34m\u001b[0m\u001b[0;34m\u001b[0m\u001b[0m\n",
      "\u001b[0m\u001b[0;32m     24 \u001b[0;31m\u001b[0;34m\u001b[0m\u001b[0m\n",
      "\u001b[0m\u001b[0;32m---> 25 \u001b[0;31m        \u001b[0mn_power\u001b[0m \u001b[0;34m=\u001b[0m \u001b[0mpower\u001b[0m \u001b[0;34m/\u001b[0m \u001b[0mCar\u001b[0m\u001b[0;34m.\u001b[0m\u001b[0mnewton_div\u001b[0m\u001b[0;34m\u001b[0m\u001b[0;34m\u001b[0m\u001b[0m\n",
      "\u001b[0m\u001b[0;32m     26 \u001b[0;31m\u001b[0;34m\u001b[0m\u001b[0m\n",
      "\u001b[0m\u001b[0;32m     27 \u001b[0;31m        \u001b[0;32mreturn\u001b[0m \u001b[0mn_power\u001b[0m\u001b[0;34m\u001b[0m\u001b[0;34m\u001b[0m\u001b[0m\n",
      "\u001b[0m\n",
      "ipdb> power\n",
      "'42'\n",
      "ipdb> Car.newton_div\n",
      "100\n",
      "ipdb> n\n",
      "TypeError: unsupported operand type(s) for /: 'str' and 'int'\n",
      "> \u001b[0;32m/var/folders/c1/9wdb7dps2x332c6l1y2hrqkh0000gp/T/ipykernel_65854/2525361619.py\u001b[0m(25)\u001b[0;36mget_power_in_newtons\u001b[0;34m()\u001b[0m\n",
      "\u001b[0;32m     23 \u001b[0;31m        \u001b[0mpower\u001b[0m \u001b[0;34m=\u001b[0m \u001b[0mself\u001b[0m\u001b[0;34m.\u001b[0m\u001b[0mget_power\u001b[0m\u001b[0;34m(\u001b[0m\u001b[0;34m)\u001b[0m\u001b[0;34m\u001b[0m\u001b[0;34m\u001b[0m\u001b[0m\n",
      "\u001b[0m\u001b[0;32m     24 \u001b[0;31m\u001b[0;34m\u001b[0m\u001b[0m\n",
      "\u001b[0m\u001b[0;32m---> 25 \u001b[0;31m        \u001b[0mn_power\u001b[0m \u001b[0;34m=\u001b[0m \u001b[0mpower\u001b[0m \u001b[0;34m/\u001b[0m \u001b[0mCar\u001b[0m\u001b[0;34m.\u001b[0m\u001b[0mnewton_div\u001b[0m\u001b[0;34m\u001b[0m\u001b[0;34m\u001b[0m\u001b[0m\n",
      "\u001b[0m\u001b[0;32m     26 \u001b[0;31m\u001b[0;34m\u001b[0m\u001b[0m\n",
      "\u001b[0m\u001b[0;32m     27 \u001b[0;31m        \u001b[0;32mreturn\u001b[0m \u001b[0mn_power\u001b[0m\u001b[0;34m\u001b[0m\u001b[0;34m\u001b[0m\u001b[0m\n",
      "\u001b[0m\n",
      "ipdb> c\n"
     ]
    },
    {
     "ename": "TypeError",
     "evalue": "unsupported operand type(s) for /: 'str' and 'int'",
     "output_type": "error",
     "traceback": [
      "\u001b[0;31m---------------------------------------------------------------------------\u001b[0m",
      "\u001b[0;31mTypeError\u001b[0m                                 Traceback (most recent call last)",
      "Cell \u001b[0;32mIn[23], line 7\u001b[0m\n\u001b[1;32m      4\u001b[0m     \u001b[38;5;28;01mimport\u001b[39;00m \u001b[38;5;21;01mpdb\u001b[39;00m; pdb\u001b[38;5;241m.\u001b[39mset_trace()\n\u001b[1;32m      5\u001b[0m     \u001b[38;5;28mprint\u001b[39m(auto\u001b[38;5;241m.\u001b[39mget_power_in_newtons())\n\u001b[0;32m----> 7\u001b[0m \u001b[43mget_auto_power\u001b[49m\u001b[43m(\u001b[49m\u001b[43mauto\u001b[49m\u001b[43m)\u001b[49m\n",
      "Cell \u001b[0;32mIn[23], line 5\u001b[0m, in \u001b[0;36mget_auto_power\u001b[0;34m(auto)\u001b[0m\n\u001b[1;32m      3\u001b[0m \u001b[38;5;28;01mdef\u001b[39;00m \u001b[38;5;21mget_auto_power\u001b[39m(auto):\n\u001b[1;32m      4\u001b[0m     \u001b[38;5;28;01mimport\u001b[39;00m \u001b[38;5;21;01mpdb\u001b[39;00m; pdb\u001b[38;5;241m.\u001b[39mset_trace()\n\u001b[0;32m----> 5\u001b[0m     \u001b[38;5;28mprint\u001b[39m(\u001b[43mauto\u001b[49m\u001b[38;5;241;43m.\u001b[39;49m\u001b[43mget_power_in_newtons\u001b[49m\u001b[43m(\u001b[49m\u001b[43m)\u001b[49m)\n",
      "Cell \u001b[0;32mIn[19], line 25\u001b[0m, in \u001b[0;36mCar.get_power_in_newtons\u001b[0;34m(self)\u001b[0m\n\u001b[1;32m     22\u001b[0m \u001b[38;5;28;01mdef\u001b[39;00m \u001b[38;5;21mget_power_in_newtons\u001b[39m(\u001b[38;5;28mself\u001b[39m):\n\u001b[1;32m     23\u001b[0m     power \u001b[38;5;241m=\u001b[39m \u001b[38;5;28mself\u001b[39m\u001b[38;5;241m.\u001b[39mget_power()\n\u001b[0;32m---> 25\u001b[0m     n_power \u001b[38;5;241m=\u001b[39m \u001b[43mpower\u001b[49m\u001b[43m \u001b[49m\u001b[38;5;241;43m/\u001b[39;49m\u001b[43m \u001b[49m\u001b[43mCar\u001b[49m\u001b[38;5;241;43m.\u001b[39;49m\u001b[43mnewton_div\u001b[49m\n\u001b[1;32m     27\u001b[0m     \u001b[38;5;28;01mreturn\u001b[39;00m n_power\n",
      "\u001b[0;31mTypeError\u001b[0m: unsupported operand type(s) for /: 'str' and 'int'"
     ]
    }
   ],
   "source": [
    "auto = Car(\"42\")\n",
    "\n",
    "def get_auto_power(auto):\n",
    "    import pdb; pdb.set_trace()\n",
    "    print(auto.get_power_in_newtons())\n",
    "    \n",
    "get_auto_power(auto)"
   ]
  },
  {
   "cell_type": "code",
   "execution_count": null,
   "id": "0014e9ec",
   "metadata": {},
   "outputs": [],
   "source": []
  },
  {
   "cell_type": "code",
   "execution_count": null,
   "id": "09c14032",
   "metadata": {},
   "outputs": [],
   "source": []
  },
  {
   "cell_type": "code",
   "execution_count": 24,
   "id": "1d615ebe",
   "metadata": {},
   "outputs": [],
   "source": [
    "def fn():\n",
    "    s = 0\n",
    "    for x in range(10):\n",
    "        import pdb; pdb.set_trace()\n",
    "        s += x\n",
    "        \n",
    "    return s"
   ]
  },
  {
   "cell_type": "code",
   "execution_count": 25,
   "id": "3985fbdd",
   "metadata": {},
   "outputs": [
    {
     "name": "stdout",
     "output_type": "stream",
     "text": [
      "> \u001b[0;32m/var/folders/c1/9wdb7dps2x332c6l1y2hrqkh0000gp/T/ipykernel_65854/1586053274.py\u001b[0m(5)\u001b[0;36mfn\u001b[0;34m()\u001b[0m\n",
      "\u001b[0;32m      3 \u001b[0;31m    \u001b[0;32mfor\u001b[0m \u001b[0mx\u001b[0m \u001b[0;32min\u001b[0m \u001b[0mrange\u001b[0m\u001b[0;34m(\u001b[0m\u001b[0;36m10\u001b[0m\u001b[0;34m)\u001b[0m\u001b[0;34m:\u001b[0m\u001b[0;34m\u001b[0m\u001b[0;34m\u001b[0m\u001b[0m\n",
      "\u001b[0m\u001b[0;32m      4 \u001b[0;31m        \u001b[0;32mimport\u001b[0m \u001b[0mpdb\u001b[0m\u001b[0;34m;\u001b[0m \u001b[0mpdb\u001b[0m\u001b[0;34m.\u001b[0m\u001b[0mset_trace\u001b[0m\u001b[0;34m(\u001b[0m\u001b[0;34m)\u001b[0m\u001b[0;34m\u001b[0m\u001b[0;34m\u001b[0m\u001b[0m\n",
      "\u001b[0m\u001b[0;32m----> 5 \u001b[0;31m        \u001b[0ms\u001b[0m \u001b[0;34m+=\u001b[0m \u001b[0mx\u001b[0m\u001b[0;34m\u001b[0m\u001b[0;34m\u001b[0m\u001b[0m\n",
      "\u001b[0m\u001b[0;32m      6 \u001b[0;31m\u001b[0;34m\u001b[0m\u001b[0m\n",
      "\u001b[0m\u001b[0;32m      7 \u001b[0;31m    \u001b[0;32mreturn\u001b[0m \u001b[0ms\u001b[0m\u001b[0;34m\u001b[0m\u001b[0;34m\u001b[0m\u001b[0m\n",
      "\u001b[0m\n",
      "ipdb> x\n",
      "0\n",
      "ipdb> s\n",
      "> \u001b[0;32m/var/folders/c1/9wdb7dps2x332c6l1y2hrqkh0000gp/T/ipykernel_65854/1586053274.py\u001b[0m(3)\u001b[0;36mfn\u001b[0;34m()\u001b[0m\n",
      "\u001b[0;32m      1 \u001b[0;31m\u001b[0;32mdef\u001b[0m \u001b[0mfn\u001b[0m\u001b[0;34m(\u001b[0m\u001b[0;34m)\u001b[0m\u001b[0;34m:\u001b[0m\u001b[0;34m\u001b[0m\u001b[0;34m\u001b[0m\u001b[0m\n",
      "\u001b[0m\u001b[0;32m      2 \u001b[0;31m    \u001b[0ms\u001b[0m \u001b[0;34m=\u001b[0m \u001b[0;36m0\u001b[0m\u001b[0;34m\u001b[0m\u001b[0;34m\u001b[0m\u001b[0m\n",
      "\u001b[0m\u001b[0;32m----> 3 \u001b[0;31m    \u001b[0;32mfor\u001b[0m \u001b[0mx\u001b[0m \u001b[0;32min\u001b[0m \u001b[0mrange\u001b[0m\u001b[0;34m(\u001b[0m\u001b[0;36m10\u001b[0m\u001b[0;34m)\u001b[0m\u001b[0;34m:\u001b[0m\u001b[0;34m\u001b[0m\u001b[0;34m\u001b[0m\u001b[0m\n",
      "\u001b[0m\u001b[0;32m      4 \u001b[0;31m        \u001b[0;32mimport\u001b[0m \u001b[0mpdb\u001b[0m\u001b[0;34m;\u001b[0m \u001b[0mpdb\u001b[0m\u001b[0;34m.\u001b[0m\u001b[0mset_trace\u001b[0m\u001b[0;34m(\u001b[0m\u001b[0;34m)\u001b[0m\u001b[0;34m\u001b[0m\u001b[0;34m\u001b[0m\u001b[0m\n",
      "\u001b[0m\u001b[0;32m      5 \u001b[0;31m        \u001b[0ms\u001b[0m \u001b[0;34m+=\u001b[0m \u001b[0mx\u001b[0m\u001b[0;34m\u001b[0m\u001b[0;34m\u001b[0m\u001b[0m\n",
      "\u001b[0m\n",
      "ipdb> print(s)\n",
      "0\n",
      "ipdb> locals()\n",
      "{'s': 0, 'x': 0, 'pdb': <module 'pdb' from '/Library/Frameworks/Python.framework/Versions/3.10/lib/python3.10/pdb.py'>}\n",
      "ipdb> c\n",
      "> \u001b[0;32m/var/folders/c1/9wdb7dps2x332c6l1y2hrqkh0000gp/T/ipykernel_65854/1586053274.py\u001b[0m(5)\u001b[0;36mfn\u001b[0;34m()\u001b[0m\n",
      "\u001b[0;32m      3 \u001b[0;31m    \u001b[0;32mfor\u001b[0m \u001b[0mx\u001b[0m \u001b[0;32min\u001b[0m \u001b[0mrange\u001b[0m\u001b[0;34m(\u001b[0m\u001b[0;36m10\u001b[0m\u001b[0;34m)\u001b[0m\u001b[0;34m:\u001b[0m\u001b[0;34m\u001b[0m\u001b[0;34m\u001b[0m\u001b[0m\n",
      "\u001b[0m\u001b[0;32m      4 \u001b[0;31m        \u001b[0;32mimport\u001b[0m \u001b[0mpdb\u001b[0m\u001b[0;34m;\u001b[0m \u001b[0mpdb\u001b[0m\u001b[0;34m.\u001b[0m\u001b[0mset_trace\u001b[0m\u001b[0;34m(\u001b[0m\u001b[0;34m)\u001b[0m\u001b[0;34m\u001b[0m\u001b[0;34m\u001b[0m\u001b[0m\n",
      "\u001b[0m\u001b[0;32m----> 5 \u001b[0;31m        \u001b[0ms\u001b[0m \u001b[0;34m+=\u001b[0m \u001b[0mx\u001b[0m\u001b[0;34m\u001b[0m\u001b[0;34m\u001b[0m\u001b[0m\n",
      "\u001b[0m\u001b[0;32m      6 \u001b[0;31m\u001b[0;34m\u001b[0m\u001b[0m\n",
      "\u001b[0m\u001b[0;32m      7 \u001b[0;31m    \u001b[0;32mreturn\u001b[0m \u001b[0ms\u001b[0m\u001b[0;34m\u001b[0m\u001b[0;34m\u001b[0m\u001b[0m\n",
      "\u001b[0m\n",
      "ipdb> c\n",
      "> \u001b[0;32m/var/folders/c1/9wdb7dps2x332c6l1y2hrqkh0000gp/T/ipykernel_65854/1586053274.py\u001b[0m(5)\u001b[0;36mfn\u001b[0;34m()\u001b[0m\n",
      "\u001b[0;32m      3 \u001b[0;31m    \u001b[0;32mfor\u001b[0m \u001b[0mx\u001b[0m \u001b[0;32min\u001b[0m \u001b[0mrange\u001b[0m\u001b[0;34m(\u001b[0m\u001b[0;36m10\u001b[0m\u001b[0;34m)\u001b[0m\u001b[0;34m:\u001b[0m\u001b[0;34m\u001b[0m\u001b[0;34m\u001b[0m\u001b[0m\n",
      "\u001b[0m\u001b[0;32m      4 \u001b[0;31m        \u001b[0;32mimport\u001b[0m \u001b[0mpdb\u001b[0m\u001b[0;34m;\u001b[0m \u001b[0mpdb\u001b[0m\u001b[0;34m.\u001b[0m\u001b[0mset_trace\u001b[0m\u001b[0;34m(\u001b[0m\u001b[0;34m)\u001b[0m\u001b[0;34m\u001b[0m\u001b[0;34m\u001b[0m\u001b[0m\n",
      "\u001b[0m\u001b[0;32m----> 5 \u001b[0;31m        \u001b[0ms\u001b[0m \u001b[0;34m+=\u001b[0m \u001b[0mx\u001b[0m\u001b[0;34m\u001b[0m\u001b[0;34m\u001b[0m\u001b[0m\n",
      "\u001b[0m\u001b[0;32m      6 \u001b[0;31m\u001b[0;34m\u001b[0m\u001b[0m\n",
      "\u001b[0m\u001b[0;32m      7 \u001b[0;31m    \u001b[0;32mreturn\u001b[0m \u001b[0ms\u001b[0m\u001b[0;34m\u001b[0m\u001b[0;34m\u001b[0m\u001b[0m\n",
      "\u001b[0m\n",
      "ipdb> x\n",
      "2\n",
      "ipdb> c\n",
      "> \u001b[0;32m/var/folders/c1/9wdb7dps2x332c6l1y2hrqkh0000gp/T/ipykernel_65854/1586053274.py\u001b[0m(5)\u001b[0;36mfn\u001b[0;34m()\u001b[0m\n",
      "\u001b[0;32m      3 \u001b[0;31m    \u001b[0;32mfor\u001b[0m \u001b[0mx\u001b[0m \u001b[0;32min\u001b[0m \u001b[0mrange\u001b[0m\u001b[0;34m(\u001b[0m\u001b[0;36m10\u001b[0m\u001b[0;34m)\u001b[0m\u001b[0;34m:\u001b[0m\u001b[0;34m\u001b[0m\u001b[0;34m\u001b[0m\u001b[0m\n",
      "\u001b[0m\u001b[0;32m      4 \u001b[0;31m        \u001b[0;32mimport\u001b[0m \u001b[0mpdb\u001b[0m\u001b[0;34m;\u001b[0m \u001b[0mpdb\u001b[0m\u001b[0;34m.\u001b[0m\u001b[0mset_trace\u001b[0m\u001b[0;34m(\u001b[0m\u001b[0;34m)\u001b[0m\u001b[0;34m\u001b[0m\u001b[0;34m\u001b[0m\u001b[0m\n",
      "\u001b[0m\u001b[0;32m----> 5 \u001b[0;31m        \u001b[0ms\u001b[0m \u001b[0;34m+=\u001b[0m \u001b[0mx\u001b[0m\u001b[0;34m\u001b[0m\u001b[0;34m\u001b[0m\u001b[0m\n",
      "\u001b[0m\u001b[0;32m      6 \u001b[0;31m\u001b[0;34m\u001b[0m\u001b[0m\n",
      "\u001b[0m\u001b[0;32m      7 \u001b[0;31m    \u001b[0;32mreturn\u001b[0m \u001b[0ms\u001b[0m\u001b[0;34m\u001b[0m\u001b[0;34m\u001b[0m\u001b[0m\n",
      "\u001b[0m\n",
      "ipdb> x\n",
      "3\n",
      "ipdb> print(s)\n",
      "3\n",
      "ipdb> c\n",
      "> \u001b[0;32m/var/folders/c1/9wdb7dps2x332c6l1y2hrqkh0000gp/T/ipykernel_65854/1586053274.py\u001b[0m(5)\u001b[0;36mfn\u001b[0;34m()\u001b[0m\n",
      "\u001b[0;32m      3 \u001b[0;31m    \u001b[0;32mfor\u001b[0m \u001b[0mx\u001b[0m \u001b[0;32min\u001b[0m \u001b[0mrange\u001b[0m\u001b[0;34m(\u001b[0m\u001b[0;36m10\u001b[0m\u001b[0;34m)\u001b[0m\u001b[0;34m:\u001b[0m\u001b[0;34m\u001b[0m\u001b[0;34m\u001b[0m\u001b[0m\n",
      "\u001b[0m\u001b[0;32m      4 \u001b[0;31m        \u001b[0;32mimport\u001b[0m \u001b[0mpdb\u001b[0m\u001b[0;34m;\u001b[0m \u001b[0mpdb\u001b[0m\u001b[0;34m.\u001b[0m\u001b[0mset_trace\u001b[0m\u001b[0;34m(\u001b[0m\u001b[0;34m)\u001b[0m\u001b[0;34m\u001b[0m\u001b[0;34m\u001b[0m\u001b[0m\n",
      "\u001b[0m\u001b[0;32m----> 5 \u001b[0;31m        \u001b[0ms\u001b[0m \u001b[0;34m+=\u001b[0m \u001b[0mx\u001b[0m\u001b[0;34m\u001b[0m\u001b[0;34m\u001b[0m\u001b[0m\n",
      "\u001b[0m\u001b[0;32m      6 \u001b[0;31m\u001b[0;34m\u001b[0m\u001b[0m\n",
      "\u001b[0m\u001b[0;32m      7 \u001b[0;31m    \u001b[0;32mreturn\u001b[0m \u001b[0ms\u001b[0m\u001b[0;34m\u001b[0m\u001b[0;34m\u001b[0m\u001b[0m\n",
      "\u001b[0m\n",
      "ipdb> x\n",
      "4\n",
      "ipdb> print(s)\n",
      "6\n",
      "ipdb> q\n"
     ]
    }
   ],
   "source": [
    "fn()"
   ]
  },
  {
   "cell_type": "code",
   "execution_count": null,
   "id": "b4b9f2d4",
   "metadata": {},
   "outputs": [],
   "source": []
  }
 ],
 "metadata": {
  "kernelspec": {
   "display_name": "Python 3 (ipykernel)",
   "language": "python",
   "name": "python3"
  },
  "language_info": {
   "codemirror_mode": {
    "name": "ipython",
    "version": 3
   },
   "file_extension": ".py",
   "mimetype": "text/x-python",
   "name": "python",
   "nbconvert_exporter": "python",
   "pygments_lexer": "ipython3",
   "version": "3.10.2"
  }
 },
 "nbformat": 4,
 "nbformat_minor": 5
}
