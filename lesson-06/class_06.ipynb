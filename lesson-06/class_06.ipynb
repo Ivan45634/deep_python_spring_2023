{
 "cells": [
  {
   "cell_type": "code",
   "execution_count": 1,
   "id": "ddb44219",
   "metadata": {},
   "outputs": [],
   "source": [
    "import threading"
   ]
  },
  {
   "cell_type": "code",
   "execution_count": 17,
   "id": "6d03a5e8",
   "metadata": {},
   "outputs": [],
   "source": [
    "def fn():\n",
    "    print(\n",
    "        f\"{threading.active_count()=},\\n\"\n",
    "        f\"{threading.current_thread()=},\\n\"\n",
    "        f\"{threading.current_thread().name=},\\n\"\n",
    "        f\"{threading.current_thread().is_alive()=},\\n\"\n",
    "        f\"{threading.get_ident()=},\\n\"\n",
    "        f\"{threading.get_native_id()=},\"\n",
    "    )"
   ]
  },
  {
   "cell_type": "code",
   "execution_count": 18,
   "id": "89cb2c27",
   "metadata": {},
   "outputs": [
    {
     "name": "stdout",
     "output_type": "stream",
     "text": [
      "threading.active_count()=9,\n",
      "threading.current_thread()=<Thread(class_thread_01, started 123145494265856)>,\n",
      "threading.current_thread().name='class_thread_01',\n",
      "threading.current_thread().is_alive()=True,\n",
      "threading.get_ident()=123145494265856,\n",
      "threading.get_native_id()=66687623,\n",
      "False False\n"
     ]
    }
   ],
   "source": [
    "th = threading.Thread(target=fn, name=\"class_thread_01\")\n",
    "th.start()\n",
    "th.join()\n",
    "print(th.daemon, th.is_alive())"
   ]
  },
  {
   "cell_type": "code",
   "execution_count": 13,
   "id": "3a385e50",
   "metadata": {},
   "outputs": [
    {
     "data": {
      "text/plain": [
       "[<_MainThread(MainThread, started 4601767424)>,\n",
       " <Thread(IOPub, started daemon 123145375129600)>,\n",
       " <Heartbeat(Heartbeat, started daemon 123145391919104)>,\n",
       " <Thread(Thread-3 (_watch_pipe_fd), started daemon 123145409781760)>,\n",
       " <Thread(Thread-4 (_watch_pipe_fd), started daemon 123145426571264)>,\n",
       " <ControlThread(Control, started daemon 123145443360768)>,\n",
       " <HistorySavingThread(IPythonHistorySavingThread, started 123145460150272)>,\n",
       " <ParentPollerUnix(Thread-2, started daemon 123145477476352)>]"
      ]
     },
     "execution_count": 13,
     "metadata": {},
     "output_type": "execute_result"
    }
   ],
   "source": [
    "threading.enumerate()"
   ]
  },
  {
   "cell_type": "code",
   "execution_count": null,
   "id": "2347d3fc",
   "metadata": {},
   "outputs": [],
   "source": []
  },
  {
   "cell_type": "code",
   "execution_count": null,
   "id": "5b9a3671",
   "metadata": {},
   "outputs": [],
   "source": []
  },
  {
   "cell_type": "code",
   "execution_count": 27,
   "id": "d0a6d3f2",
   "metadata": {},
   "outputs": [
    {
     "name": "stdout",
     "output_type": "stream",
     "text": [
      "CPU times: user 4.53 s, sys: 46.7 ms, total: 4.58 s\n",
      "Wall time: 4.95 s\n"
     ]
    }
   ],
   "source": [
    "%%time\n",
    "\n",
    "N = 10 ** 8\n",
    "\n",
    "\n",
    "def counter(a, b):\n",
    "    while a < b:\n",
    "        a += 1\n",
    "        \n",
    "counter(0, N)"
   ]
  },
  {
   "cell_type": "code",
   "execution_count": 22,
   "id": "e449c4b1",
   "metadata": {},
   "outputs": [
    {
     "name": "stdout",
     "output_type": "stream",
     "text": [
      "CPU times: user 4.7 s, sys: 43.2 ms, total: 4.75 s\n",
      "Wall time: 5.12 s\n"
     ]
    }
   ],
   "source": [
    "%%time\n",
    "\n",
    "N = 10 ** 8\n",
    "\n",
    "\n",
    "def counter(a, b):\n",
    "    while a < b:\n",
    "        a += 1\n",
    "        \n",
    "\n",
    "th = threading.Thread(target=counter, name=\"class_thread_01\", args=(0, N))\n",
    "th.start()\n",
    "th.join()\n"
   ]
  },
  {
   "cell_type": "code",
   "execution_count": 28,
   "id": "7dc0e805",
   "metadata": {},
   "outputs": [
    {
     "name": "stdout",
     "output_type": "stream",
     "text": [
      "CPU times: user 4.55 s, sys: 103 ms, total: 4.65 s\n",
      "Wall time: 4.84 s\n"
     ]
    }
   ],
   "source": [
    "%%time\n",
    "\n",
    "N_THREADS = 100\n",
    "COUNT_SIZE = N // N_THREADS\n",
    "\n",
    "\n",
    "threads = [\n",
    "    threading.Thread(\n",
    "        target=counter,\n",
    "        name=f\"class_thread_{i}\",\n",
    "        args=(i * COUNT_SIZE, COUNT_SIZE * (i + 1))\n",
    "    )\n",
    "    for i in range(N_THREADS)\n",
    "]\n",
    "\n",
    "for th in threads:\n",
    "    th.start()\n",
    "\n",
    "for th in threads:\n",
    "    th.join()"
   ]
  },
  {
   "cell_type": "code",
   "execution_count": null,
   "id": "8027b02a",
   "metadata": {},
   "outputs": [],
   "source": []
  },
  {
   "cell_type": "code",
   "execution_count": null,
   "id": "7bcdae26",
   "metadata": {},
   "outputs": [],
   "source": []
  },
  {
   "cell_type": "code",
   "execution_count": 29,
   "id": "092a1724",
   "metadata": {},
   "outputs": [],
   "source": [
    "from urllib.request import urlopen"
   ]
  },
  {
   "cell_type": "code",
   "execution_count": null,
   "id": "fdefc63d",
   "metadata": {},
   "outputs": [],
   "source": []
  },
  {
   "cell_type": "code",
   "execution_count": 38,
   "id": "b0e4c2a9",
   "metadata": {},
   "outputs": [
    {
     "name": "stdout",
     "output_type": "stream",
     "text": [
      "CPU times: user 1.01 s, sys: 108 ms, total: 1.12 s\n",
      "Wall time: 16.8 s\n"
     ]
    }
   ],
   "source": [
    "%%time\n",
    "\n",
    "URL = \"https://ru.wikipedia.org/wiki/Python\"\n",
    "N = 100\n",
    "URLS = [URL] * N\n",
    "\n",
    "\n",
    "def fetch_url(url):\n",
    "    res = urlopen(url)\n",
    "    return res\n",
    "\n",
    "\n",
    "def fetch_several_urls(urls):\n",
    "    for url in urls:\n",
    "        fetch_url(url)\n",
    "        \n",
    "        \n",
    "fetch_several_urls(URLS)"
   ]
  },
  {
   "cell_type": "code",
   "execution_count": 39,
   "id": "688c76f5",
   "metadata": {},
   "outputs": [
    {
     "name": "stdout",
     "output_type": "stream",
     "text": [
      "CPU times: user 1.02 s, sys: 115 ms, total: 1.14 s\n",
      "Wall time: 17.2 s\n"
     ]
    }
   ],
   "source": [
    "%%time\n",
    "\n",
    "\n",
    "th = threading.Thread(target=fetch_several_urls, name=\"class_thread_01\", args=(URLS,))\n",
    "th.start()\n",
    "th.join()\n"
   ]
  },
  {
   "cell_type": "code",
   "execution_count": 44,
   "id": "cbb230ec",
   "metadata": {},
   "outputs": [
    {
     "name": "stdout",
     "output_type": "stream",
     "text": [
      "CPU times: user 952 ms, sys: 123 ms, total: 1.07 s\n",
      "Wall time: 1.16 s\n"
     ]
    }
   ],
   "source": [
    "%%time\n",
    "\n",
    "N_THREADS = 25\n",
    "COUNT_SIZE = N // N_THREADS\n",
    "\n",
    "\n",
    "threads = [\n",
    "    threading.Thread(\n",
    "        target=fetch_several_urls,\n",
    "        name=f\"class_thread_{i}\",\n",
    "        args=([URL] * COUNT_SIZE,)\n",
    "    )\n",
    "    for i in range(N_THREADS)\n",
    "]\n",
    "\n",
    "for th in threads:\n",
    "    th.start()\n",
    "\n",
    "for th in threads:\n",
    "    th.join()"
   ]
  },
  {
   "cell_type": "code",
   "execution_count": null,
   "id": "386bab94",
   "metadata": {},
   "outputs": [],
   "source": []
  },
  {
   "cell_type": "code",
   "execution_count": null,
   "id": "4529b8ca",
   "metadata": {},
   "outputs": [],
   "source": []
  },
  {
   "cell_type": "code",
   "execution_count": 52,
   "id": "a5390b84",
   "metadata": {},
   "outputs": [
    {
     "name": "stdout",
     "output_type": "stream",
     "text": [
      "[302] False\n"
     ]
    }
   ],
   "source": [
    "import time\n",
    "\n",
    "N_THREADS = 100\n",
    "\n",
    "global_count = [0]\n",
    "\n",
    "\n",
    "def update_count(n):\n",
    "    for _ in range(n):\n",
    "        c = global_count[0]\n",
    "        time.sleep(0.000000001)\n",
    "        c += 1\n",
    "        global_count[0] = c\n",
    "        \n",
    "\n",
    "threads = [\n",
    "    threading.Thread(\n",
    "        target=update_count,\n",
    "        name=f\"class_thread_{i}\",\n",
    "        args=(100,)\n",
    "    )\n",
    "    for i in range(N_THREADS)\n",
    "]\n",
    "\n",
    "for th in threads:\n",
    "    th.start()\n",
    "\n",
    "for th in threads:\n",
    "    th.join()\n",
    "\n",
    "\n",
    "print(global_count, global_count[0] == 100 * 100)"
   ]
  },
  {
   "cell_type": "code",
   "execution_count": 55,
   "id": "e0c9f42f",
   "metadata": {},
   "outputs": [
    {
     "name": "stdout",
     "output_type": "stream",
     "text": [
      "[10000] True\n"
     ]
    }
   ],
   "source": [
    "import time\n",
    "\n",
    "N_THREADS = 100\n",
    "\n",
    "global_count = [0]\n",
    "\n",
    "\n",
    "def update_count(n, lock):\n",
    "    for _ in range(n):\n",
    "        lock.acquire()\n",
    "        \n",
    "        c = global_count[0]\n",
    "        time.sleep(0.000000001)\n",
    "        c += 1\n",
    "        global_count[0] = c\n",
    "    \n",
    "        lock.release()\n",
    "\n",
    "        \n",
    "lock = threading.Lock()        \n",
    "\n",
    "threads = [\n",
    "    threading.Thread(\n",
    "        target=update_count,\n",
    "        name=f\"class_thread_{i}\",\n",
    "        args=(100, lock)\n",
    "    )\n",
    "    for i in range(N_THREADS)\n",
    "]\n",
    "\n",
    "for th in threads:\n",
    "    th.start()\n",
    "\n",
    "for th in threads:\n",
    "    th.join()\n",
    "\n",
    "\n",
    "print(global_count, global_count[0] == 100 * 100)"
   ]
  },
  {
   "cell_type": "code",
   "execution_count": null,
   "id": "adedc54f",
   "metadata": {},
   "outputs": [],
   "source": []
  },
  {
   "cell_type": "code",
   "execution_count": null,
   "id": "a8bc9609",
   "metadata": {},
   "outputs": [],
   "source": []
  },
  {
   "cell_type": "code",
   "execution_count": 59,
   "id": "7a0dd53e",
   "metadata": {},
   "outputs": [
    {
     "name": "stdout",
     "output_type": "stream",
     "text": [
      "CPU times: user 971 ms, sys: 105 ms, total: 1.08 s\n",
      "Wall time: 8.69 s\n"
     ]
    }
   ],
   "source": [
    "%%time\n",
    "\n",
    "URL = \"https://ru.wikipedia.org/wiki/Python\"\n",
    "N = 100\n",
    "URLS = [URL] * N\n",
    "\n",
    "N_THREADS = 25\n",
    "COUNT_SIZE = N // N_THREADS\n",
    "\n",
    "SIM_CONNECTIONS = 2\n",
    "\n",
    "\n",
    "def fetch_url(url, sem):\n",
    "    with sem:\n",
    "        res = urlopen(url)\n",
    "\n",
    "    return res\n",
    "\n",
    "\n",
    "def fetch_several_urls(urls, sem):\n",
    "    for url in urls:\n",
    "        fetch_url(url, sem)\n",
    "\n",
    "\n",
    "sem = threading.Semaphore(SIM_CONNECTIONS)\n",
    "\n",
    "threads = [\n",
    "    threading.Thread(\n",
    "        target=fetch_several_urls,\n",
    "        name=f\"class_thread_{i}\",\n",
    "        args=([URL] * COUNT_SIZE, sem)\n",
    "    )\n",
    "    for i in range(N_THREADS)\n",
    "]\n",
    "\n",
    "for th in threads:\n",
    "    th.start()\n",
    "\n",
    "for th in threads:\n",
    "    th.join()"
   ]
  },
  {
   "cell_type": "code",
   "execution_count": null,
   "id": "c3959cd8",
   "metadata": {},
   "outputs": [],
   "source": []
  },
  {
   "cell_type": "code",
   "execution_count": null,
   "id": "6c41c4f2",
   "metadata": {},
   "outputs": [],
   "source": []
  },
  {
   "cell_type": "code",
   "execution_count": 1,
   "id": "d5445fd7",
   "metadata": {},
   "outputs": [],
   "source": [
    "import queue\n",
    "import threading\n",
    "from urllib.request import urlopen"
   ]
  },
  {
   "cell_type": "code",
   "execution_count": 6,
   "id": "6d41a52a",
   "metadata": {},
   "outputs": [
    {
     "name": "stdout",
     "output_type": "stream",
     "text": [
      "queue is ready\n",
      "CPU times: user 996 ms, sys: 112 ms, total: 1.11 s\n",
      "Wall time: 8.54 s\n"
     ]
    }
   ],
   "source": [
    "%%time\n",
    "\n",
    "URL = \"https://ru.wikipedia.org/wiki/Python\"\n",
    "N = 100\n",
    "URLS = [URL] * N\n",
    "\n",
    "N_THREADS = 10\n",
    "COUNT_SIZE = N // N_THREADS\n",
    "\n",
    "SIM_CONNECTIONS = 2\n",
    "\n",
    "q = queue.Queue()\n",
    "for url in URLS:\n",
    "    q.put(url)\n",
    "\n",
    "\n",
    "print(\"queue is ready\")\n",
    "\n",
    "\n",
    "def fetch_url(url, sem):\n",
    "    th = threading.current_thread()\n",
    "\n",
    "    with sem:\n",
    "        res = urlopen(url)\n",
    "\n",
    "    return res\n",
    "\n",
    "\n",
    "def fetch_several_urls(q, sem):\n",
    "    while True:\n",
    "        try:\n",
    "            url = q.get_nowait()\n",
    "        except Exception:\n",
    "            return\n",
    "        q.task_done()\n",
    "\n",
    "        fetch_url(url, sem)\n",
    "\n",
    "\n",
    "sem = threading.Semaphore(SIM_CONNECTIONS)\n",
    "\n",
    "threads = [\n",
    "    threading.Thread(\n",
    "        target=fetch_several_urls,\n",
    "        name=f\"class_thread_{i}\",\n",
    "        args=(q, sem)\n",
    "    )\n",
    "    for i in range(N_THREADS)\n",
    "]\n",
    "\n",
    "for th in threads:\n",
    "    th.start()\n",
    "\n",
    "for th in threads:\n",
    "    th.join()\n",
    "    \n",
    "q.join()"
   ]
  },
  {
   "cell_type": "code",
   "execution_count": null,
   "id": "8d4f554d",
   "metadata": {},
   "outputs": [],
   "source": []
  }
 ],
 "metadata": {
  "kernelspec": {
   "display_name": "Python 3 (ipykernel)",
   "language": "python",
   "name": "python3"
  },
  "language_info": {
   "codemirror_mode": {
    "name": "ipython",
    "version": 3
   },
   "file_extension": ".py",
   "mimetype": "text/x-python",
   "name": "python",
   "nbconvert_exporter": "python",
   "pygments_lexer": "ipython3",
   "version": "3.10.2"
  }
 },
 "nbformat": 4,
 "nbformat_minor": 5
}
