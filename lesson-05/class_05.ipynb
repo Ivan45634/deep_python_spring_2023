{
 "cells": [
  {
   "cell_type": "code",
   "execution_count": 5,
   "id": "0317c195",
   "metadata": {},
   "outputs": [
    {
     "name": "stdout",
     "output_type": "stream",
     "text": [
      "========\n",
      "Meta __call__ <class '__main__.Sofa'> (10,) {}\n",
      "Sofa.__new__ <class '__main__.Sofa'> (10,) {}\n",
      "Sofa.init with 10\n",
      "CALL INSTANCES {<class '__main__.Sofa'>: <__main__.Sofa object at 0x10e27fc10>}\n",
      "META INSTANCES {<class '__main__.Sofa'>: <__main__.Sofa object at 0x10e27fc10>}\n",
      "Meta __call__ <class '__main__.Sofa'> (20,) {}\n",
      "CALL INSTANCES {<class '__main__.Sofa'>: <__main__.Sofa object at 0x10e27fc10>}\n",
      "META INSTANCES {<class '__main__.Sofa'>: <__main__.Sofa object at 0x10e27fc10>}\n",
      "True 10 10\n",
      "========\n",
      "Meta __call__ <class '__main__.Divan'> (10,) {}\n",
      "Sofa.__new__ <class '__main__.Divan'> (10,) {}\n",
      "Sofa.init with 10\n",
      "CALL INSTANCES {<class '__main__.Sofa'>: <__main__.Sofa object at 0x10e27fc10>, <class '__main__.Divan'>: <__main__.Divan object at 0x10e27e9e0>}\n",
      "META INSTANCES {<class '__main__.Sofa'>: <__main__.Sofa object at 0x10e27fc10>, <class '__main__.Divan'>: <__main__.Divan object at 0x10e27e9e0>}\n",
      "Meta __call__ <class '__main__.Divan'> (20,) {}\n",
      "CALL INSTANCES {<class '__main__.Sofa'>: <__main__.Sofa object at 0x10e27fc10>, <class '__main__.Divan'>: <__main__.Divan object at 0x10e27e9e0>}\n",
      "META INSTANCES {<class '__main__.Sofa'>: <__main__.Sofa object at 0x10e27fc10>, <class '__main__.Divan'>: <__main__.Divan object at 0x10e27e9e0>}\n",
      "d1 is d2=True\n"
     ]
    }
   ],
   "source": [
    "class MetaSingleton(type):\n",
    "    _instances = {}\n",
    "\n",
    "    def __call__(cls, *args, **kwargs):\n",
    "        print('Meta __call__', cls, args, kwargs)\n",
    "        \n",
    "        if cls not in cls._instances:\n",
    "            cls._instances[cls] = super().__call__(*args, **kwargs)\n",
    "            \n",
    "        print(\"CALL INSTANCES\", cls._instances)\n",
    "        print(\"META INSTANCES\", MetaSingleton._instances)\n",
    "\n",
    "        return cls._instances[cls]\n",
    "\n",
    "\n",
    "class Sofa(metaclass=MetaSingleton):\n",
    "    def __new__(cls, *args, **kwargs):\n",
    "        print(f\"Sofa.__new__ {cls}\", args, kwargs)\n",
    "        \n",
    "        return super().__new__(cls)\n",
    "\n",
    "    def __init__(self, val):\n",
    "        print(f\"Sofa.init with {val}\")\n",
    "        self.val = val\n",
    "        \n",
    "\n",
    "class Divan(Sofa):\n",
    "    pass\n",
    "\n",
    "\n",
    "print(\"========\")\n",
    "\n",
    "s1 = Sofa(10)\n",
    "s2 = Sofa(20)\n",
    "\n",
    "\n",
    "print(s1 is s2, s1.val, s2.val)\n",
    "\n",
    "print(\"========\")\n",
    "\n",
    "d1 = Divan(10)\n",
    "d2 = Divan(20)\n",
    "\n",
    "print(f\"{d1 is d2=}\")"
   ]
  },
  {
   "cell_type": "code",
   "execution_count": null,
   "id": "44ad9f81",
   "metadata": {},
   "outputs": [],
   "source": []
  },
  {
   "cell_type": "code",
   "execution_count": null,
   "id": "f532fc56",
   "metadata": {},
   "outputs": [],
   "source": []
  },
  {
   "cell_type": "code",
   "execution_count": 20,
   "id": "52a66be7",
   "metadata": {},
   "outputs": [],
   "source": [
    "from abc import ABCMeta, ABC, abstractmethod"
   ]
  },
  {
   "cell_type": "code",
   "execution_count": 5,
   "id": "726e8a37",
   "metadata": {},
   "outputs": [],
   "source": [
    "# class AbstractClass(ABC): pass\n",
    "\n",
    "class AbstractClass(metaclass=ABCMeta):\n",
    "    @abstractmethod\n",
    "    def abs_method(self):\n",
    "        pass\n",
    "\n",
    "    def print_stat(self):\n",
    "        print(self.abs_method())\n",
    "\n",
    "\n",
    "class Table(AbstractClass):\n",
    "    def abs_method(self):\n",
    "        return \"Table_abs_non\"\n"
   ]
  },
  {
   "cell_type": "code",
   "execution_count": 6,
   "id": "a115bce1",
   "metadata": {},
   "outputs": [
    {
     "ename": "TypeError",
     "evalue": "Can't instantiate abstract class AbstractClass with abstract method abs_method",
     "output_type": "error",
     "traceback": [
      "\u001b[0;31m---------------------------------------------------------------------------\u001b[0m",
      "\u001b[0;31mTypeError\u001b[0m                                 Traceback (most recent call last)",
      "Cell \u001b[0;32mIn[6], line 1\u001b[0m\n\u001b[0;32m----> 1\u001b[0m c \u001b[38;5;241m=\u001b[39m \u001b[43mAbstractClass\u001b[49m\u001b[43m(\u001b[49m\u001b[43m)\u001b[49m\n",
      "\u001b[0;31mTypeError\u001b[0m: Can't instantiate abstract class AbstractClass with abstract method abs_method"
     ]
    }
   ],
   "source": [
    "c = AbstractClass()"
   ]
  },
  {
   "cell_type": "code",
   "execution_count": 7,
   "id": "440116c6",
   "metadata": {},
   "outputs": [],
   "source": [
    "t = Table()"
   ]
  },
  {
   "cell_type": "code",
   "execution_count": 8,
   "id": "2e8c5ef3",
   "metadata": {},
   "outputs": [
    {
     "name": "stdout",
     "output_type": "stream",
     "text": [
      "Table_abs_non\n"
     ]
    }
   ],
   "source": [
    "t.print_stat()"
   ]
  },
  {
   "cell_type": "code",
   "execution_count": null,
   "id": "2b62890d",
   "metadata": {},
   "outputs": [],
   "source": []
  },
  {
   "cell_type": "code",
   "execution_count": null,
   "id": "071897cc",
   "metadata": {},
   "outputs": [],
   "source": []
  },
  {
   "cell_type": "code",
   "execution_count": 9,
   "id": "226e494c",
   "metadata": {},
   "outputs": [],
   "source": [
    "from collections.abc import Hashable, Iterable"
   ]
  },
  {
   "cell_type": "code",
   "execution_count": 10,
   "id": "daeda9ed",
   "metadata": {},
   "outputs": [
    {
     "data": {
      "text/plain": [
       "True"
      ]
     },
     "execution_count": 10,
     "metadata": {},
     "output_type": "execute_result"
    }
   ],
   "source": [
    "isinstance(t, Hashable)"
   ]
  },
  {
   "cell_type": "code",
   "execution_count": 11,
   "id": "a08ab1f8",
   "metadata": {},
   "outputs": [
    {
     "data": {
      "text/plain": [
       "{<__main__.Table at 0x10e4898a0>: 1}"
      ]
     },
     "execution_count": 11,
     "metadata": {},
     "output_type": "execute_result"
    }
   ],
   "source": [
    "{t: 1}"
   ]
  },
  {
   "cell_type": "code",
   "execution_count": 12,
   "id": "244defda",
   "metadata": {},
   "outputs": [
    {
     "data": {
      "text/plain": [
       "False"
      ]
     },
     "execution_count": 12,
     "metadata": {},
     "output_type": "execute_result"
    }
   ],
   "source": [
    "isinstance(t, Iterable)"
   ]
  },
  {
   "cell_type": "code",
   "execution_count": 13,
   "id": "f37fb9a2",
   "metadata": {},
   "outputs": [],
   "source": [
    "class TableIter(AbstractClass):\n",
    "    def abs_method(self):\n",
    "        return \"TableIter_abs_non\"\n",
    "    \n",
    "    def __iter__(self):\n",
    "        pass"
   ]
  },
  {
   "cell_type": "code",
   "execution_count": 14,
   "id": "706e5ac5",
   "metadata": {},
   "outputs": [
    {
     "data": {
      "text/plain": [
       "True"
      ]
     },
     "execution_count": 14,
     "metadata": {},
     "output_type": "execute_result"
    }
   ],
   "source": [
    "t2 = TableIter()\n",
    "isinstance(t2, Iterable)"
   ]
  },
  {
   "cell_type": "code",
   "execution_count": null,
   "id": "a6d1b3a3",
   "metadata": {},
   "outputs": [],
   "source": []
  },
  {
   "cell_type": "code",
   "execution_count": 18,
   "id": "fef65cea",
   "metadata": {},
   "outputs": [
    {
     "data": {
      "text/plain": [
       "['predictable']"
      ]
     },
     "execution_count": 18,
     "metadata": {},
     "output_type": "execute_result"
    }
   ],
   "source": [
    "import random\n",
    "random.sample([\"duck\", \"predictable\"], 1)"
   ]
  },
  {
   "cell_type": "code",
   "execution_count": 17,
   "id": "b5cfe55b",
   "metadata": {},
   "outputs": [],
   "source": []
  },
  {
   "cell_type": "code",
   "execution_count": 22,
   "id": "a262333f",
   "metadata": {},
   "outputs": [],
   "source": []
  },
  {
   "cell_type": "code",
   "execution_count": 28,
   "id": "a7bbfcaa",
   "metadata": {},
   "outputs": [],
   "source": [
    "class Predictable(ABC):\n",
    "    @abstractmethod\n",
    "    def predict(self):\n",
    "        pass\n",
    "    \n",
    "    @classmethod\n",
    "    def __subclasshook__(cls, C):\n",
    "        if cls is not Predictable:\n",
    "            return NotImplemented\n",
    "\n",
    "        name = \"predict\"\n",
    "        for class_ in C.__mro__:\n",
    "            if name in class_.__dict__ and callable(class_.__dict__[name]):\n",
    "                return True\n",
    "            \n",
    "        return NotImplemented\n",
    "        \n",
    "        \n",
    "# isinstance(C, Predictable)"
   ]
  },
  {
   "cell_type": "code",
   "execution_count": 23,
   "id": "3305abaa",
   "metadata": {},
   "outputs": [],
   "source": [
    "class Tree:\n",
    "    predict = \"model\"\n",
    "    \n",
    "\n",
    "class TreeForest:\n",
    "    def predict(self):\n",
    "        pass\n",
    "    \n",
    "\n",
    "tree = Tree()\n",
    "forest = TreeForest()"
   ]
  },
  {
   "cell_type": "code",
   "execution_count": 29,
   "id": "a34a9f7c",
   "metadata": {},
   "outputs": [
    {
     "data": {
      "text/plain": [
       "(False, True)"
      ]
     },
     "execution_count": 29,
     "metadata": {},
     "output_type": "execute_result"
    }
   ],
   "source": [
    "isinstance(tree, Predictable), isinstance(forest, Predictable)"
   ]
  },
  {
   "cell_type": "code",
   "execution_count": 30,
   "id": "4e64d69a",
   "metadata": {},
   "outputs": [
    {
     "data": {
      "text/plain": [
       "(True, True)"
      ]
     },
     "execution_count": 30,
     "metadata": {},
     "output_type": "execute_result"
    }
   ],
   "source": [
    "Predictable.register(Tree)\n",
    "\n",
    "isinstance(tree, Predictable), isinstance(forest, Predictable)"
   ]
  },
  {
   "cell_type": "code",
   "execution_count": null,
   "id": "184ed5a7",
   "metadata": {},
   "outputs": [],
   "source": []
  },
  {
   "cell_type": "code",
   "execution_count": null,
   "id": "0d496aea",
   "metadata": {},
   "outputs": [],
   "source": []
  },
  {
   "cell_type": "code",
   "execution_count": 35,
   "id": "3759302c",
   "metadata": {},
   "outputs": [
    {
     "data": {
      "text/plain": [
       "(284261830, 4548189280)"
      ]
     },
     "execution_count": 35,
     "metadata": {},
     "output_type": "execute_result"
    }
   ],
   "source": [
    "hash(tree), id(tree)"
   ]
  },
  {
   "cell_type": "code",
   "execution_count": 36,
   "id": "2582ee28",
   "metadata": {},
   "outputs": [
    {
     "ename": "TypeError",
     "evalue": "unhashable type: 'list'",
     "output_type": "error",
     "traceback": [
      "\u001b[0;31m---------------------------------------------------------------------------\u001b[0m",
      "\u001b[0;31mTypeError\u001b[0m                                 Traceback (most recent call last)",
      "Cell \u001b[0;32mIn[36], line 1\u001b[0m\n\u001b[0;32m----> 1\u001b[0m \u001b[38;5;28;43mhash\u001b[39;49m\u001b[43m(\u001b[49m\u001b[43m[\u001b[49m\u001b[43m]\u001b[49m\u001b[43m)\u001b[49m\n",
      "\u001b[0;31mTypeError\u001b[0m: unhashable type: 'list'"
     ]
    }
   ],
   "source": [
    "hash([])"
   ]
  },
  {
   "cell_type": "code",
   "execution_count": 39,
   "id": "df5de1bd",
   "metadata": {},
   "outputs": [],
   "source": [
    "class UserList(list):\n",
    "    pass\n",
    "#     def __hash__(self):\n",
    "#         return 10"
   ]
  },
  {
   "cell_type": "code",
   "execution_count": 40,
   "id": "7f0f8a4e",
   "metadata": {},
   "outputs": [
    {
     "ename": "TypeError",
     "evalue": "unhashable type: 'UserList'",
     "output_type": "error",
     "traceback": [
      "\u001b[0;31m---------------------------------------------------------------------------\u001b[0m",
      "\u001b[0;31mTypeError\u001b[0m                                 Traceback (most recent call last)",
      "Cell \u001b[0;32mIn[40], line 1\u001b[0m\n\u001b[0;32m----> 1\u001b[0m \u001b[38;5;28;43mhash\u001b[39;49m\u001b[43m(\u001b[49m\u001b[43mUserList\u001b[49m\u001b[43m(\u001b[49m\u001b[43m[\u001b[49m\u001b[43m]\u001b[49m\u001b[43m)\u001b[49m\u001b[43m)\u001b[49m\n",
      "\u001b[0;31mTypeError\u001b[0m: unhashable type: 'UserList'"
     ]
    }
   ],
   "source": [
    "hash(UserList([]))"
   ]
  },
  {
   "cell_type": "code",
   "execution_count": 41,
   "id": "58eceed1",
   "metadata": {},
   "outputs": [
    {
     "data": {
      "text/plain": [
       "10"
      ]
     },
     "execution_count": 41,
     "metadata": {},
     "output_type": "execute_result"
    }
   ],
   "source": [
    "class UserList(list):\n",
    "    def __hash__(self):\n",
    "        return 10\n",
    "    \n",
    "hash(UserList([]))"
   ]
  },
  {
   "cell_type": "code",
   "execution_count": null,
   "id": "8d18a0ff",
   "metadata": {},
   "outputs": [],
   "source": []
  },
  {
   "cell_type": "code",
   "execution_count": 46,
   "id": "c3244f0c",
   "metadata": {},
   "outputs": [],
   "source": [
    "x1, x2 = -5, -6"
   ]
  },
  {
   "cell_type": "code",
   "execution_count": 47,
   "id": "e9bdd1ab",
   "metadata": {},
   "outputs": [],
   "source": [
    "y1, y2 = -5, -6"
   ]
  },
  {
   "cell_type": "code",
   "execution_count": 48,
   "id": "b8a2367d",
   "metadata": {},
   "outputs": [
    {
     "name": "stdout",
     "output_type": "stream",
     "text": [
      "True False\n"
     ]
    }
   ],
   "source": [
    "print(x1 is y1, x2 is y2)"
   ]
  },
  {
   "cell_type": "code",
   "execution_count": 49,
   "id": "bd5dad1b",
   "metadata": {},
   "outputs": [],
   "source": [
    "x1, x2 = 256, 257"
   ]
  },
  {
   "cell_type": "code",
   "execution_count": 50,
   "id": "a3713b3c",
   "metadata": {},
   "outputs": [],
   "source": [
    "y1, y2 = 256, 257"
   ]
  },
  {
   "cell_type": "code",
   "execution_count": 51,
   "id": "2180df43",
   "metadata": {},
   "outputs": [
    {
     "name": "stdout",
     "output_type": "stream",
     "text": [
      "True False\n"
     ]
    }
   ],
   "source": [
    "print(x1 is y1, x2 is y2)"
   ]
  },
  {
   "cell_type": "code",
   "execution_count": null,
   "id": "02d863ea",
   "metadata": {},
   "outputs": [],
   "source": []
  },
  {
   "cell_type": "code",
   "execution_count": 52,
   "id": "f85f7053",
   "metadata": {},
   "outputs": [],
   "source": [
    "x = \"qwerty\""
   ]
  },
  {
   "cell_type": "code",
   "execution_count": 53,
   "id": "d214bba5",
   "metadata": {},
   "outputs": [],
   "source": [
    "y = \"qwerty\""
   ]
  },
  {
   "cell_type": "code",
   "execution_count": 54,
   "id": "7a25012b",
   "metadata": {},
   "outputs": [
    {
     "data": {
      "text/plain": [
       "True"
      ]
     },
     "execution_count": 54,
     "metadata": {},
     "output_type": "execute_result"
    }
   ],
   "source": [
    "x is y"
   ]
  },
  {
   "cell_type": "code",
   "execution_count": 55,
   "id": "25e78f20",
   "metadata": {},
   "outputs": [],
   "source": [
    "x = \"qwerty!\""
   ]
  },
  {
   "cell_type": "code",
   "execution_count": 56,
   "id": "7e0bc6a7",
   "metadata": {},
   "outputs": [],
   "source": [
    "y = \"qwerty!\""
   ]
  },
  {
   "cell_type": "code",
   "execution_count": 57,
   "id": "2dd613d3",
   "metadata": {},
   "outputs": [
    {
     "data": {
      "text/plain": [
       "False"
      ]
     },
     "execution_count": 57,
     "metadata": {},
     "output_type": "execute_result"
    }
   ],
   "source": [
    "x is y"
   ]
  },
  {
   "cell_type": "code",
   "execution_count": 58,
   "id": "11e066fd",
   "metadata": {},
   "outputs": [
    {
     "data": {
      "text/plain": [
       "True"
      ]
     },
     "execution_count": 58,
     "metadata": {},
     "output_type": "execute_result"
    }
   ],
   "source": [
    "x, y = \"qwerty!\", \"qwerty!\"\n",
    "x is y"
   ]
  },
  {
   "cell_type": "code",
   "execution_count": 62,
   "id": "e6ebb6da",
   "metadata": {},
   "outputs": [],
   "source": [
    "def fn():\n",
    "    return \"q\""
   ]
  },
  {
   "cell_type": "code",
   "execution_count": 63,
   "id": "ac73fae8",
   "metadata": {},
   "outputs": [],
   "source": [
    "x = fn() * 5"
   ]
  },
  {
   "cell_type": "code",
   "execution_count": 64,
   "id": "656884d0",
   "metadata": {},
   "outputs": [],
   "source": [
    "y = fn() * 5"
   ]
  },
  {
   "cell_type": "code",
   "execution_count": 65,
   "id": "f4910e8a",
   "metadata": {},
   "outputs": [
    {
     "data": {
      "text/plain": [
       "False"
      ]
     },
     "execution_count": 65,
     "metadata": {},
     "output_type": "execute_result"
    }
   ],
   "source": [
    "x is y"
   ]
  },
  {
   "cell_type": "code",
   "execution_count": null,
   "id": "0c77ab18",
   "metadata": {},
   "outputs": [],
   "source": []
  },
  {
   "cell_type": "code",
   "execution_count": null,
   "id": "db2b0b3d",
   "metadata": {},
   "outputs": [],
   "source": []
  },
  {
   "cell_type": "code",
   "execution_count": 66,
   "id": "5d94f2c8",
   "metadata": {},
   "outputs": [],
   "source": []
  },
  {
   "cell_type": "code",
   "execution_count": 67,
   "id": "af930f0f",
   "metadata": {},
   "outputs": [],
   "source": [
    "s = \"1¹²²³⁴⁴\""
   ]
  },
  {
   "cell_type": "code",
   "execution_count": 71,
   "id": "326fd29d",
   "metadata": {},
   "outputs": [
    {
     "data": {
      "text/plain": [
       "(True, False, True)"
      ]
     },
     "execution_count": 71,
     "metadata": {},
     "output_type": "execute_result"
    }
   ],
   "source": [
    "s.isdigit(), s.isdecimal(), s.isnumeric()"
   ]
  },
  {
   "cell_type": "code",
   "execution_count": 74,
   "id": "215bf9f4",
   "metadata": {},
   "outputs": [
    {
     "data": {
      "text/plain": [
       "(1234567, True)"
      ]
     },
     "execution_count": 74,
     "metadata": {},
     "output_type": "execute_result"
    }
   ],
   "source": [
    "int(\"1234567\"), \"1234567\".isdecimal()"
   ]
  },
  {
   "cell_type": "code",
   "execution_count": 73,
   "id": "ba5ac318",
   "metadata": {},
   "outputs": [
    {
     "ename": "ValueError",
     "evalue": "invalid literal for int() with base 10: '1¹²²³⁴⁴'",
     "output_type": "error",
     "traceback": [
      "\u001b[0;31m---------------------------------------------------------------------------\u001b[0m",
      "\u001b[0;31mValueError\u001b[0m                                Traceback (most recent call last)",
      "Cell \u001b[0;32mIn[73], line 1\u001b[0m\n\u001b[0;32m----> 1\u001b[0m \u001b[38;5;28;43mint\u001b[39;49m\u001b[43m(\u001b[49m\u001b[43ms\u001b[49m\u001b[43m)\u001b[49m\n",
      "\u001b[0;31mValueError\u001b[0m: invalid literal for int() with base 10: '1¹²²³⁴⁴'"
     ]
    }
   ],
   "source": [
    "int(s)"
   ]
  },
  {
   "cell_type": "code",
   "execution_count": null,
   "id": "a1617cd1",
   "metadata": {},
   "outputs": [],
   "source": []
  },
  {
   "cell_type": "code",
   "execution_count": 82,
   "id": "b7848f27",
   "metadata": {},
   "outputs": [],
   "source": [
    "s = \"Шла Саша по шоссе 60.\""
   ]
  },
  {
   "cell_type": "code",
   "execution_count": 77,
   "id": "0f937f2d",
   "metadata": {},
   "outputs": [
    {
     "data": {
      "text/plain": [
       "(False, False)"
      ]
     },
     "execution_count": 77,
     "metadata": {},
     "output_type": "execute_result"
    }
   ],
   "source": [
    "s.isalpha(), s.isalnum()"
   ]
  },
  {
   "cell_type": "code",
   "execution_count": 79,
   "id": "9bf6f28f",
   "metadata": {},
   "outputs": [
    {
     "data": {
      "text/plain": [
       "True"
      ]
     },
     "execution_count": 79,
     "metadata": {},
     "output_type": "execute_result"
    }
   ],
   "source": [
    "s[:3] == \"Шла\""
   ]
  },
  {
   "cell_type": "code",
   "execution_count": 84,
   "id": "514c4952",
   "metadata": {},
   "outputs": [
    {
     "data": {
      "text/plain": [
       "(True, True, False)"
      ]
     },
     "execution_count": 84,
     "metadata": {},
     "output_type": "execute_result"
    }
   ],
   "source": [
    "s.startswith(\"Шла\"), s.endswith(\"60.\"), s.endswith(\"60\")"
   ]
  },
  {
   "cell_type": "code",
   "execution_count": 93,
   "id": "de3a2e81",
   "metadata": {},
   "outputs": [
    {
     "data": {
      "text/plain": [
       "('ШЛА САША ПО ШОССЕ 60.', False, True)"
      ]
     },
     "execution_count": 93,
     "metadata": {},
     "output_type": "execute_result"
    }
   ],
   "source": [
    "s.upper(), s.isupper(), s.upper().isupper()"
   ]
  },
  {
   "cell_type": "code",
   "execution_count": 94,
   "id": "c2e4574b",
   "metadata": {},
   "outputs": [
    {
     "data": {
      "text/plain": [
       "('шла саша по шоссе 60.', False, True)"
      ]
     },
     "execution_count": 94,
     "metadata": {},
     "output_type": "execute_result"
    }
   ],
   "source": [
    "s.lower(), s.islower(), s.lower().islower()"
   ]
  },
  {
   "cell_type": "code",
   "execution_count": 87,
   "id": "74ecd1d5",
   "metadata": {},
   "outputs": [
    {
     "data": {
      "text/plain": [
       "'шЛА сАША ПО ШОССЕ 60.'"
      ]
     },
     "execution_count": 87,
     "metadata": {},
     "output_type": "execute_result"
    }
   ],
   "source": [
    "s.swapcase()"
   ]
  },
  {
   "cell_type": "code",
   "execution_count": 90,
   "id": "e4b9e6ae",
   "metadata": {},
   "outputs": [
    {
     "data": {
      "text/plain": [
       "('Шла Саша По Шоссе 60.', False, True)"
      ]
     },
     "execution_count": 90,
     "metadata": {},
     "output_type": "execute_result"
    }
   ],
   "source": [
    "s.title(), s.istitle(), s.title().istitle()"
   ]
  },
  {
   "cell_type": "code",
   "execution_count": 92,
   "id": "f53e8caf",
   "metadata": {},
   "outputs": [
    {
     "data": {
      "text/plain": [
       "'Шла саша по шоссе 60.'"
      ]
     },
     "execution_count": 92,
     "metadata": {},
     "output_type": "execute_result"
    }
   ],
   "source": [
    "s.upper().capitalize()"
   ]
  },
  {
   "cell_type": "code",
   "execution_count": 95,
   "id": "ca3e2208",
   "metadata": {},
   "outputs": [
    {
     "data": {
      "text/plain": [
       "True"
      ]
     },
     "execution_count": 95,
     "metadata": {},
     "output_type": "execute_result"
    }
   ],
   "source": [
    "s.isprintable()"
   ]
  },
  {
   "cell_type": "code",
   "execution_count": 97,
   "id": "264c99a7",
   "metadata": {},
   "outputs": [
    {
     "data": {
      "text/plain": [
       "True"
      ]
     },
     "execution_count": 97,
     "metadata": {},
     "output_type": "execute_result"
    }
   ],
   "source": [
    "\"   \\t\\t\\n\\n\\n\\r\\r\\r\".isspace()"
   ]
  },
  {
   "cell_type": "code",
   "execution_count": 98,
   "id": "57ad4903",
   "metadata": {},
   "outputs": [
    {
     "data": {
      "text/plain": [
       "'Шла Саша по шоссе 60.'"
      ]
     },
     "execution_count": 98,
     "metadata": {},
     "output_type": "execute_result"
    }
   ],
   "source": [
    "s"
   ]
  },
  {
   "cell_type": "code",
   "execution_count": 100,
   "id": "3fdd8327",
   "metadata": {},
   "outputs": [
    {
     "data": {
      "text/plain": [
       "(2, 0)"
      ]
     },
     "execution_count": 100,
     "metadata": {},
     "output_type": "execute_result"
    }
   ],
   "source": [
    "s.count(\"о\"), s.count(\"W\")"
   ]
  },
  {
   "cell_type": "code",
   "execution_count": 103,
   "id": "86c81f39",
   "metadata": {},
   "outputs": [
    {
     "data": {
      "text/plain": [
       "(0, 12, -1)"
      ]
     },
     "execution_count": 103,
     "metadata": {},
     "output_type": "execute_result"
    }
   ],
   "source": [
    "s.find(\"Шла\"), s.find(\"шоссе\"), s.find(\"qwerty\")"
   ]
  },
  {
   "cell_type": "code",
   "execution_count": 105,
   "id": "48792bc7",
   "metadata": {},
   "outputs": [
    {
     "data": {
      "text/plain": [
       "(0, 12)"
      ]
     },
     "execution_count": 105,
     "metadata": {},
     "output_type": "execute_result"
    }
   ],
   "source": [
    "s.index(\"Шла\"), s.index(\"шоссе\")#, s.index(\"qwerty\")"
   ]
  },
  {
   "cell_type": "code",
   "execution_count": 106,
   "id": "e09a556e",
   "metadata": {},
   "outputs": [
    {
     "ename": "ValueError",
     "evalue": "substring not found",
     "output_type": "error",
     "traceback": [
      "\u001b[0;31m---------------------------------------------------------------------------\u001b[0m",
      "\u001b[0;31mValueError\u001b[0m                                Traceback (most recent call last)",
      "Cell \u001b[0;32mIn[106], line 1\u001b[0m\n\u001b[0;32m----> 1\u001b[0m \u001b[43ms\u001b[49m\u001b[38;5;241;43m.\u001b[39;49m\u001b[43mindex\u001b[49m\u001b[43m(\u001b[49m\u001b[38;5;124;43m\"\u001b[39;49m\u001b[38;5;124;43mqwerty\u001b[39;49m\u001b[38;5;124;43m\"\u001b[39;49m\u001b[43m)\u001b[49m\n",
      "\u001b[0;31mValueError\u001b[0m: substring not found"
     ]
    }
   ],
   "source": [
    "s.index(\"qwerty\")"
   ]
  },
  {
   "cell_type": "code",
   "execution_count": 108,
   "id": "b7afddad",
   "metadata": {},
   "outputs": [
    {
     "data": {
      "text/plain": [
       "(2, 1)"
      ]
     },
     "execution_count": 108,
     "metadata": {},
     "output_type": "execute_result"
    }
   ],
   "source": [
    "s.count(\"о\"), s.count(\"о\", 12), "
   ]
  },
  {
   "cell_type": "code",
   "execution_count": 111,
   "id": "b2231bb4",
   "metadata": {},
   "outputs": [
    {
     "data": {
      "text/plain": [
       "(10, 13)"
      ]
     },
     "execution_count": 111,
     "metadata": {},
     "output_type": "execute_result"
    }
   ],
   "source": [
    "s.find(\"о\"), s.rfind(\"о\")"
   ]
  },
  {
   "cell_type": "code",
   "execution_count": 112,
   "id": "e3ab0495",
   "metadata": {},
   "outputs": [
    {
     "data": {
      "text/plain": [
       "'Шла Саша по шоссе 60.'"
      ]
     },
     "execution_count": 112,
     "metadata": {},
     "output_type": "execute_result"
    }
   ],
   "source": [
    "s"
   ]
  },
  {
   "cell_type": "code",
   "execution_count": 113,
   "id": "ff9086c9",
   "metadata": {},
   "outputs": [
    {
     "data": {
      "text/plain": [
       "b'\\xd0\\xa8\\xd0\\xbb\\xd0\\xb0 \\xd0\\xa1\\xd0\\xb0\\xd1\\x88\\xd0\\xb0 \\xd0\\xbf\\xd0\\xbe \\xd1\\x88\\xd0\\xbe\\xd1\\x81\\xd1\\x81\\xd0\\xb5 60.'"
      ]
     },
     "execution_count": 113,
     "metadata": {},
     "output_type": "execute_result"
    }
   ],
   "source": [
    "s.encode()"
   ]
  },
  {
   "cell_type": "code",
   "execution_count": 114,
   "id": "190d8c3d",
   "metadata": {},
   "outputs": [
    {
     "data": {
      "text/plain": [
       "b'\\xd8\\xeb\\xe0 \\xd1\\xe0\\xf8\\xe0 \\xef\\xee \\xf8\\xee\\xf1\\xf1\\xe5 60.'"
      ]
     },
     "execution_count": 114,
     "metadata": {},
     "output_type": "execute_result"
    }
   ],
   "source": [
    "s.encode(\"cp1251\")"
   ]
  },
  {
   "cell_type": "code",
   "execution_count": 115,
   "id": "7c24c1f7",
   "metadata": {},
   "outputs": [
    {
     "ename": "UnicodeDecodeError",
     "evalue": "'utf-8' codec can't decode byte 0xd8 in position 0: invalid continuation byte",
     "output_type": "error",
     "traceback": [
      "\u001b[0;31m---------------------------------------------------------------------------\u001b[0m",
      "\u001b[0;31mUnicodeDecodeError\u001b[0m                        Traceback (most recent call last)",
      "Cell \u001b[0;32mIn[115], line 1\u001b[0m\n\u001b[0;32m----> 1\u001b[0m \u001b[43ms\u001b[49m\u001b[38;5;241;43m.\u001b[39;49m\u001b[43mencode\u001b[49m\u001b[43m(\u001b[49m\u001b[38;5;124;43m\"\u001b[39;49m\u001b[38;5;124;43mcp1251\u001b[39;49m\u001b[38;5;124;43m\"\u001b[39;49m\u001b[43m)\u001b[49m\u001b[38;5;241;43m.\u001b[39;49m\u001b[43mdecode\u001b[49m\u001b[43m(\u001b[49m\u001b[43m)\u001b[49m\n",
      "\u001b[0;31mUnicodeDecodeError\u001b[0m: 'utf-8' codec can't decode byte 0xd8 in position 0: invalid continuation byte"
     ]
    }
   ],
   "source": [
    "s.encode(\"cp1251\").decode()"
   ]
  },
  {
   "cell_type": "code",
   "execution_count": 116,
   "id": "25b5e517",
   "metadata": {},
   "outputs": [
    {
     "data": {
      "text/plain": [
       "'Шла Саша по шоссе 60.'"
      ]
     },
     "execution_count": 116,
     "metadata": {},
     "output_type": "execute_result"
    }
   ],
   "source": [
    "s.encode(\"cp1251\").decode(\"cp1251\")"
   ]
  },
  {
   "cell_type": "code",
   "execution_count": 117,
   "id": "c97a6819",
   "metadata": {},
   "outputs": [],
   "source": [
    "s = \"Шла    Саша \\n\\n\\n\\t по шоссе 60.\""
   ]
  },
  {
   "cell_type": "code",
   "execution_count": 118,
   "id": "1ff72249",
   "metadata": {},
   "outputs": [
    {
     "data": {
      "text/plain": [
       "['Шла', 'Саша', 'по', 'шоссе', '60.']"
      ]
     },
     "execution_count": 118,
     "metadata": {},
     "output_type": "execute_result"
    }
   ],
   "source": [
    "s.split()"
   ]
  },
  {
   "cell_type": "code",
   "execution_count": 119,
   "id": "543ed167",
   "metadata": {},
   "outputs": [
    {
     "data": {
      "text/plain": [
       "'Шла Саша по шоссе 60.'"
      ]
     },
     "execution_count": 119,
     "metadata": {},
     "output_type": "execute_result"
    }
   ],
   "source": [
    "\" \".join(s.split())"
   ]
  },
  {
   "cell_type": "code",
   "execution_count": 122,
   "id": "12421bcb",
   "metadata": {},
   "outputs": [
    {
     "data": {
      "text/plain": [
       "(['Шла    Саша \\n\\n\\n\\t п', ' ш', 'ссе 60.'],\n",
       " ['Шла    Саша \\n\\n\\n\\t п', ' шоссе 60.'],\n",
       " ['Шла    Саша \\n\\n\\n\\t п', ' ш', 'ссе 60.'],\n",
       " ['Шла    Саша \\n\\n\\n\\t по ш', 'ссе 60.'])"
      ]
     },
     "execution_count": 122,
     "metadata": {},
     "output_type": "execute_result"
    }
   ],
   "source": [
    "s.split(\"о\"), s.split(\"о\", 1), s.rsplit(\"о\"), s.rsplit(\"о\", 1)"
   ]
  },
  {
   "cell_type": "code",
   "execution_count": 123,
   "id": "53b8d876",
   "metadata": {},
   "outputs": [
    {
     "data": {
      "text/plain": [
       "'xxx.yy.com/path?q=1&d=12&count=qwerty'"
      ]
     },
     "execution_count": 123,
     "metadata": {},
     "output_type": "execute_result"
    }
   ],
   "source": [
    "\"xxx.yy.com/path?q=1&d=12&count=qwerty\""
   ]
  },
  {
   "cell_type": "code",
   "execution_count": 126,
   "id": "8ffc980f",
   "metadata": {},
   "outputs": [
    {
     "data": {
      "text/plain": [
       "(('Шла    Саша \\n\\n\\n\\t п', 'о', ' шоссе 60.'),\n",
       " ('', 'Шла', '    Саша \\n\\n\\n\\t по шоссе 60.'))"
      ]
     },
     "execution_count": 126,
     "metadata": {},
     "output_type": "execute_result"
    }
   ],
   "source": [
    "s.partition(\"о\"), s.partition(\"Шла\")"
   ]
  },
  {
   "cell_type": "code",
   "execution_count": 128,
   "id": "df63321f",
   "metadata": {},
   "outputs": [
    {
     "data": {
      "text/plain": [
       "('Шла    Саша \\n\\n\\n\\t по шоссе 60.', True)"
      ]
     },
     "execution_count": 128,
     "metadata": {},
     "output_type": "execute_result"
    }
   ],
   "source": [
    "\"\".join(s.partition(\"о\")), \"\".join(s.partition(\"о\")) == s"
   ]
  },
  {
   "cell_type": "code",
   "execution_count": 129,
   "id": "b2b4edbf",
   "metadata": {},
   "outputs": [
    {
     "data": {
      "text/plain": [
       "'    Саша \\n\\n\\n\\t по шоссе 60.'"
      ]
     },
     "execution_count": 129,
     "metadata": {},
     "output_type": "execute_result"
    }
   ],
   "source": [
    "s.removeprefix(\"Шла\")"
   ]
  },
  {
   "cell_type": "code",
   "execution_count": null,
   "id": "403b1594",
   "metadata": {},
   "outputs": [],
   "source": []
  },
  {
   "cell_type": "code",
   "execution_count": null,
   "id": "6f55d90b",
   "metadata": {},
   "outputs": [],
   "source": []
  },
  {
   "cell_type": "code",
   "execution_count": null,
   "id": "3cf671c7",
   "metadata": {},
   "outputs": [],
   "source": []
  },
  {
   "cell_type": "code",
   "execution_count": 146,
   "id": "722ad3aa",
   "metadata": {},
   "outputs": [],
   "source": [
    "class SpecialIterator:\n",
    "    def __init__(self, limit):\n",
    "        self.limit = limit\n",
    "        self.counter = 0\n",
    "        \n",
    "    def __iter__(self):\n",
    "        return self\n",
    "\n",
    "    def __next__(self):\n",
    "        if self.counter < self.limit:\n",
    "            self.counter += 1\n",
    "            return self.counter\n",
    "        else:\n",
    "            raise StopIteration\n",
    "\n",
    "            \n",
    "iter_obj = SpecialIterator(3)"
   ]
  },
  {
   "cell_type": "code",
   "execution_count": 132,
   "id": "af2cf32d",
   "metadata": {},
   "outputs": [
    {
     "data": {
      "text/plain": [
       "<__main__.SpecialIterator at 0x10f03fb50>"
      ]
     },
     "execution_count": 132,
     "metadata": {},
     "output_type": "execute_result"
    }
   ],
   "source": [
    "iter_obj"
   ]
  },
  {
   "cell_type": "code",
   "execution_count": 144,
   "id": "150c7a85",
   "metadata": {},
   "outputs": [
    {
     "data": {
      "text/plain": [
       "(1, 2, 3)"
      ]
     },
     "execution_count": 144,
     "metadata": {},
     "output_type": "execute_result"
    }
   ],
   "source": [
    "next(iter_obj), next(iter_obj), next(iter_obj)"
   ]
  },
  {
   "cell_type": "code",
   "execution_count": 145,
   "id": "30c07f17",
   "metadata": {},
   "outputs": [
    {
     "ename": "StopIteration",
     "evalue": "",
     "output_type": "error",
     "traceback": [
      "\u001b[0;31m---------------------------------------------------------------------------\u001b[0m",
      "\u001b[0;31mStopIteration\u001b[0m                             Traceback (most recent call last)",
      "Cell \u001b[0;32mIn[145], line 1\u001b[0m\n\u001b[0;32m----> 1\u001b[0m \u001b[38;5;28;43mnext\u001b[39;49m\u001b[43m(\u001b[49m\u001b[43miter_obj\u001b[49m\u001b[43m)\u001b[49m\n",
      "Cell \u001b[0;32mIn[143], line 14\u001b[0m, in \u001b[0;36mSpecialIterator.__next__\u001b[0;34m(self)\u001b[0m\n\u001b[1;32m     12\u001b[0m     \u001b[38;5;28;01mreturn\u001b[39;00m \u001b[38;5;28mself\u001b[39m\u001b[38;5;241m.\u001b[39mcounter\n\u001b[1;32m     13\u001b[0m \u001b[38;5;28;01melse\u001b[39;00m:\n\u001b[0;32m---> 14\u001b[0m     \u001b[38;5;28;01mraise\u001b[39;00m \u001b[38;5;167;01mStopIteration\u001b[39;00m\n",
      "\u001b[0;31mStopIteration\u001b[0m: "
     ]
    }
   ],
   "source": [
    "next(iter_obj)"
   ]
  },
  {
   "cell_type": "code",
   "execution_count": 140,
   "id": "fa1b9ccc",
   "metadata": {},
   "outputs": [
    {
     "ename": "TypeError",
     "evalue": "'SpecialIterator' object is not iterable",
     "output_type": "error",
     "traceback": [
      "\u001b[0;31m---------------------------------------------------------------------------\u001b[0m",
      "\u001b[0;31mTypeError\u001b[0m                                 Traceback (most recent call last)",
      "Cell \u001b[0;32mIn[140], line 1\u001b[0m\n\u001b[0;32m----> 1\u001b[0m \u001b[38;5;28;01mfor\u001b[39;00m i \u001b[38;5;129;01min\u001b[39;00m iter_obj:\n\u001b[1;32m      2\u001b[0m     \u001b[38;5;28mprint\u001b[39m(i)\n",
      "\u001b[0;31mTypeError\u001b[0m: 'SpecialIterator' object is not iterable"
     ]
    }
   ],
   "source": [
    "for i in iter_obj:\n",
    "    print(i)"
   ]
  },
  {
   "cell_type": "code",
   "execution_count": 147,
   "id": "31f2f640",
   "metadata": {},
   "outputs": [
    {
     "data": {
      "text/plain": [
       "<__main__.SpecialIterator at 0x10ee85a80>"
      ]
     },
     "execution_count": 147,
     "metadata": {},
     "output_type": "execute_result"
    }
   ],
   "source": [
    "iter(iter_obj)"
   ]
  },
  {
   "cell_type": "code",
   "execution_count": 148,
   "id": "c53e3eb2",
   "metadata": {},
   "outputs": [
    {
     "name": "stdout",
     "output_type": "stream",
     "text": [
      "1\n",
      "2\n",
      "3\n"
     ]
    }
   ],
   "source": [
    "for i in iter_obj:\n",
    "    print(i)"
   ]
  },
  {
   "cell_type": "code",
   "execution_count": 153,
   "id": "ae33cd2a",
   "metadata": {},
   "outputs": [],
   "source": [
    "for i in iter_obj:\n",
    "    print(i)"
   ]
  },
  {
   "cell_type": "code",
   "execution_count": 150,
   "id": "c5668c08",
   "metadata": {},
   "outputs": [
    {
     "name": "stdout",
     "output_type": "stream",
     "text": [
      "1\n",
      "2\n",
      "3\n",
      "4\n",
      "5\n"
     ]
    }
   ],
   "source": [
    "class SpecialIteratorNoNext:\n",
    "    def __init__(self, limit):\n",
    "        self.limit = limit\n",
    "        self.counter = 0\n",
    "\n",
    "    def __iter__(self):\n",
    "        return iter([1, 2, 3, 4, 5])\n",
    "\n",
    "\n",
    "for i in SpecialIteratorNoNext(10):\n",
    "    print(i)"
   ]
  },
  {
   "cell_type": "code",
   "execution_count": null,
   "id": "6be89a32",
   "metadata": {},
   "outputs": [],
   "source": []
  },
  {
   "cell_type": "code",
   "execution_count": 152,
   "id": "ea9d2e85",
   "metadata": {},
   "outputs": [
    {
     "data": {
      "text/plain": [
       "[(0, 10),\n",
       " (1, 11),\n",
       " (2, 12),\n",
       " (3, 13),\n",
       " (4, 14),\n",
       " (5, 15),\n",
       " (6, 16),\n",
       " (7, 17),\n",
       " (8, 18),\n",
       " (9, 19)]"
      ]
     },
     "execution_count": 152,
     "metadata": {},
     "output_type": "execute_result"
    }
   ],
   "source": [
    "list(zip(range(10), range(10, 20)))"
   ]
  },
  {
   "cell_type": "code",
   "execution_count": 156,
   "id": "b1e816af",
   "metadata": {},
   "outputs": [
    {
     "name": "stdout",
     "output_type": "stream",
     "text": [
      "[0, 1, 2, 3, 4, 5, 6, 7, 8, 9]\n"
     ]
    }
   ],
   "source": [
    "n = iter(range(10))\n",
    "print(list(n))"
   ]
  },
  {
   "cell_type": "code",
   "execution_count": 157,
   "id": "17a4e0d1",
   "metadata": {},
   "outputs": [
    {
     "ename": "StopIteration",
     "evalue": "",
     "output_type": "error",
     "traceback": [
      "\u001b[0;31m---------------------------------------------------------------------------\u001b[0m",
      "\u001b[0;31mStopIteration\u001b[0m                             Traceback (most recent call last)",
      "Cell \u001b[0;32mIn[157], line 1\u001b[0m\n\u001b[0;32m----> 1\u001b[0m \u001b[38;5;28;43mnext\u001b[39;49m\u001b[43m(\u001b[49m\u001b[43mn\u001b[49m\u001b[43m)\u001b[49m\n",
      "\u001b[0;31mStopIteration\u001b[0m: "
     ]
    }
   ],
   "source": [
    "next(n)"
   ]
  },
  {
   "cell_type": "code",
   "execution_count": 163,
   "id": "b8f30727",
   "metadata": {},
   "outputs": [
    {
     "data": {
      "text/plain": [
       "[(0, 1), (2, 3), (4, 5), (6, 7), (8, 9)]"
      ]
     },
     "execution_count": 163,
     "metadata": {},
     "output_type": "execute_result"
    }
   ],
   "source": [
    "n = iter(range(10))\n",
    "\n",
    "list(zip(n, n))"
   ]
  },
  {
   "cell_type": "code",
   "execution_count": 162,
   "id": "7a678029",
   "metadata": {},
   "outputs": [
    {
     "data": {
      "text/plain": [
       "[(0, 1), (2, 9), (4, 25), (6, 49), (8, 81)]"
      ]
     },
     "execution_count": 162,
     "metadata": {},
     "output_type": "execute_result"
    }
   ],
   "source": [
    "n = iter(range(10))\n",
    "\n",
    "list(zip(n, map(lambda x: x ** 2, n)))"
   ]
  },
  {
   "cell_type": "code",
   "execution_count": null,
   "id": "b5a23754",
   "metadata": {},
   "outputs": [],
   "source": []
  }
 ],
 "metadata": {
  "kernelspec": {
   "display_name": "Python 3 (ipykernel)",
   "language": "python",
   "name": "python3"
  },
  "language_info": {
   "codemirror_mode": {
    "name": "ipython",
    "version": 3
   },
   "file_extension": ".py",
   "mimetype": "text/x-python",
   "name": "python",
   "nbconvert_exporter": "python",
   "pygments_lexer": "ipython3",
   "version": "3.10.2"
  }
 },
 "nbformat": 4,
 "nbformat_minor": 5
}
