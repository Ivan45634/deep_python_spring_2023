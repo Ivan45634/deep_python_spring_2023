{
 "cells": [
  {
   "cell_type": "code",
   "execution_count": 25,
   "id": "008b9b3b",
   "metadata": {},
   "outputs": [],
   "source": [
    "class A: pass\n",
    "class B: pass\n",
    "class C(B): pass\n",
    "class D(A, C): pass"
   ]
  },
  {
   "cell_type": "code",
   "execution_count": 26,
   "id": "928f9b99",
   "metadata": {},
   "outputs": [
    {
     "data": {
      "text/plain": [
       "[__main__.D, __main__.A, __main__.C, __main__.B, object]"
      ]
     },
     "execution_count": 26,
     "metadata": {},
     "output_type": "execute_result"
    }
   ],
   "source": [
    "D.mro()"
   ]
  },
  {
   "cell_type": "code",
   "execution_count": null,
   "id": "48030dab",
   "metadata": {},
   "outputs": [],
   "source": []
  },
  {
   "cell_type": "code",
   "execution_count": 31,
   "id": "50055ddb",
   "metadata": {},
   "outputs": [
    {
     "name": "stdout",
     "output_type": "stream",
     "text": [
      "init with 10\n",
      "init with 20\n",
      "True 20 20\n"
     ]
    }
   ],
   "source": [
    "class Singleton:\n",
    "    _instance = None\n",
    "\n",
    "    def __new__(cls, *args, **kwargs):\n",
    "        if cls._instance is None:\n",
    "            cls._instance = super().__new__(cls)\n",
    "        return cls._instance\n",
    "    \n",
    "#     @classmethod\n",
    "#     def instance(cls):\n",
    "#         ...\n",
    "\n",
    "\n",
    "class Chair(Singleton):\n",
    "    def __init__(self, val):\n",
    "        print(f\"init with {val}\")\n",
    "        self.val = val\n",
    "       \n",
    "    \n",
    "c1 = Chair(10)\n",
    "c2 = Chair(20)\n",
    "\n",
    "\n",
    "print(c1 is c2, c1.val, c2.val)"
   ]
  },
  {
   "cell_type": "code",
   "execution_count": 37,
   "id": "2914c6c0",
   "metadata": {},
   "outputs": [
    {
     "name": "stdout",
     "output_type": "stream",
     "text": [
      "init with db\n",
      "DEL\n"
     ]
    }
   ],
   "source": [
    "class Connector:\n",
    "    def __init__(self, db_name):\n",
    "        self.conn = Chair(db_name)\n",
    "    \n",
    "    def __del__(self):\n",
    "        #self.conn.close()\n",
    "        print(\"DEL\")\n",
    "\n",
    "db_conn = Connector(\"db\")\n",
    "db_conn1 = db_conn\n",
    "\n",
    "del db_conn\n",
    "del db_conn1"
   ]
  },
  {
   "cell_type": "code",
   "execution_count": null,
   "id": "c2161573",
   "metadata": {},
   "outputs": [],
   "source": []
  },
  {
   "cell_type": "code",
   "execution_count": 39,
   "id": "90ceae2a",
   "metadata": {},
   "outputs": [
    {
     "name": "stdout",
     "output_type": "stream",
     "text": [
      "locals()={'self': <__main__.Attr object at 0x10b0b10f0>, 'owner': <class '__main__.A'>, 'name': 'x'}\n"
     ]
    }
   ],
   "source": [
    "class Attr:\n",
    "    def __set_name__(self, owner, name):\n",
    "        print(f\"{locals()=}\")\n",
    "        self.name = name\n",
    "        \n",
    "\n",
    "class A:\n",
    "    x = Attr()  # Automatically calls: x.__set_name__(A, \"x\")\n",
    "\n",
    "    \n",
    "a = A()"
   ]
  },
  {
   "cell_type": "code",
   "execution_count": 40,
   "id": "607db741",
   "metadata": {},
   "outputs": [
    {
     "data": {
      "text/plain": [
       "'x'"
      ]
     },
     "execution_count": 40,
     "metadata": {},
     "output_type": "execute_result"
    }
   ],
   "source": [
    "a.x.name"
   ]
  },
  {
   "cell_type": "code",
   "execution_count": null,
   "id": "4508b75e",
   "metadata": {},
   "outputs": [],
   "source": []
  },
  {
   "cell_type": "code",
   "execution_count": 56,
   "id": "54e4b458",
   "metadata": {},
   "outputs": [
    {
     "name": "stdout",
     "output_type": "stream",
     "text": [
      "__setattr__ name='val', val=42\n"
     ]
    }
   ],
   "source": [
    "class AttrAccess:\n",
    "    name = \"cls_AttrAccess\"\n",
    "\n",
    "    def __init__(self, val):\n",
    "        self.val = val\n",
    "\n",
    "    def __getattribute__(self, name):\n",
    "        print(f\"__getattribute__ {name=}\")\n",
    "        return super().__getattribute__(name)\n",
    "        \n",
    "    def __getattr__(self, name):\n",
    "        print(f\"__getattr__ {name=}\")\n",
    "        raise AttributeError(\"no attr {name}\")\n",
    "#         return \"no_attr_but_default\"\n",
    "        \n",
    "        #return super().__getattr__(name)\n",
    "        \n",
    "    def __setattr__(self, name, val):\n",
    "        print(f\"__setattr__ {name=}, {val=}\")\n",
    "        return super().__setattr__(name, val)\n",
    "    \n",
    "    def __delattr__(self, name):\n",
    "        print(f\"__delattr__ {name=}\")\n",
    "        return super().__delattr__(name)\n",
    "    \n",
    "aa = AttrAccess(42)"
   ]
  },
  {
   "cell_type": "code",
   "execution_count": 47,
   "id": "c22228c9",
   "metadata": {},
   "outputs": [
    {
     "name": "stdout",
     "output_type": "stream",
     "text": [
      "__getattribute__ name='val'\n"
     ]
    },
    {
     "data": {
      "text/plain": [
       "42"
      ]
     },
     "execution_count": 47,
     "metadata": {},
     "output_type": "execute_result"
    }
   ],
   "source": [
    "aa.val"
   ]
  },
  {
   "cell_type": "code",
   "execution_count": 48,
   "id": "dbba61c5",
   "metadata": {},
   "outputs": [
    {
     "name": "stdout",
     "output_type": "stream",
     "text": [
      "__setattr__ name='new_val', val=99\n"
     ]
    }
   ],
   "source": [
    "aa.new_val = 99"
   ]
  },
  {
   "cell_type": "code",
   "execution_count": 49,
   "id": "9a65afb8",
   "metadata": {},
   "outputs": [
    {
     "name": "stdout",
     "output_type": "stream",
     "text": [
      "__getattribute__ name='new_val'\n"
     ]
    },
    {
     "data": {
      "text/plain": [
       "99"
      ]
     },
     "execution_count": 49,
     "metadata": {},
     "output_type": "execute_result"
    }
   ],
   "source": [
    "aa.new_val"
   ]
  },
  {
   "cell_type": "code",
   "execution_count": 50,
   "id": "74546003",
   "metadata": {},
   "outputs": [
    {
     "name": "stdout",
     "output_type": "stream",
     "text": [
      "__delattr__ name='new_val'\n"
     ]
    }
   ],
   "source": [
    "del aa.new_val"
   ]
  },
  {
   "cell_type": "code",
   "execution_count": 57,
   "id": "4ee65499",
   "metadata": {},
   "outputs": [
    {
     "name": "stdout",
     "output_type": "stream",
     "text": [
      "__getattribute__ name='new_name'\n",
      "__getattr__ name='new_name'\n"
     ]
    },
    {
     "ename": "AttributeError",
     "evalue": "no attr {name}",
     "output_type": "error",
     "traceback": [
      "\u001b[0;31m---------------------------------------------------------------------------\u001b[0m",
      "\u001b[0;31mAttributeError\u001b[0m                            Traceback (most recent call last)",
      "Cell \u001b[0;32mIn[57], line 1\u001b[0m\n\u001b[0;32m----> 1\u001b[0m \u001b[43maa\u001b[49m\u001b[38;5;241;43m.\u001b[39;49m\u001b[43mnew_name\u001b[49m\n",
      "Cell \u001b[0;32mIn[56], line 13\u001b[0m, in \u001b[0;36mAttrAccess.__getattr__\u001b[0;34m(self, name)\u001b[0m\n\u001b[1;32m     11\u001b[0m \u001b[38;5;28;01mdef\u001b[39;00m \u001b[38;5;21m__getattr__\u001b[39m(\u001b[38;5;28mself\u001b[39m, name):\n\u001b[1;32m     12\u001b[0m     \u001b[38;5;28mprint\u001b[39m(\u001b[38;5;124mf\u001b[39m\u001b[38;5;124m\"\u001b[39m\u001b[38;5;124m__getattr__ \u001b[39m\u001b[38;5;132;01m{\u001b[39;00mname\u001b[38;5;132;01m=}\u001b[39;00m\u001b[38;5;124m\"\u001b[39m)\n\u001b[0;32m---> 13\u001b[0m     \u001b[38;5;28;01mraise\u001b[39;00m \u001b[38;5;167;01mAttributeError\u001b[39;00m(\u001b[38;5;124m\"\u001b[39m\u001b[38;5;124mno attr \u001b[39m\u001b[38;5;132;01m{name}\u001b[39;00m\u001b[38;5;124m\"\u001b[39m)\n",
      "\u001b[0;31mAttributeError\u001b[0m: no attr {name}"
     ]
    }
   ],
   "source": [
    "aa.new_name"
   ]
  },
  {
   "cell_type": "code",
   "execution_count": 58,
   "id": "c0b40256",
   "metadata": {},
   "outputs": [
    {
     "name": "stdout",
     "output_type": "stream",
     "text": [
      "__getattribute__ name='name'\n"
     ]
    },
    {
     "data": {
      "text/plain": [
       "'cls_AttrAccess'"
      ]
     },
     "execution_count": 58,
     "metadata": {},
     "output_type": "execute_result"
    }
   ],
   "source": [
    "aa.name"
   ]
  },
  {
   "cell_type": "code",
   "execution_count": 59,
   "id": "7d66a17c",
   "metadata": {},
   "outputs": [
    {
     "data": {
      "text/plain": [
       "'cls_AttrAccess'"
      ]
     },
     "execution_count": 59,
     "metadata": {},
     "output_type": "execute_result"
    }
   ],
   "source": [
    "AttrAccess.name"
   ]
  },
  {
   "cell_type": "code",
   "execution_count": null,
   "id": "8ee8e066",
   "metadata": {},
   "outputs": [],
   "source": []
  },
  {
   "cell_type": "code",
   "execution_count": null,
   "id": "d6c8a4b8",
   "metadata": {},
   "outputs": [],
   "source": []
  },
  {
   "cell_type": "code",
   "execution_count": 107,
   "id": "c2aa29d5",
   "metadata": {},
   "outputs": [
    {
     "name": "stdout",
     "output_type": "stream",
     "text": [
      "IntField __init__\n",
      "IntField __init__\n"
     ]
    }
   ],
   "source": [
    "class IntegerField:\n",
    "    \n",
    "    def __init__(self):\n",
    "        print(f\"IntField __init__\")\n",
    "        self._instance_attr_name = \"_integer_field\"\n",
    "\n",
    "    def __get__(self, obj, objtype):\n",
    "        print(f\"get {obj} cls={objtype}\")\n",
    "        \n",
    "        if obj is None:\n",
    "            return\n",
    "        \n",
    "        return getattr(obj, self._instance_attr_name)\n",
    "\n",
    "    def __set__(self, obj, val):\n",
    "        print(f\"set {val} for {obj}\")\n",
    "        \n",
    "        if obj is None:\n",
    "            return\n",
    "        \n",
    "        return setattr(obj, self._instance_attr_name, val)\n",
    "\n",
    "    def __delete__(self, obj):\n",
    "        print(f\"delete from {obj}\")\n",
    "        \n",
    "        if obj is None:\n",
    "            return\n",
    "\n",
    "        return delattr(obj, self._instance_attr_name)\n",
    "\n",
    "\n",
    "class TableUser:\n",
    "    age = IntegerField()\n",
    "    birth_year = IntegerField()\n",
    "    \n",
    "    def __init__(self, age, year):\n",
    "        self.age = age\n",
    "        self.birth_year = year"
   ]
  },
  {
   "cell_type": "code",
   "execution_count": 92,
   "id": "86f82f0c",
   "metadata": {},
   "outputs": [
    {
     "name": "stdout",
     "output_type": "stream",
     "text": [
      "get None cls=<class '__main__.TableUser'>\n"
     ]
    }
   ],
   "source": [
    "TableUser.age"
   ]
  },
  {
   "cell_type": "code",
   "execution_count": 94,
   "id": "266c623a",
   "metadata": {},
   "outputs": [
    {
     "name": "stdout",
     "output_type": "stream",
     "text": [
      "set 42 for <__main__.TableUser object at 0x10b147c10>\n"
     ]
    }
   ],
   "source": [
    "user = TableUser(42)"
   ]
  },
  {
   "cell_type": "code",
   "execution_count": 95,
   "id": "f5939a88",
   "metadata": {},
   "outputs": [
    {
     "name": "stdout",
     "output_type": "stream",
     "text": [
      "get <__main__.TableUser object at 0x10b147c10> cls=<class '__main__.TableUser'>\n"
     ]
    },
    {
     "data": {
      "text/plain": [
       "42"
      ]
     },
     "execution_count": 95,
     "metadata": {},
     "output_type": "execute_result"
    }
   ],
   "source": [
    "user.age"
   ]
  },
  {
   "cell_type": "code",
   "execution_count": 99,
   "id": "92fe2948",
   "metadata": {},
   "outputs": [
    {
     "data": {
      "text/plain": [
       "{'_integer_field': 99}"
      ]
     },
     "execution_count": 99,
     "metadata": {},
     "output_type": "execute_result"
    }
   ],
   "source": [
    "user.__dict__"
   ]
  },
  {
   "cell_type": "code",
   "execution_count": null,
   "id": "08e84c33",
   "metadata": {},
   "outputs": [],
   "source": []
  },
  {
   "cell_type": "code",
   "execution_count": 97,
   "id": "f778a3f7",
   "metadata": {},
   "outputs": [
    {
     "name": "stdout",
     "output_type": "stream",
     "text": [
      "set 99 for <__main__.TableUser object at 0x10b147c10>\n"
     ]
    }
   ],
   "source": [
    "user.age = 99"
   ]
  },
  {
   "cell_type": "code",
   "execution_count": 98,
   "id": "1fd00f00",
   "metadata": {},
   "outputs": [
    {
     "name": "stdout",
     "output_type": "stream",
     "text": [
      "get <__main__.TableUser object at 0x10b147c10> cls=<class '__main__.TableUser'>\n"
     ]
    },
    {
     "data": {
      "text/plain": [
       "99"
      ]
     },
     "execution_count": 98,
     "metadata": {},
     "output_type": "execute_result"
    }
   ],
   "source": [
    "user.age"
   ]
  },
  {
   "cell_type": "code",
   "execution_count": null,
   "id": "811d737f",
   "metadata": {},
   "outputs": [],
   "source": []
  },
  {
   "cell_type": "code",
   "execution_count": 101,
   "id": "ad79a447",
   "metadata": {},
   "outputs": [
    {
     "name": "stdout",
     "output_type": "stream",
     "text": [
      "set 34 for <__main__.TableUser object at 0x10b1476d0>\n",
      "get <__main__.TableUser object at 0x10b1476d0> cls=<class '__main__.TableUser'>\n"
     ]
    },
    {
     "data": {
      "text/plain": [
       "34"
      ]
     },
     "execution_count": 101,
     "metadata": {},
     "output_type": "execute_result"
    }
   ],
   "source": [
    "user2 = TableUser(34)\n",
    "user2.age"
   ]
  },
  {
   "cell_type": "code",
   "execution_count": 102,
   "id": "a0ce7dfe",
   "metadata": {},
   "outputs": [
    {
     "data": {
      "text/plain": [
       "({'_integer_field': 34},\n",
       " {'_integer_field': 99},\n",
       " mappingproxy({'__module__': '__main__',\n",
       "               'age': <__main__.IntegerField at 0x10b146b00>,\n",
       "               '__init__': <function __main__.TableUser.__init__(self, age)>,\n",
       "               '__dict__': <attribute '__dict__' of 'TableUser' objects>,\n",
       "               '__weakref__': <attribute '__weakref__' of 'TableUser' objects>,\n",
       "               '__doc__': None}))"
      ]
     },
     "execution_count": 102,
     "metadata": {},
     "output_type": "execute_result"
    }
   ],
   "source": [
    "user2.__dict__, user.__dict__, TableUser.__dict__"
   ]
  },
  {
   "cell_type": "code",
   "execution_count": 86,
   "id": "985d1bce",
   "metadata": {},
   "outputs": [
    {
     "data": {
      "text/plain": [
       "<bound method IntegerField.__get__ of <__main__.IntegerField object at 0x10acb7df0>>"
      ]
     },
     "execution_count": 86,
     "metadata": {},
     "output_type": "execute_result"
    }
   ],
   "source": [
    "TableUser.__dict__[\"age\"].__get__"
   ]
  },
  {
   "cell_type": "code",
   "execution_count": 103,
   "id": "d65a94d3",
   "metadata": {},
   "outputs": [
    {
     "name": "stdout",
     "output_type": "stream",
     "text": [
      "get <__main__.TableUser object at 0x10b147c10> cls=<class '__main__.TableUser'>\n",
      "get <__main__.TableUser object at 0x10b1476d0> cls=<class '__main__.TableUser'>\n"
     ]
    },
    {
     "data": {
      "text/plain": [
       "(99, 34)"
      ]
     },
     "execution_count": 103,
     "metadata": {},
     "output_type": "execute_result"
    }
   ],
   "source": [
    "user.age, user2.age"
   ]
  },
  {
   "cell_type": "code",
   "execution_count": null,
   "id": "e27c4874",
   "metadata": {},
   "outputs": [],
   "source": []
  },
  {
   "cell_type": "code",
   "execution_count": 108,
   "id": "68687d64",
   "metadata": {},
   "outputs": [
    {
     "name": "stdout",
     "output_type": "stream",
     "text": [
      "set 42 for <__main__.TableUser object at 0x10b1473a0>\n",
      "set 1896 for <__main__.TableUser object at 0x10b1473a0>\n"
     ]
    }
   ],
   "source": [
    "user = TableUser(42, 1896)"
   ]
  },
  {
   "cell_type": "code",
   "execution_count": 111,
   "id": "e4e61106",
   "metadata": {},
   "outputs": [
    {
     "name": "stdout",
     "output_type": "stream",
     "text": [
      "get <__main__.TableUser object at 0x10b1473a0> cls=<class '__main__.TableUser'>\n",
      "get <__main__.TableUser object at 0x10b1473a0> cls=<class '__main__.TableUser'>\n"
     ]
    },
    {
     "data": {
      "text/plain": [
       "(1896, 1896, {'_integer_field': 1896})"
      ]
     },
     "execution_count": 111,
     "metadata": {},
     "output_type": "execute_result"
    }
   ],
   "source": [
    "user.age, user.birth_year, user.__dict__"
   ]
  },
  {
   "cell_type": "code",
   "execution_count": null,
   "id": "e97f78b9",
   "metadata": {},
   "outputs": [],
   "source": []
  },
  {
   "cell_type": "code",
   "execution_count": 123,
   "id": "1776fea0",
   "metadata": {},
   "outputs": [
    {
     "name": "stdout",
     "output_type": "stream",
     "text": [
      "IntField set_name _int_field_age\n",
      "IntField set_name _int_field_birth_year\n"
     ]
    }
   ],
   "source": [
    "class BadIntegerError(Exception):\n",
    "    pass\n",
    "\n",
    "\n",
    "class IntegerField:\n",
    "    \n",
    "    def __set_name__(self, owner, name):\n",
    "        self._instance_attr_name = f\"_int_field_{name}\"\n",
    "        print(f\"IntField set_name {self._instance_attr_name}\")\n",
    "\n",
    "    def __get__(self, obj, objtype):\n",
    "        print(f\"get {obj} cls={objtype}\")\n",
    "        \n",
    "        if obj is None:\n",
    "            return\n",
    "        \n",
    "        return getattr(obj, self._instance_attr_name)\n",
    "\n",
    "    def __set__(self, obj, val):\n",
    "        print(f\"set {val} for {obj}\")\n",
    "        \n",
    "        if obj is None:\n",
    "            return\n",
    "        \n",
    "        if not isinstance(val, int):\n",
    "            raise BadIntegerError(f\"{val=} is not an integer!\")\n",
    "        \n",
    "        return setattr(obj, self._instance_attr_name, val)\n",
    "\n",
    "    def __delete__(self, obj):\n",
    "        print(f\"delete from {obj}\")\n",
    "        \n",
    "        if obj is None:\n",
    "            return\n",
    "\n",
    "        return delattr(obj, self._instance_attr_name)\n",
    "\n",
    "\n",
    "class TableUser:\n",
    "    age = IntegerField()\n",
    "    birth_year = IntegerField()\n",
    "    \n",
    "    def __init__(self, age, year):\n",
    "        self.age = age\n",
    "        self.birth_year = year"
   ]
  },
  {
   "cell_type": "code",
   "execution_count": 124,
   "id": "df5f08a2",
   "metadata": {},
   "outputs": [
    {
     "name": "stdout",
     "output_type": "stream",
     "text": [
      "set 42 for <__main__.TableUser object at 0x10aa39090>\n",
      "set 1896 for <__main__.TableUser object at 0x10aa39090>\n"
     ]
    }
   ],
   "source": [
    "user = TableUser(42, 1896)"
   ]
  },
  {
   "cell_type": "code",
   "execution_count": 114,
   "id": "77f025c1",
   "metadata": {},
   "outputs": [
    {
     "name": "stdout",
     "output_type": "stream",
     "text": [
      "get <__main__.TableUser object at 0x10ae82350> cls=<class '__main__.TableUser'>\n",
      "get <__main__.TableUser object at 0x10ae82350> cls=<class '__main__.TableUser'>\n"
     ]
    },
    {
     "data": {
      "text/plain": [
       "(42, 1896, {'_int_field_age': 42, '_int_field_birth_year': 1896})"
      ]
     },
     "execution_count": 114,
     "metadata": {},
     "output_type": "execute_result"
    }
   ],
   "source": [
    "user.age, user.birth_year, user.__dict__"
   ]
  },
  {
   "cell_type": "code",
   "execution_count": 115,
   "id": "e1637cb9",
   "metadata": {},
   "outputs": [
    {
     "name": "stdout",
     "output_type": "stream",
     "text": [
      "delete from <__main__.TableUser object at 0x10ae82350>\n"
     ]
    }
   ],
   "source": [
    "del user.age"
   ]
  },
  {
   "cell_type": "code",
   "execution_count": 116,
   "id": "f0123268",
   "metadata": {},
   "outputs": [
    {
     "name": "stdout",
     "output_type": "stream",
     "text": [
      "get <__main__.TableUser object at 0x10ae82350> cls=<class '__main__.TableUser'>\n"
     ]
    },
    {
     "ename": "AttributeError",
     "evalue": "'TableUser' object has no attribute '_int_field_age'",
     "output_type": "error",
     "traceback": [
      "\u001b[0;31m---------------------------------------------------------------------------\u001b[0m",
      "\u001b[0;31mAttributeError\u001b[0m                            Traceback (most recent call last)",
      "Cell \u001b[0;32mIn[116], line 1\u001b[0m\n\u001b[0;32m----> 1\u001b[0m \u001b[43muser\u001b[49m\u001b[38;5;241;43m.\u001b[39;49m\u001b[43mage\u001b[49m\n",
      "Cell \u001b[0;32mIn[112], line 13\u001b[0m, in \u001b[0;36mIntegerField.__get__\u001b[0;34m(self, obj, objtype)\u001b[0m\n\u001b[1;32m     10\u001b[0m \u001b[38;5;28;01mif\u001b[39;00m obj \u001b[38;5;129;01mis\u001b[39;00m \u001b[38;5;28;01mNone\u001b[39;00m:\n\u001b[1;32m     11\u001b[0m     \u001b[38;5;28;01mreturn\u001b[39;00m\n\u001b[0;32m---> 13\u001b[0m \u001b[38;5;28;01mreturn\u001b[39;00m \u001b[38;5;28;43mgetattr\u001b[39;49m\u001b[43m(\u001b[49m\u001b[43mobj\u001b[49m\u001b[43m,\u001b[49m\u001b[43m \u001b[49m\u001b[38;5;28;43mself\u001b[39;49m\u001b[38;5;241;43m.\u001b[39;49m\u001b[43m_instance_attr_name\u001b[49m\u001b[43m)\u001b[49m\n",
      "\u001b[0;31mAttributeError\u001b[0m: 'TableUser' object has no attribute '_int_field_age'"
     ]
    }
   ],
   "source": [
    "user.age"
   ]
  },
  {
   "cell_type": "code",
   "execution_count": 117,
   "id": "b5eb4a9d",
   "metadata": {},
   "outputs": [
    {
     "data": {
      "text/plain": [
       "{'_int_field_birth_year': 1896}"
      ]
     },
     "execution_count": 117,
     "metadata": {},
     "output_type": "execute_result"
    }
   ],
   "source": [
    "user.__dict__"
   ]
  },
  {
   "cell_type": "code",
   "execution_count": 119,
   "id": "3586fd0b",
   "metadata": {},
   "outputs": [
    {
     "name": "stdout",
     "output_type": "stream",
     "text": [
      "set 1 for <__main__.TableUser object at 0x10ae82350>\n"
     ]
    }
   ],
   "source": [
    "user.age = 1"
   ]
  },
  {
   "cell_type": "code",
   "execution_count": 120,
   "id": "d0f221ee",
   "metadata": {},
   "outputs": [
    {
     "data": {
      "text/plain": [
       "{'_int_field_birth_year': 1896, '_int_field_age': 1}"
      ]
     },
     "execution_count": 120,
     "metadata": {},
     "output_type": "execute_result"
    }
   ],
   "source": [
    "user.__dict__"
   ]
  },
  {
   "cell_type": "code",
   "execution_count": 121,
   "id": "b35e156b",
   "metadata": {},
   "outputs": [],
   "source": [
    "user.__dict__[\"age\"] = 1000"
   ]
  },
  {
   "cell_type": "code",
   "execution_count": 122,
   "id": "c545f877",
   "metadata": {},
   "outputs": [
    {
     "name": "stdout",
     "output_type": "stream",
     "text": [
      "get <__main__.TableUser object at 0x10ae82350> cls=<class '__main__.TableUser'>\n"
     ]
    },
    {
     "data": {
      "text/plain": [
       "1"
      ]
     },
     "execution_count": 122,
     "metadata": {},
     "output_type": "execute_result"
    }
   ],
   "source": [
    "user.age"
   ]
  },
  {
   "cell_type": "code",
   "execution_count": 126,
   "id": "d3335890",
   "metadata": {},
   "outputs": [
    {
     "name": "stdout",
     "output_type": "stream",
     "text": [
      "set 42 for <__main__.TableUser object at 0x10aa38640>\n",
      "set 1896 for <__main__.TableUser object at 0x10aa38640>\n",
      "set 99 for <__main__.TableUser object at 0x10aa38640>\n"
     ]
    },
    {
     "ename": "BadIntegerError",
     "evalue": "val='99' is not an integer!",
     "output_type": "error",
     "traceback": [
      "\u001b[0;31m---------------------------------------------------------------------------\u001b[0m",
      "\u001b[0;31mBadIntegerError\u001b[0m                           Traceback (most recent call last)",
      "Cell \u001b[0;32mIn[126], line 2\u001b[0m\n\u001b[1;32m      1\u001b[0m user \u001b[38;5;241m=\u001b[39m TableUser(\u001b[38;5;241m42\u001b[39m, \u001b[38;5;241m1896\u001b[39m)\n\u001b[0;32m----> 2\u001b[0m \u001b[43muser\u001b[49m\u001b[38;5;241;43m.\u001b[39;49m\u001b[43mage\u001b[49m \u001b[38;5;241m=\u001b[39m \u001b[38;5;124m\"\u001b[39m\u001b[38;5;124m99\u001b[39m\u001b[38;5;124m\"\u001b[39m\n",
      "Cell \u001b[0;32mIn[123], line 26\u001b[0m, in \u001b[0;36mIntegerField.__set__\u001b[0;34m(self, obj, val)\u001b[0m\n\u001b[1;32m     23\u001b[0m     \u001b[38;5;28;01mreturn\u001b[39;00m\n\u001b[1;32m     25\u001b[0m \u001b[38;5;28;01mif\u001b[39;00m \u001b[38;5;129;01mnot\u001b[39;00m \u001b[38;5;28misinstance\u001b[39m(val, \u001b[38;5;28mint\u001b[39m):\n\u001b[0;32m---> 26\u001b[0m     \u001b[38;5;28;01mraise\u001b[39;00m BadIntegerError(\u001b[38;5;124mf\u001b[39m\u001b[38;5;124m\"\u001b[39m\u001b[38;5;132;01m{\u001b[39;00mval\u001b[38;5;132;01m=}\u001b[39;00m\u001b[38;5;124m is not an integer!\u001b[39m\u001b[38;5;124m\"\u001b[39m)\n\u001b[1;32m     28\u001b[0m \u001b[38;5;28;01mreturn\u001b[39;00m \u001b[38;5;28msetattr\u001b[39m(obj, \u001b[38;5;28mself\u001b[39m\u001b[38;5;241m.\u001b[39m_instance_attr_name, val)\n",
      "\u001b[0;31mBadIntegerError\u001b[0m: val='99' is not an integer!"
     ]
    }
   ],
   "source": [
    "user = TableUser(42, 1896)\n",
    "user.age = \"99\""
   ]
  },
  {
   "cell_type": "code",
   "execution_count": null,
   "id": "142524de",
   "metadata": {},
   "outputs": [],
   "source": []
  },
  {
   "cell_type": "code",
   "execution_count": null,
   "id": "e07ee0de",
   "metadata": {},
   "outputs": [],
   "source": []
  },
  {
   "cell_type": "code",
   "execution_count": null,
   "id": "77a2d6e0",
   "metadata": {},
   "outputs": [],
   "source": []
  },
  {
   "cell_type": "code",
   "execution_count": 145,
   "id": "1d708e31",
   "metadata": {},
   "outputs": [],
   "source": [
    "class AMeta(type):\n",
    "    def __new__(mcs, name, bases, classdict, **kwargs):\n",
    "        cls = super().__new__(mcs, name, bases, classdict)\n",
    "        print('Meta __new__', cls)\n",
    "\n",
    "        return cls\n",
    "\n",
    "    def __init__(cls, name, bases, classdict, **kwargs):\n",
    "        print('Meta __init__', cls, name, bases, classdict)\n",
    "        super().__init__(name, bases, classdict, **kwargs)\n",
    "\n",
    "    def __call__(cls, *args, **kwargs):\n",
    "        print('Meta __call__', cls, args, kwargs)\n",
    "        return super().__call__(*args, **kwargs)\n",
    "\n",
    "    @classmethod\n",
    "    def __prepare__(mcs, name, bases, **kwargs):\n",
    "        print('Meta __prepare__', mcs, name, bases, kwargs)\n",
    "        \n",
    "        return {'added_attr_a': 2, 'added_attr_b': 99}"
   ]
  },
  {
   "cell_type": "code",
   "execution_count": 159,
   "id": "f84788e1",
   "metadata": {},
   "outputs": [
    {
     "name": "stdout",
     "output_type": "stream",
     "text": [
      "Meta __prepare__ <class '__main__.AMeta'> TableChair () {}\n",
      "Meta __new__ <class '__main__.TableChair'>\n",
      "Meta __init__ <class '__main__.TableChair'> TableChair () {'added_attr_a': 2, 'added_attr_b': 99, '__module__': '__main__', '__qualname__': 'TableChair', 'name': 'some_name', '__new__': <function TableChair.__new__ at 0x10aa25000>, '__init__': <function TableChair.__init__ at 0x10aa268c0>, '__classcell__': <cell at 0x10a9a8310: AMeta object at 0x7fd99402a980>}\n"
     ]
    }
   ],
   "source": [
    "class TableChair(metaclass=AMeta):\n",
    "    name = \"some_name\"\n",
    "    \n",
    "    def __new__(cls, *args, **kwargs):\n",
    "        print(f\"TableChair.__new__ {cls}\", args, kwargs)\n",
    "        \n",
    "        return super().__new__(cls)\n",
    "    \n",
    "    def __init__(self, val):\n",
    "        self.val = val\n",
    "        print(f\"TableChair.__init__ {val=}\")\n",
    "    "
   ]
  },
  {
   "cell_type": "code",
   "execution_count": 160,
   "id": "46d66eff",
   "metadata": {},
   "outputs": [
    {
     "name": "stdout",
     "output_type": "stream",
     "text": [
      "Meta __call__ <class '__main__.TableChair'> (99,) {}\n",
      "TableChair.__new__ <class '__main__.TableChair'> (99,) {}\n",
      "TableChair.__init__ val=99\n"
     ]
    }
   ],
   "source": [
    "chair = TableChair(99)"
   ]
  },
  {
   "cell_type": "code",
   "execution_count": 153,
   "id": "49d7034c",
   "metadata": {},
   "outputs": [
    {
     "data": {
      "text/plain": [
       "NoneType"
      ]
     },
     "execution_count": 153,
     "metadata": {},
     "output_type": "execute_result"
    }
   ],
   "source": [
    "type(chair)"
   ]
  },
  {
   "cell_type": "code",
   "execution_count": null,
   "id": "f840723f",
   "metadata": {},
   "outputs": [],
   "source": []
  },
  {
   "cell_type": "code",
   "execution_count": 147,
   "id": "2d1ada7d",
   "metadata": {},
   "outputs": [
    {
     "data": {
      "text/plain": [
       "__main__.AMeta"
      ]
     },
     "execution_count": 147,
     "metadata": {},
     "output_type": "execute_result"
    }
   ],
   "source": [
    "type(TableChair)"
   ]
  },
  {
   "cell_type": "code",
   "execution_count": 149,
   "id": "5561a14b",
   "metadata": {},
   "outputs": [
    {
     "data": {
      "text/plain": [
       "(True, True)"
      ]
     },
     "execution_count": 149,
     "metadata": {},
     "output_type": "execute_result"
    }
   ],
   "source": [
    "isinstance(TableChair, type), isinstance(TableChair, object)"
   ]
  },
  {
   "cell_type": "code",
   "execution_count": 150,
   "id": "80c2c32d",
   "metadata": {},
   "outputs": [
    {
     "data": {
      "text/plain": [
       "(True, True)"
      ]
     },
     "execution_count": 150,
     "metadata": {},
     "output_type": "execute_result"
    }
   ],
   "source": [
    "isinstance(type, object), isinstance(object, type)"
   ]
  },
  {
   "cell_type": "code",
   "execution_count": null,
   "id": "e7f62dac",
   "metadata": {},
   "outputs": [],
   "source": []
  },
  {
   "cell_type": "code",
   "execution_count": null,
   "id": "75e338a3",
   "metadata": {},
   "outputs": [],
   "source": []
  },
  {
   "cell_type": "code",
   "execution_count": 140,
   "id": "bdde44ee",
   "metadata": {},
   "outputs": [
    {
     "name": "stdout",
     "output_type": "stream",
     "text": [
      "Meta __new__ <class '__main__.Boo'>\n",
      "Meta __init__ <class '__main__.Boo'> Boo (<class '__main__.Foo'>,) {'attr': 99}\n"
     ]
    }
   ],
   "source": [
    "Boo = AMeta(\"Boo\", (Foo,), {\"attr\": 99})"
   ]
  },
  {
   "cell_type": "code",
   "execution_count": 141,
   "id": "8a53511f",
   "metadata": {},
   "outputs": [
    {
     "data": {
      "text/plain": [
       "__main__.AMeta"
      ]
     },
     "execution_count": 141,
     "metadata": {},
     "output_type": "execute_result"
    }
   ],
   "source": [
    "type(Boo)"
   ]
  },
  {
   "cell_type": "code",
   "execution_count": 143,
   "id": "ca37dcf6",
   "metadata": {},
   "outputs": [
    {
     "data": {
      "text/plain": [
       "(True, True)"
      ]
     },
     "execution_count": 143,
     "metadata": {},
     "output_type": "execute_result"
    }
   ],
   "source": [
    "isinstance(Boo, AMeta), isinstance(Boo, type)"
   ]
  },
  {
   "cell_type": "code",
   "execution_count": 144,
   "id": "683e12e7",
   "metadata": {},
   "outputs": [
    {
     "data": {
      "text/plain": [
       "99"
      ]
     },
     "execution_count": 144,
     "metadata": {},
     "output_type": "execute_result"
    }
   ],
   "source": [
    "Boo.attr"
   ]
  },
  {
   "cell_type": "code",
   "execution_count": null,
   "id": "041884a5",
   "metadata": {},
   "outputs": [],
   "source": []
  },
  {
   "cell_type": "code",
   "execution_count": 128,
   "id": "c694e596",
   "metadata": {},
   "outputs": [],
   "source": [
    "Foo = type(\"Foo\", (), {})"
   ]
  },
  {
   "cell_type": "code",
   "execution_count": 132,
   "id": "d62bfc75",
   "metadata": {},
   "outputs": [
    {
     "name": "stdout",
     "output_type": "stream",
     "text": [
      "<__main__.Foo object at 0x10af125f0>\n"
     ]
    }
   ],
   "source": [
    "x = Foo()\n",
    "print(x)"
   ]
  },
  {
   "cell_type": "code",
   "execution_count": 137,
   "id": "c569d816",
   "metadata": {},
   "outputs": [
    {
     "data": {
      "text/plain": [
       "(__main__.Foo, type, type, type)"
      ]
     },
     "execution_count": 137,
     "metadata": {},
     "output_type": "execute_result"
    }
   ],
   "source": [
    "type(x), type(Foo), type(type), type(object)"
   ]
  },
  {
   "cell_type": "code",
   "execution_count": null,
   "id": "73ab23e0",
   "metadata": {},
   "outputs": [],
   "source": []
  },
  {
   "cell_type": "code",
   "execution_count": null,
   "id": "5e34c09f",
   "metadata": {},
   "outputs": [],
   "source": []
  },
  {
   "cell_type": "code",
   "execution_count": 161,
   "id": "6df61f69",
   "metadata": {},
   "outputs": [
    {
     "name": "stdout",
     "output_type": "stream",
     "text": [
      "init with 10\n",
      "init with 20\n",
      "True 20 20\n"
     ]
    }
   ],
   "source": [
    "class Singleton:\n",
    "    _instance = None\n",
    "\n",
    "    def __new__(cls, *args, **kwargs):\n",
    "        if cls._instance is None:\n",
    "            cls._instance = super().__new__(cls)\n",
    "        return cls._instance\n",
    "\n",
    "\n",
    "class Chair(Singleton):\n",
    "    def __init__(self, val):\n",
    "        print(f\"init with {val}\")\n",
    "        self.val = val\n",
    "       \n",
    "    \n",
    "c1 = Chair(10)\n",
    "c2 = Chair(20)\n",
    "\n",
    "\n",
    "print(c1 is c2, c1.val, c2.val)"
   ]
  },
  {
   "cell_type": "code",
   "execution_count": 166,
   "id": "c904d949",
   "metadata": {},
   "outputs": [
    {
     "name": "stdout",
     "output_type": "stream",
     "text": [
      "========\n",
      "Meta __call__ <class '__main__.Sofa'> (10,) {}\n",
      "Sofa.__new__ <class '__main__.Sofa'> (10,) {}\n",
      "Sofa.init with 10\n",
      "Meta __call__ <class '__main__.Sofa'> (20,) {}\n",
      "True 10 10\n"
     ]
    }
   ],
   "source": [
    "class MetaSingleton(type):\n",
    "    _instances = {}\n",
    "\n",
    "    def __call__(cls, *args, **kwargs):\n",
    "        print('Meta __call__', cls, args, kwargs)\n",
    "        \n",
    "        if cls not in cls._instances:\n",
    "            cls._instances[cls] = super().__call__(*args, **kwargs)\n",
    "\n",
    "        return cls._instances[cls]\n",
    "\n",
    "\n",
    "class Sofa(metaclass=MetaSingleton):\n",
    "    def __new__(cls, *args, **kwargs):\n",
    "        print(f\"Sofa.__new__ {cls}\", args, kwargs)\n",
    "        \n",
    "        return super().__new__(cls)\n",
    "\n",
    "    def __init__(self, val):\n",
    "        print(f\"Sofa.init with {val}\")\n",
    "        self.val = val\n",
    "\n",
    "\n",
    "print(\"========\")\n",
    "\n",
    "s1 = Sofa(10)\n",
    "s2 = Sofa(20)\n",
    "\n",
    "\n",
    "print(s1 is s2, s1.val, s2.val)"
   ]
  },
  {
   "cell_type": "code",
   "execution_count": 167,
   "id": "86a70657",
   "metadata": {},
   "outputs": [
    {
     "data": {
      "text/plain": [
       "{__main__.Sofa: <__main__.Sofa at 0x10ae80280>}"
      ]
     },
     "execution_count": 167,
     "metadata": {},
     "output_type": "execute_result"
    }
   ],
   "source": [
    "Sofa._instances"
   ]
  },
  {
   "cell_type": "code",
   "execution_count": 168,
   "id": "f033ce1b",
   "metadata": {},
   "outputs": [],
   "source": [
    "class SoftSofa(Sofa):\n",
    "    pass"
   ]
  },
  {
   "cell_type": "code",
   "execution_count": 169,
   "id": "f490d052",
   "metadata": {},
   "outputs": [
    {
     "name": "stdout",
     "output_type": "stream",
     "text": [
      "Meta __call__ <class '__main__.SoftSofa'> (11,) {}\n",
      "Sofa.__new__ <class '__main__.SoftSofa'> (11,) {}\n",
      "Sofa.init with 11\n",
      "Meta __call__ <class '__main__.SoftSofa'> (22,) {}\n"
     ]
    },
    {
     "data": {
      "text/plain": [
       "True"
      ]
     },
     "execution_count": 169,
     "metadata": {},
     "output_type": "execute_result"
    }
   ],
   "source": [
    "soft1 = SoftSofa(11)\n",
    "soft2 = SoftSofa(22)\n",
    "\n",
    "soft1 is soft2"
   ]
  },
  {
   "cell_type": "code",
   "execution_count": 170,
   "id": "69841eb7",
   "metadata": {},
   "outputs": [
    {
     "data": {
      "text/plain": [
       "{__main__.Sofa: <__main__.Sofa at 0x10ae80280>,\n",
       " __main__.SoftSofa: <__main__.SoftSofa at 0x10ae80250>}"
      ]
     },
     "execution_count": 170,
     "metadata": {},
     "output_type": "execute_result"
    }
   ],
   "source": [
    "SoftSofa._instances"
   ]
  },
  {
   "cell_type": "code",
   "execution_count": 171,
   "id": "8508e5cb",
   "metadata": {},
   "outputs": [
    {
     "data": {
      "text/plain": [
       "{__main__.Sofa: <__main__.Sofa at 0x10ae80280>,\n",
       " __main__.SoftSofa: <__main__.SoftSofa at 0x10ae80250>}"
      ]
     },
     "execution_count": 171,
     "metadata": {},
     "output_type": "execute_result"
    }
   ],
   "source": [
    "Sofa._instances"
   ]
  },
  {
   "cell_type": "code",
   "execution_count": null,
   "id": "31a94356",
   "metadata": {},
   "outputs": [],
   "source": []
  },
  {
   "cell_type": "code",
   "execution_count": null,
   "id": "169d87da",
   "metadata": {},
   "outputs": [],
   "source": []
  },
  {
   "cell_type": "code",
   "execution_count": 192,
   "id": "d401147c",
   "metadata": {},
   "outputs": [],
   "source": [
    "class Shape:\n",
    "    def __init__(self, name):\n",
    "        self.name = name\n",
    "        self.points = []\n",
    "    \n",
    "    def draw(self):\n",
    "        print(f\"{self.__class__.__name__}.draw\")\n",
    "\n",
    "        \n",
    "class ColoredShape(Shape):\n",
    "    def __init__(self, color, *args, **kwargs):\n",
    "        self.color = color\n",
    "        super().__init__(*args, **kwargs)\n",
    "        \n",
    "    def draw(self):\n",
    "        print(f\"ColoredShape {self.color=}\")\n",
    "        \n",
    "        super().draw()\n",
    "        \n",
    "        \n",
    "class BoldShape(Shape):\n",
    "    def __init__(self, width, *args, **kwargs):\n",
    "        self.width = width\n",
    "        super().__init__(*args, **kwargs)\n",
    "        \n",
    "    def draw(self):\n",
    "        print(f\"BoldShape {self.width=}\")\n",
    "        \n",
    "        super().draw()\n",
    "\n",
    "        \n",
    "class BoldColoredShape(BoldShape, ColoredShape):\n",
    "\n",
    "    def draw(self):\n",
    "        print(f\"BoldColoredShape {self.__dict__=}\")\n",
    "        \n",
    "        super().draw()"
   ]
  },
  {
   "cell_type": "code",
   "execution_count": 175,
   "id": "2f54648b",
   "metadata": {},
   "outputs": [
    {
     "name": "stdout",
     "output_type": "stream",
     "text": [
      "ColoredShape.draw\n"
     ]
    }
   ],
   "source": [
    "col = ColoredShape(\"green\", \"circle\")\n",
    "col.draw()"
   ]
  },
  {
   "cell_type": "code",
   "execution_count": 180,
   "id": "07b439c6",
   "metadata": {},
   "outputs": [
    {
     "name": "stdout",
     "output_type": "stream",
     "text": [
      "ColoredShape self.color='green'\n"
     ]
    }
   ],
   "source": [
    "col = ColoredShape(\"green\", \"circle\")\n",
    "col.draw()"
   ]
  },
  {
   "cell_type": "code",
   "execution_count": 182,
   "id": "dc7dccc5",
   "metadata": {},
   "outputs": [
    {
     "name": "stdout",
     "output_type": "stream",
     "text": [
      "ColoredShape self.color='green'\n",
      "ColoredShape.draw\n"
     ]
    }
   ],
   "source": [
    "col = ColoredShape(\"green\", \"circle\")\n",
    "col.draw()"
   ]
  },
  {
   "cell_type": "code",
   "execution_count": 184,
   "id": "196a976d",
   "metadata": {},
   "outputs": [
    {
     "name": "stdout",
     "output_type": "stream",
     "text": [
      "BoldShape self.width=14\n",
      "BoldShape.draw\n"
     ]
    }
   ],
   "source": [
    "bold = BoldShape(14, \"circle\")\n",
    "bold.draw()"
   ]
  },
  {
   "cell_type": "code",
   "execution_count": 188,
   "id": "1090aa17",
   "metadata": {},
   "outputs": [
    {
     "data": {
      "text/plain": [
       "[__main__.BoldColoredShape,\n",
       " __main__.BoldShape,\n",
       " __main__.ColoredShape,\n",
       " __main__.Shape,\n",
       " object]"
      ]
     },
     "execution_count": 188,
     "metadata": {},
     "output_type": "execute_result"
    }
   ],
   "source": [
    "BoldColoredShape.mro()"
   ]
  },
  {
   "cell_type": "code",
   "execution_count": 193,
   "id": "16d1893e",
   "metadata": {},
   "outputs": [],
   "source": [
    "bc = BoldColoredShape(42, \"yellow\", \"circle\")"
   ]
  },
  {
   "cell_type": "code",
   "execution_count": 194,
   "id": "474d0682",
   "metadata": {},
   "outputs": [
    {
     "data": {
      "text/plain": [
       "{'width': 42, 'color': 'yellow', 'name': 'circle', 'points': []}"
      ]
     },
     "execution_count": 194,
     "metadata": {},
     "output_type": "execute_result"
    }
   ],
   "source": [
    "bc.__dict__"
   ]
  },
  {
   "cell_type": "code",
   "execution_count": 195,
   "id": "0792f1e3",
   "metadata": {},
   "outputs": [
    {
     "name": "stdout",
     "output_type": "stream",
     "text": [
      "BoldColoredShape self.__dict__={'width': 42, 'color': 'yellow', 'name': 'circle', 'points': []}\n",
      "BoldShape self.width=42\n",
      "ColoredShape self.color='yellow'\n",
      "BoldColoredShape.draw\n"
     ]
    }
   ],
   "source": [
    "bc.draw()"
   ]
  },
  {
   "cell_type": "code",
   "execution_count": null,
   "id": "0400e478",
   "metadata": {},
   "outputs": [],
   "source": []
  }
 ],
 "metadata": {
  "kernelspec": {
   "display_name": "Python 3 (ipykernel)",
   "language": "python",
   "name": "python3"
  },
  "language_info": {
   "codemirror_mode": {
    "name": "ipython",
    "version": 3
   },
   "file_extension": ".py",
   "mimetype": "text/x-python",
   "name": "python",
   "nbconvert_exporter": "python",
   "pygments_lexer": "ipython3",
   "version": "3.10.2"
  }
 },
 "nbformat": 4,
 "nbformat_minor": 5
}
